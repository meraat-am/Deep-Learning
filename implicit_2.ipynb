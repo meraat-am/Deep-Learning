{
  "nbformat": 4,
  "nbformat_minor": 0,
  "metadata": {
    "accelerator": "GPU",
    "colab": {
      "name": "implicit_1.ipynb",
      "provenance": [],
      "collapsed_sections": [
        "1cGNAPeu-Zam",
        "kOS_gc8rcsSg",
        "PST9OWyld6Y-"
      ],
      "authorship_tag": "ABX9TyM0lnsKq0Vyvc6DCjbU12fk",
      "include_colab_link": true
    },
    "kernelspec": {
      "display_name": "Python 3",
      "name": "python3"
    },
    "widgets": {
      "application/vnd.jupyter.widget-state+json": {
        "7f248dba4c6549b88efcafbac2909b6e": {
          "model_module": "@jupyter-widgets/controls",
          "model_name": "HBoxModel",
          "state": {
            "_view_name": "HBoxView",
            "_dom_classes": [],
            "_model_name": "HBoxModel",
            "_view_module": "@jupyter-widgets/controls",
            "_model_module_version": "1.5.0",
            "_view_count": null,
            "_view_module_version": "1.5.0",
            "box_style": "",
            "layout": "IPY_MODEL_30288e8608c1415b83ae8c09bc16c318",
            "_model_module": "@jupyter-widgets/controls",
            "children": [
              "IPY_MODEL_d27be93d00c14aed9fab5b9a0b2942f9",
              "IPY_MODEL_16a59ed14e6c43b3924a74d6e9652eac"
            ]
          }
        },
        "30288e8608c1415b83ae8c09bc16c318": {
          "model_module": "@jupyter-widgets/base",
          "model_name": "LayoutModel",
          "state": {
            "_view_name": "LayoutView",
            "grid_template_rows": null,
            "right": null,
            "justify_content": null,
            "_view_module": "@jupyter-widgets/base",
            "overflow": null,
            "_model_module_version": "1.2.0",
            "_view_count": null,
            "flex_flow": null,
            "width": null,
            "min_width": null,
            "border": null,
            "align_items": null,
            "bottom": null,
            "_model_module": "@jupyter-widgets/base",
            "top": null,
            "grid_column": null,
            "overflow_y": null,
            "overflow_x": null,
            "grid_auto_flow": null,
            "grid_area": null,
            "grid_template_columns": null,
            "flex": null,
            "_model_name": "LayoutModel",
            "justify_items": null,
            "grid_row": null,
            "max_height": null,
            "align_content": null,
            "visibility": null,
            "align_self": null,
            "height": null,
            "min_height": null,
            "padding": null,
            "grid_auto_rows": null,
            "grid_gap": null,
            "max_width": null,
            "order": null,
            "_view_module_version": "1.2.0",
            "grid_template_areas": null,
            "object_position": null,
            "object_fit": null,
            "grid_auto_columns": null,
            "margin": null,
            "display": null,
            "left": null
          }
        },
        "d27be93d00c14aed9fab5b9a0b2942f9": {
          "model_module": "@jupyter-widgets/controls",
          "model_name": "FloatProgressModel",
          "state": {
            "_view_name": "ProgressView",
            "style": "IPY_MODEL_184d22a00c684637b43c77a0835bb238",
            "_dom_classes": [],
            "description": "100%",
            "_model_name": "FloatProgressModel",
            "bar_style": "success",
            "max": 40,
            "_view_module": "@jupyter-widgets/controls",
            "_model_module_version": "1.5.0",
            "value": 40,
            "_view_count": null,
            "_view_module_version": "1.5.0",
            "orientation": "horizontal",
            "min": 0,
            "description_tooltip": null,
            "_model_module": "@jupyter-widgets/controls",
            "layout": "IPY_MODEL_ffbf5bbf8f354b3396c377f682cac506"
          }
        },
        "16a59ed14e6c43b3924a74d6e9652eac": {
          "model_module": "@jupyter-widgets/controls",
          "model_name": "HTMLModel",
          "state": {
            "_view_name": "HTMLView",
            "style": "IPY_MODEL_1d82919fcfc74dc69cd8b274567eca06",
            "_dom_classes": [],
            "description": "",
            "_model_name": "HTMLModel",
            "placeholder": "​",
            "_view_module": "@jupyter-widgets/controls",
            "_model_module_version": "1.5.0",
            "value": " 40/40 [00:13&lt;00:00,  2.87it/s]",
            "_view_count": null,
            "_view_module_version": "1.5.0",
            "description_tooltip": null,
            "_model_module": "@jupyter-widgets/controls",
            "layout": "IPY_MODEL_61aef579608a4dcfbc82e5906d3a956a"
          }
        },
        "184d22a00c684637b43c77a0835bb238": {
          "model_module": "@jupyter-widgets/controls",
          "model_name": "ProgressStyleModel",
          "state": {
            "_view_name": "StyleView",
            "_model_name": "ProgressStyleModel",
            "description_width": "initial",
            "_view_module": "@jupyter-widgets/base",
            "_model_module_version": "1.5.0",
            "_view_count": null,
            "_view_module_version": "1.2.0",
            "bar_color": null,
            "_model_module": "@jupyter-widgets/controls"
          }
        },
        "ffbf5bbf8f354b3396c377f682cac506": {
          "model_module": "@jupyter-widgets/base",
          "model_name": "LayoutModel",
          "state": {
            "_view_name": "LayoutView",
            "grid_template_rows": null,
            "right": null,
            "justify_content": null,
            "_view_module": "@jupyter-widgets/base",
            "overflow": null,
            "_model_module_version": "1.2.0",
            "_view_count": null,
            "flex_flow": null,
            "width": null,
            "min_width": null,
            "border": null,
            "align_items": null,
            "bottom": null,
            "_model_module": "@jupyter-widgets/base",
            "top": null,
            "grid_column": null,
            "overflow_y": null,
            "overflow_x": null,
            "grid_auto_flow": null,
            "grid_area": null,
            "grid_template_columns": null,
            "flex": null,
            "_model_name": "LayoutModel",
            "justify_items": null,
            "grid_row": null,
            "max_height": null,
            "align_content": null,
            "visibility": null,
            "align_self": null,
            "height": null,
            "min_height": null,
            "padding": null,
            "grid_auto_rows": null,
            "grid_gap": null,
            "max_width": null,
            "order": null,
            "_view_module_version": "1.2.0",
            "grid_template_areas": null,
            "object_position": null,
            "object_fit": null,
            "grid_auto_columns": null,
            "margin": null,
            "display": null,
            "left": null
          }
        },
        "1d82919fcfc74dc69cd8b274567eca06": {
          "model_module": "@jupyter-widgets/controls",
          "model_name": "DescriptionStyleModel",
          "state": {
            "_view_name": "StyleView",
            "_model_name": "DescriptionStyleModel",
            "description_width": "",
            "_view_module": "@jupyter-widgets/base",
            "_model_module_version": "1.5.0",
            "_view_count": null,
            "_view_module_version": "1.2.0",
            "_model_module": "@jupyter-widgets/controls"
          }
        },
        "61aef579608a4dcfbc82e5906d3a956a": {
          "model_module": "@jupyter-widgets/base",
          "model_name": "LayoutModel",
          "state": {
            "_view_name": "LayoutView",
            "grid_template_rows": null,
            "right": null,
            "justify_content": null,
            "_view_module": "@jupyter-widgets/base",
            "overflow": null,
            "_model_module_version": "1.2.0",
            "_view_count": null,
            "flex_flow": null,
            "width": null,
            "min_width": null,
            "border": null,
            "align_items": null,
            "bottom": null,
            "_model_module": "@jupyter-widgets/base",
            "top": null,
            "grid_column": null,
            "overflow_y": null,
            "overflow_x": null,
            "grid_auto_flow": null,
            "grid_area": null,
            "grid_template_columns": null,
            "flex": null,
            "_model_name": "LayoutModel",
            "justify_items": null,
            "grid_row": null,
            "max_height": null,
            "align_content": null,
            "visibility": null,
            "align_self": null,
            "height": null,
            "min_height": null,
            "padding": null,
            "grid_auto_rows": null,
            "grid_gap": null,
            "max_width": null,
            "order": null,
            "_view_module_version": "1.2.0",
            "grid_template_areas": null,
            "object_position": null,
            "object_fit": null,
            "grid_auto_columns": null,
            "margin": null,
            "display": null,
            "left": null
          }
        },
        "e7be9c6d2d89449fa898ca4356bc70b4": {
          "model_module": "@jupyter-widgets/controls",
          "model_name": "HBoxModel",
          "state": {
            "_view_name": "HBoxView",
            "_dom_classes": [],
            "_model_name": "HBoxModel",
            "_view_module": "@jupyter-widgets/controls",
            "_model_module_version": "1.5.0",
            "_view_count": null,
            "_view_module_version": "1.5.0",
            "box_style": "",
            "layout": "IPY_MODEL_b2a118542a2d485589715236796ce15b",
            "_model_module": "@jupyter-widgets/controls",
            "children": [
              "IPY_MODEL_ed11219d81c44b5695082404476d089b",
              "IPY_MODEL_7e478c9d65da43289cdae67a2cd8865d"
            ]
          }
        },
        "b2a118542a2d485589715236796ce15b": {
          "model_module": "@jupyter-widgets/base",
          "model_name": "LayoutModel",
          "state": {
            "_view_name": "LayoutView",
            "grid_template_rows": null,
            "right": null,
            "justify_content": null,
            "_view_module": "@jupyter-widgets/base",
            "overflow": null,
            "_model_module_version": "1.2.0",
            "_view_count": null,
            "flex_flow": null,
            "width": null,
            "min_width": null,
            "border": null,
            "align_items": null,
            "bottom": null,
            "_model_module": "@jupyter-widgets/base",
            "top": null,
            "grid_column": null,
            "overflow_y": null,
            "overflow_x": null,
            "grid_auto_flow": null,
            "grid_area": null,
            "grid_template_columns": null,
            "flex": null,
            "_model_name": "LayoutModel",
            "justify_items": null,
            "grid_row": null,
            "max_height": null,
            "align_content": null,
            "visibility": null,
            "align_self": null,
            "height": null,
            "min_height": null,
            "padding": null,
            "grid_auto_rows": null,
            "grid_gap": null,
            "max_width": null,
            "order": null,
            "_view_module_version": "1.2.0",
            "grid_template_areas": null,
            "object_position": null,
            "object_fit": null,
            "grid_auto_columns": null,
            "margin": null,
            "display": null,
            "left": null
          }
        },
        "ed11219d81c44b5695082404476d089b": {
          "model_module": "@jupyter-widgets/controls",
          "model_name": "FloatProgressModel",
          "state": {
            "_view_name": "ProgressView",
            "style": "IPY_MODEL_27b6d3937e9b4a3ca75fbf41465ac552",
            "_dom_classes": [],
            "description": "100%",
            "_model_name": "FloatProgressModel",
            "bar_style": "success",
            "max": 56102,
            "_view_module": "@jupyter-widgets/controls",
            "_model_module_version": "1.5.0",
            "value": 56102,
            "_view_count": null,
            "_view_module_version": "1.5.0",
            "orientation": "horizontal",
            "min": 0,
            "description_tooltip": null,
            "_model_module": "@jupyter-widgets/controls",
            "layout": "IPY_MODEL_fb5de74a2e4f48a39f0c527fd71951f6"
          }
        },
        "7e478c9d65da43289cdae67a2cd8865d": {
          "model_module": "@jupyter-widgets/controls",
          "model_name": "HTMLModel",
          "state": {
            "_view_name": "HTMLView",
            "style": "IPY_MODEL_bd229986e7e04d2abe9948532f94e422",
            "_dom_classes": [],
            "description": "",
            "_model_name": "HTMLModel",
            "placeholder": "​",
            "_view_module": "@jupyter-widgets/controls",
            "_model_module_version": "1.5.0",
            "value": " 56102/56102 [01:48&lt;00:00, 519.08it/s]",
            "_view_count": null,
            "_view_module_version": "1.5.0",
            "description_tooltip": null,
            "_model_module": "@jupyter-widgets/controls",
            "layout": "IPY_MODEL_c42bfb6bc8234951bd9f3af839f5cba2"
          }
        },
        "27b6d3937e9b4a3ca75fbf41465ac552": {
          "model_module": "@jupyter-widgets/controls",
          "model_name": "ProgressStyleModel",
          "state": {
            "_view_name": "StyleView",
            "_model_name": "ProgressStyleModel",
            "description_width": "initial",
            "_view_module": "@jupyter-widgets/base",
            "_model_module_version": "1.5.0",
            "_view_count": null,
            "_view_module_version": "1.2.0",
            "bar_color": null,
            "_model_module": "@jupyter-widgets/controls"
          }
        },
        "fb5de74a2e4f48a39f0c527fd71951f6": {
          "model_module": "@jupyter-widgets/base",
          "model_name": "LayoutModel",
          "state": {
            "_view_name": "LayoutView",
            "grid_template_rows": null,
            "right": null,
            "justify_content": null,
            "_view_module": "@jupyter-widgets/base",
            "overflow": null,
            "_model_module_version": "1.2.0",
            "_view_count": null,
            "flex_flow": null,
            "width": null,
            "min_width": null,
            "border": null,
            "align_items": null,
            "bottom": null,
            "_model_module": "@jupyter-widgets/base",
            "top": null,
            "grid_column": null,
            "overflow_y": null,
            "overflow_x": null,
            "grid_auto_flow": null,
            "grid_area": null,
            "grid_template_columns": null,
            "flex": null,
            "_model_name": "LayoutModel",
            "justify_items": null,
            "grid_row": null,
            "max_height": null,
            "align_content": null,
            "visibility": null,
            "align_self": null,
            "height": null,
            "min_height": null,
            "padding": null,
            "grid_auto_rows": null,
            "grid_gap": null,
            "max_width": null,
            "order": null,
            "_view_module_version": "1.2.0",
            "grid_template_areas": null,
            "object_position": null,
            "object_fit": null,
            "grid_auto_columns": null,
            "margin": null,
            "display": null,
            "left": null
          }
        },
        "bd229986e7e04d2abe9948532f94e422": {
          "model_module": "@jupyter-widgets/controls",
          "model_name": "DescriptionStyleModel",
          "state": {
            "_view_name": "StyleView",
            "_model_name": "DescriptionStyleModel",
            "description_width": "",
            "_view_module": "@jupyter-widgets/base",
            "_model_module_version": "1.5.0",
            "_view_count": null,
            "_view_module_version": "1.2.0",
            "_model_module": "@jupyter-widgets/controls"
          }
        },
        "c42bfb6bc8234951bd9f3af839f5cba2": {
          "model_module": "@jupyter-widgets/base",
          "model_name": "LayoutModel",
          "state": {
            "_view_name": "LayoutView",
            "grid_template_rows": null,
            "right": null,
            "justify_content": null,
            "_view_module": "@jupyter-widgets/base",
            "overflow": null,
            "_model_module_version": "1.2.0",
            "_view_count": null,
            "flex_flow": null,
            "width": null,
            "min_width": null,
            "border": null,
            "align_items": null,
            "bottom": null,
            "_model_module": "@jupyter-widgets/base",
            "top": null,
            "grid_column": null,
            "overflow_y": null,
            "overflow_x": null,
            "grid_auto_flow": null,
            "grid_area": null,
            "grid_template_columns": null,
            "flex": null,
            "_model_name": "LayoutModel",
            "justify_items": null,
            "grid_row": null,
            "max_height": null,
            "align_content": null,
            "visibility": null,
            "align_self": null,
            "height": null,
            "min_height": null,
            "padding": null,
            "grid_auto_rows": null,
            "grid_gap": null,
            "max_width": null,
            "order": null,
            "_view_module_version": "1.2.0",
            "grid_template_areas": null,
            "object_position": null,
            "object_fit": null,
            "grid_auto_columns": null,
            "margin": null,
            "display": null,
            "left": null
          }
        },
        "2be1fa187ace4cb387f2a563d2c86e20": {
          "model_module": "@jupyter-widgets/controls",
          "model_name": "HBoxModel",
          "state": {
            "_view_name": "HBoxView",
            "_dom_classes": [],
            "_model_name": "HBoxModel",
            "_view_module": "@jupyter-widgets/controls",
            "_model_module_version": "1.5.0",
            "_view_count": null,
            "_view_module_version": "1.5.0",
            "box_style": "",
            "layout": "IPY_MODEL_2952fc2ae34d4b59ba0c9ab1ac6905bb",
            "_model_module": "@jupyter-widgets/controls",
            "children": [
              "IPY_MODEL_db1c1d18a26c445d8aec670b83f30997",
              "IPY_MODEL_7aef9625124541df9a000f71dd29aeaf"
            ]
          }
        },
        "2952fc2ae34d4b59ba0c9ab1ac6905bb": {
          "model_module": "@jupyter-widgets/base",
          "model_name": "LayoutModel",
          "state": {
            "_view_name": "LayoutView",
            "grid_template_rows": null,
            "right": null,
            "justify_content": null,
            "_view_module": "@jupyter-widgets/base",
            "overflow": null,
            "_model_module_version": "1.2.0",
            "_view_count": null,
            "flex_flow": null,
            "width": null,
            "min_width": null,
            "border": null,
            "align_items": null,
            "bottom": null,
            "_model_module": "@jupyter-widgets/base",
            "top": null,
            "grid_column": null,
            "overflow_y": null,
            "overflow_x": null,
            "grid_auto_flow": null,
            "grid_area": null,
            "grid_template_columns": null,
            "flex": null,
            "_model_name": "LayoutModel",
            "justify_items": null,
            "grid_row": null,
            "max_height": null,
            "align_content": null,
            "visibility": null,
            "align_self": null,
            "height": null,
            "min_height": null,
            "padding": null,
            "grid_auto_rows": null,
            "grid_gap": null,
            "max_width": null,
            "order": null,
            "_view_module_version": "1.2.0",
            "grid_template_areas": null,
            "object_position": null,
            "object_fit": null,
            "grid_auto_columns": null,
            "margin": null,
            "display": null,
            "left": null
          }
        },
        "db1c1d18a26c445d8aec670b83f30997": {
          "model_module": "@jupyter-widgets/controls",
          "model_name": "FloatProgressModel",
          "state": {
            "_view_name": "ProgressView",
            "style": "IPY_MODEL_5dc9381c11954299a8b330f5bc58898d",
            "_dom_classes": [],
            "description": "100%",
            "_model_name": "FloatProgressModel",
            "bar_style": "success",
            "max": 56102,
            "_view_module": "@jupyter-widgets/controls",
            "_model_module_version": "1.5.0",
            "value": 56102,
            "_view_count": null,
            "_view_module_version": "1.5.0",
            "orientation": "horizontal",
            "min": 0,
            "description_tooltip": null,
            "_model_module": "@jupyter-widgets/controls",
            "layout": "IPY_MODEL_27850f354c57499a9fc600465038581d"
          }
        },
        "7aef9625124541df9a000f71dd29aeaf": {
          "model_module": "@jupyter-widgets/controls",
          "model_name": "HTMLModel",
          "state": {
            "_view_name": "HTMLView",
            "style": "IPY_MODEL_2316102445594ba1a373ff9010c10355",
            "_dom_classes": [],
            "description": "",
            "_model_name": "HTMLModel",
            "placeholder": "​",
            "_view_module": "@jupyter-widgets/controls",
            "_model_module_version": "1.5.0",
            "value": " 56102/56102 [05:22&lt;00:00, 174.14it/s]",
            "_view_count": null,
            "_view_module_version": "1.5.0",
            "description_tooltip": null,
            "_model_module": "@jupyter-widgets/controls",
            "layout": "IPY_MODEL_467cece55b1f4b83b04ea5b28289e3b1"
          }
        },
        "5dc9381c11954299a8b330f5bc58898d": {
          "model_module": "@jupyter-widgets/controls",
          "model_name": "ProgressStyleModel",
          "state": {
            "_view_name": "StyleView",
            "_model_name": "ProgressStyleModel",
            "description_width": "initial",
            "_view_module": "@jupyter-widgets/base",
            "_model_module_version": "1.5.0",
            "_view_count": null,
            "_view_module_version": "1.2.0",
            "bar_color": null,
            "_model_module": "@jupyter-widgets/controls"
          }
        },
        "27850f354c57499a9fc600465038581d": {
          "model_module": "@jupyter-widgets/base",
          "model_name": "LayoutModel",
          "state": {
            "_view_name": "LayoutView",
            "grid_template_rows": null,
            "right": null,
            "justify_content": null,
            "_view_module": "@jupyter-widgets/base",
            "overflow": null,
            "_model_module_version": "1.2.0",
            "_view_count": null,
            "flex_flow": null,
            "width": null,
            "min_width": null,
            "border": null,
            "align_items": null,
            "bottom": null,
            "_model_module": "@jupyter-widgets/base",
            "top": null,
            "grid_column": null,
            "overflow_y": null,
            "overflow_x": null,
            "grid_auto_flow": null,
            "grid_area": null,
            "grid_template_columns": null,
            "flex": null,
            "_model_name": "LayoutModel",
            "justify_items": null,
            "grid_row": null,
            "max_height": null,
            "align_content": null,
            "visibility": null,
            "align_self": null,
            "height": null,
            "min_height": null,
            "padding": null,
            "grid_auto_rows": null,
            "grid_gap": null,
            "max_width": null,
            "order": null,
            "_view_module_version": "1.2.0",
            "grid_template_areas": null,
            "object_position": null,
            "object_fit": null,
            "grid_auto_columns": null,
            "margin": null,
            "display": null,
            "left": null
          }
        },
        "2316102445594ba1a373ff9010c10355": {
          "model_module": "@jupyter-widgets/controls",
          "model_name": "DescriptionStyleModel",
          "state": {
            "_view_name": "StyleView",
            "_model_name": "DescriptionStyleModel",
            "description_width": "",
            "_view_module": "@jupyter-widgets/base",
            "_model_module_version": "1.5.0",
            "_view_count": null,
            "_view_module_version": "1.2.0",
            "_model_module": "@jupyter-widgets/controls"
          }
        },
        "467cece55b1f4b83b04ea5b28289e3b1": {
          "model_module": "@jupyter-widgets/base",
          "model_name": "LayoutModel",
          "state": {
            "_view_name": "LayoutView",
            "grid_template_rows": null,
            "right": null,
            "justify_content": null,
            "_view_module": "@jupyter-widgets/base",
            "overflow": null,
            "_model_module_version": "1.2.0",
            "_view_count": null,
            "flex_flow": null,
            "width": null,
            "min_width": null,
            "border": null,
            "align_items": null,
            "bottom": null,
            "_model_module": "@jupyter-widgets/base",
            "top": null,
            "grid_column": null,
            "overflow_y": null,
            "overflow_x": null,
            "grid_auto_flow": null,
            "grid_area": null,
            "grid_template_columns": null,
            "flex": null,
            "_model_name": "LayoutModel",
            "justify_items": null,
            "grid_row": null,
            "max_height": null,
            "align_content": null,
            "visibility": null,
            "align_self": null,
            "height": null,
            "min_height": null,
            "padding": null,
            "grid_auto_rows": null,
            "grid_gap": null,
            "max_width": null,
            "order": null,
            "_view_module_version": "1.2.0",
            "grid_template_areas": null,
            "object_position": null,
            "object_fit": null,
            "grid_auto_columns": null,
            "margin": null,
            "display": null,
            "left": null
          }
        },
        "f8a6711dc54e4cbfab0076cd7bd88cb7": {
          "model_module": "@jupyter-widgets/controls",
          "model_name": "HBoxModel",
          "state": {
            "_view_name": "HBoxView",
            "_dom_classes": [],
            "_model_name": "HBoxModel",
            "_view_module": "@jupyter-widgets/controls",
            "_model_module_version": "1.5.0",
            "_view_count": null,
            "_view_module_version": "1.5.0",
            "box_style": "",
            "layout": "IPY_MODEL_dc17831ee5a24d2e8dc67bcadcc1283f",
            "_model_module": "@jupyter-widgets/controls",
            "children": [
              "IPY_MODEL_376579e8af3b4043b6a138a01cf0d1a7",
              "IPY_MODEL_1693fa5e6d6b442f9724f79dab513f79"
            ]
          }
        },
        "dc17831ee5a24d2e8dc67bcadcc1283f": {
          "model_module": "@jupyter-widgets/base",
          "model_name": "LayoutModel",
          "state": {
            "_view_name": "LayoutView",
            "grid_template_rows": null,
            "right": null,
            "justify_content": null,
            "_view_module": "@jupyter-widgets/base",
            "overflow": null,
            "_model_module_version": "1.2.0",
            "_view_count": null,
            "flex_flow": null,
            "width": null,
            "min_width": null,
            "border": null,
            "align_items": null,
            "bottom": null,
            "_model_module": "@jupyter-widgets/base",
            "top": null,
            "grid_column": null,
            "overflow_y": null,
            "overflow_x": null,
            "grid_auto_flow": null,
            "grid_area": null,
            "grid_template_columns": null,
            "flex": null,
            "_model_name": "LayoutModel",
            "justify_items": null,
            "grid_row": null,
            "max_height": null,
            "align_content": null,
            "visibility": null,
            "align_self": null,
            "height": null,
            "min_height": null,
            "padding": null,
            "grid_auto_rows": null,
            "grid_gap": null,
            "max_width": null,
            "order": null,
            "_view_module_version": "1.2.0",
            "grid_template_areas": null,
            "object_position": null,
            "object_fit": null,
            "grid_auto_columns": null,
            "margin": null,
            "display": null,
            "left": null
          }
        },
        "376579e8af3b4043b6a138a01cf0d1a7": {
          "model_module": "@jupyter-widgets/controls",
          "model_name": "FloatProgressModel",
          "state": {
            "_view_name": "ProgressView",
            "style": "IPY_MODEL_9f314237c82a4e728e4ab242af508218",
            "_dom_classes": [],
            "description": "100%",
            "_model_name": "FloatProgressModel",
            "bar_style": "success",
            "max": 56102,
            "_view_module": "@jupyter-widgets/controls",
            "_model_module_version": "1.5.0",
            "value": 56102,
            "_view_count": null,
            "_view_module_version": "1.5.0",
            "orientation": "horizontal",
            "min": 0,
            "description_tooltip": null,
            "_model_module": "@jupyter-widgets/controls",
            "layout": "IPY_MODEL_55375b8a6d494daa8136856cbeb4f5f7"
          }
        },
        "1693fa5e6d6b442f9724f79dab513f79": {
          "model_module": "@jupyter-widgets/controls",
          "model_name": "HTMLModel",
          "state": {
            "_view_name": "HTMLView",
            "style": "IPY_MODEL_92f9db4707da4e64ab9635cf837a6ab0",
            "_dom_classes": [],
            "description": "",
            "_model_name": "HTMLModel",
            "placeholder": "​",
            "_view_module": "@jupyter-widgets/controls",
            "_model_module_version": "1.5.0",
            "value": " 56102/56102 [03:33&lt;00:00, 262.99it/s]",
            "_view_count": null,
            "_view_module_version": "1.5.0",
            "description_tooltip": null,
            "_model_module": "@jupyter-widgets/controls",
            "layout": "IPY_MODEL_23eff3ece6ec4bedb396f3f1b68d9387"
          }
        },
        "9f314237c82a4e728e4ab242af508218": {
          "model_module": "@jupyter-widgets/controls",
          "model_name": "ProgressStyleModel",
          "state": {
            "_view_name": "StyleView",
            "_model_name": "ProgressStyleModel",
            "description_width": "initial",
            "_view_module": "@jupyter-widgets/base",
            "_model_module_version": "1.5.0",
            "_view_count": null,
            "_view_module_version": "1.2.0",
            "bar_color": null,
            "_model_module": "@jupyter-widgets/controls"
          }
        },
        "55375b8a6d494daa8136856cbeb4f5f7": {
          "model_module": "@jupyter-widgets/base",
          "model_name": "LayoutModel",
          "state": {
            "_view_name": "LayoutView",
            "grid_template_rows": null,
            "right": null,
            "justify_content": null,
            "_view_module": "@jupyter-widgets/base",
            "overflow": null,
            "_model_module_version": "1.2.0",
            "_view_count": null,
            "flex_flow": null,
            "width": null,
            "min_width": null,
            "border": null,
            "align_items": null,
            "bottom": null,
            "_model_module": "@jupyter-widgets/base",
            "top": null,
            "grid_column": null,
            "overflow_y": null,
            "overflow_x": null,
            "grid_auto_flow": null,
            "grid_area": null,
            "grid_template_columns": null,
            "flex": null,
            "_model_name": "LayoutModel",
            "justify_items": null,
            "grid_row": null,
            "max_height": null,
            "align_content": null,
            "visibility": null,
            "align_self": null,
            "height": null,
            "min_height": null,
            "padding": null,
            "grid_auto_rows": null,
            "grid_gap": null,
            "max_width": null,
            "order": null,
            "_view_module_version": "1.2.0",
            "grid_template_areas": null,
            "object_position": null,
            "object_fit": null,
            "grid_auto_columns": null,
            "margin": null,
            "display": null,
            "left": null
          }
        },
        "92f9db4707da4e64ab9635cf837a6ab0": {
          "model_module": "@jupyter-widgets/controls",
          "model_name": "DescriptionStyleModel",
          "state": {
            "_view_name": "StyleView",
            "_model_name": "DescriptionStyleModel",
            "description_width": "",
            "_view_module": "@jupyter-widgets/base",
            "_model_module_version": "1.5.0",
            "_view_count": null,
            "_view_module_version": "1.2.0",
            "_model_module": "@jupyter-widgets/controls"
          }
        },
        "23eff3ece6ec4bedb396f3f1b68d9387": {
          "model_module": "@jupyter-widgets/base",
          "model_name": "LayoutModel",
          "state": {
            "_view_name": "LayoutView",
            "grid_template_rows": null,
            "right": null,
            "justify_content": null,
            "_view_module": "@jupyter-widgets/base",
            "overflow": null,
            "_model_module_version": "1.2.0",
            "_view_count": null,
            "flex_flow": null,
            "width": null,
            "min_width": null,
            "border": null,
            "align_items": null,
            "bottom": null,
            "_model_module": "@jupyter-widgets/base",
            "top": null,
            "grid_column": null,
            "overflow_y": null,
            "overflow_x": null,
            "grid_auto_flow": null,
            "grid_area": null,
            "grid_template_columns": null,
            "flex": null,
            "_model_name": "LayoutModel",
            "justify_items": null,
            "grid_row": null,
            "max_height": null,
            "align_content": null,
            "visibility": null,
            "align_self": null,
            "height": null,
            "min_height": null,
            "padding": null,
            "grid_auto_rows": null,
            "grid_gap": null,
            "max_width": null,
            "order": null,
            "_view_module_version": "1.2.0",
            "grid_template_areas": null,
            "object_position": null,
            "object_fit": null,
            "grid_auto_columns": null,
            "margin": null,
            "display": null,
            "left": null
          }
        },
        "feebcf4187624acaa404eba6250c458c": {
          "model_module": "@jupyter-widgets/controls",
          "model_name": "HBoxModel",
          "state": {
            "_view_name": "HBoxView",
            "_dom_classes": [],
            "_model_name": "HBoxModel",
            "_view_module": "@jupyter-widgets/controls",
            "_model_module_version": "1.5.0",
            "_view_count": null,
            "_view_module_version": "1.5.0",
            "box_style": "",
            "layout": "IPY_MODEL_bce6437112bb48ce9a02ad7882c08cce",
            "_model_module": "@jupyter-widgets/controls",
            "children": [
              "IPY_MODEL_91027d312af14a26ac2e3c54b41d157d",
              "IPY_MODEL_c1b5eeef55294eeaa3f0e111515b1d35"
            ]
          }
        },
        "bce6437112bb48ce9a02ad7882c08cce": {
          "model_module": "@jupyter-widgets/base",
          "model_name": "LayoutModel",
          "state": {
            "_view_name": "LayoutView",
            "grid_template_rows": null,
            "right": null,
            "justify_content": null,
            "_view_module": "@jupyter-widgets/base",
            "overflow": null,
            "_model_module_version": "1.2.0",
            "_view_count": null,
            "flex_flow": null,
            "width": null,
            "min_width": null,
            "border": null,
            "align_items": null,
            "bottom": null,
            "_model_module": "@jupyter-widgets/base",
            "top": null,
            "grid_column": null,
            "overflow_y": null,
            "overflow_x": null,
            "grid_auto_flow": null,
            "grid_area": null,
            "grid_template_columns": null,
            "flex": null,
            "_model_name": "LayoutModel",
            "justify_items": null,
            "grid_row": null,
            "max_height": null,
            "align_content": null,
            "visibility": null,
            "align_self": null,
            "height": null,
            "min_height": null,
            "padding": null,
            "grid_auto_rows": null,
            "grid_gap": null,
            "max_width": null,
            "order": null,
            "_view_module_version": "1.2.0",
            "grid_template_areas": null,
            "object_position": null,
            "object_fit": null,
            "grid_auto_columns": null,
            "margin": null,
            "display": null,
            "left": null
          }
        },
        "91027d312af14a26ac2e3c54b41d157d": {
          "model_module": "@jupyter-widgets/controls",
          "model_name": "FloatProgressModel",
          "state": {
            "_view_name": "ProgressView",
            "style": "IPY_MODEL_9594f3dfea2f4ee4abd2d5b560872b73",
            "_dom_classes": [],
            "description": "100%",
            "_model_name": "FloatProgressModel",
            "bar_style": "success",
            "max": 56102,
            "_view_module": "@jupyter-widgets/controls",
            "_model_module_version": "1.5.0",
            "value": 56102,
            "_view_count": null,
            "_view_module_version": "1.5.0",
            "orientation": "horizontal",
            "min": 0,
            "description_tooltip": null,
            "_model_module": "@jupyter-widgets/controls",
            "layout": "IPY_MODEL_e966a17143184319ad7f434d57d87252"
          }
        },
        "c1b5eeef55294eeaa3f0e111515b1d35": {
          "model_module": "@jupyter-widgets/controls",
          "model_name": "HTMLModel",
          "state": {
            "_view_name": "HTMLView",
            "style": "IPY_MODEL_feccde07d0614e518b119da9947d3aee",
            "_dom_classes": [],
            "description": "",
            "_model_name": "HTMLModel",
            "placeholder": "​",
            "_view_module": "@jupyter-widgets/controls",
            "_model_module_version": "1.5.0",
            "value": " 56102/56102 [01:46&lt;00:00, 528.19it/s]",
            "_view_count": null,
            "_view_module_version": "1.5.0",
            "description_tooltip": null,
            "_model_module": "@jupyter-widgets/controls",
            "layout": "IPY_MODEL_c1a72fc71a584e5792f51cc5da2176bb"
          }
        },
        "9594f3dfea2f4ee4abd2d5b560872b73": {
          "model_module": "@jupyter-widgets/controls",
          "model_name": "ProgressStyleModel",
          "state": {
            "_view_name": "StyleView",
            "_model_name": "ProgressStyleModel",
            "description_width": "initial",
            "_view_module": "@jupyter-widgets/base",
            "_model_module_version": "1.5.0",
            "_view_count": null,
            "_view_module_version": "1.2.0",
            "bar_color": null,
            "_model_module": "@jupyter-widgets/controls"
          }
        },
        "e966a17143184319ad7f434d57d87252": {
          "model_module": "@jupyter-widgets/base",
          "model_name": "LayoutModel",
          "state": {
            "_view_name": "LayoutView",
            "grid_template_rows": null,
            "right": null,
            "justify_content": null,
            "_view_module": "@jupyter-widgets/base",
            "overflow": null,
            "_model_module_version": "1.2.0",
            "_view_count": null,
            "flex_flow": null,
            "width": null,
            "min_width": null,
            "border": null,
            "align_items": null,
            "bottom": null,
            "_model_module": "@jupyter-widgets/base",
            "top": null,
            "grid_column": null,
            "overflow_y": null,
            "overflow_x": null,
            "grid_auto_flow": null,
            "grid_area": null,
            "grid_template_columns": null,
            "flex": null,
            "_model_name": "LayoutModel",
            "justify_items": null,
            "grid_row": null,
            "max_height": null,
            "align_content": null,
            "visibility": null,
            "align_self": null,
            "height": null,
            "min_height": null,
            "padding": null,
            "grid_auto_rows": null,
            "grid_gap": null,
            "max_width": null,
            "order": null,
            "_view_module_version": "1.2.0",
            "grid_template_areas": null,
            "object_position": null,
            "object_fit": null,
            "grid_auto_columns": null,
            "margin": null,
            "display": null,
            "left": null
          }
        },
        "feccde07d0614e518b119da9947d3aee": {
          "model_module": "@jupyter-widgets/controls",
          "model_name": "DescriptionStyleModel",
          "state": {
            "_view_name": "StyleView",
            "_model_name": "DescriptionStyleModel",
            "description_width": "",
            "_view_module": "@jupyter-widgets/base",
            "_model_module_version": "1.5.0",
            "_view_count": null,
            "_view_module_version": "1.2.0",
            "_model_module": "@jupyter-widgets/controls"
          }
        },
        "c1a72fc71a584e5792f51cc5da2176bb": {
          "model_module": "@jupyter-widgets/base",
          "model_name": "LayoutModel",
          "state": {
            "_view_name": "LayoutView",
            "grid_template_rows": null,
            "right": null,
            "justify_content": null,
            "_view_module": "@jupyter-widgets/base",
            "overflow": null,
            "_model_module_version": "1.2.0",
            "_view_count": null,
            "flex_flow": null,
            "width": null,
            "min_width": null,
            "border": null,
            "align_items": null,
            "bottom": null,
            "_model_module": "@jupyter-widgets/base",
            "top": null,
            "grid_column": null,
            "overflow_y": null,
            "overflow_x": null,
            "grid_auto_flow": null,
            "grid_area": null,
            "grid_template_columns": null,
            "flex": null,
            "_model_name": "LayoutModel",
            "justify_items": null,
            "grid_row": null,
            "max_height": null,
            "align_content": null,
            "visibility": null,
            "align_self": null,
            "height": null,
            "min_height": null,
            "padding": null,
            "grid_auto_rows": null,
            "grid_gap": null,
            "max_width": null,
            "order": null,
            "_view_module_version": "1.2.0",
            "grid_template_areas": null,
            "object_position": null,
            "object_fit": null,
            "grid_auto_columns": null,
            "margin": null,
            "display": null,
            "left": null
          }
        },
        "40ffc1587af0474d93084bf33d25991d": {
          "model_module": "@jupyter-widgets/controls",
          "model_name": "HBoxModel",
          "state": {
            "_view_name": "HBoxView",
            "_dom_classes": [],
            "_model_name": "HBoxModel",
            "_view_module": "@jupyter-widgets/controls",
            "_model_module_version": "1.5.0",
            "_view_count": null,
            "_view_module_version": "1.5.0",
            "box_style": "",
            "layout": "IPY_MODEL_342df770d43b4a23b8ad36b0d0165101",
            "_model_module": "@jupyter-widgets/controls",
            "children": [
              "IPY_MODEL_2688d4b11e604d909e1dd11a540c669e",
              "IPY_MODEL_3ab7be4f71114be98b75a7db2b811843"
            ]
          }
        },
        "342df770d43b4a23b8ad36b0d0165101": {
          "model_module": "@jupyter-widgets/base",
          "model_name": "LayoutModel",
          "state": {
            "_view_name": "LayoutView",
            "grid_template_rows": null,
            "right": null,
            "justify_content": null,
            "_view_module": "@jupyter-widgets/base",
            "overflow": null,
            "_model_module_version": "1.2.0",
            "_view_count": null,
            "flex_flow": null,
            "width": null,
            "min_width": null,
            "border": null,
            "align_items": null,
            "bottom": null,
            "_model_module": "@jupyter-widgets/base",
            "top": null,
            "grid_column": null,
            "overflow_y": null,
            "overflow_x": null,
            "grid_auto_flow": null,
            "grid_area": null,
            "grid_template_columns": null,
            "flex": null,
            "_model_name": "LayoutModel",
            "justify_items": null,
            "grid_row": null,
            "max_height": null,
            "align_content": null,
            "visibility": null,
            "align_self": null,
            "height": null,
            "min_height": null,
            "padding": null,
            "grid_auto_rows": null,
            "grid_gap": null,
            "max_width": null,
            "order": null,
            "_view_module_version": "1.2.0",
            "grid_template_areas": null,
            "object_position": null,
            "object_fit": null,
            "grid_auto_columns": null,
            "margin": null,
            "display": null,
            "left": null
          }
        },
        "2688d4b11e604d909e1dd11a540c669e": {
          "model_module": "@jupyter-widgets/controls",
          "model_name": "FloatProgressModel",
          "state": {
            "_view_name": "ProgressView",
            "style": "IPY_MODEL_1a6e7940fd174f639dba315ba68cb773",
            "_dom_classes": [],
            "description": "100%",
            "_model_name": "FloatProgressModel",
            "bar_style": "success",
            "max": 40,
            "_view_module": "@jupyter-widgets/controls",
            "_model_module_version": "1.5.0",
            "value": 40,
            "_view_count": null,
            "_view_module_version": "1.5.0",
            "orientation": "horizontal",
            "min": 0,
            "description_tooltip": null,
            "_model_module": "@jupyter-widgets/controls",
            "layout": "IPY_MODEL_4beff16ac47443fea3b27be09ccf9240"
          }
        },
        "3ab7be4f71114be98b75a7db2b811843": {
          "model_module": "@jupyter-widgets/controls",
          "model_name": "HTMLModel",
          "state": {
            "_view_name": "HTMLView",
            "style": "IPY_MODEL_022befae88c040679d622950e65b6209",
            "_dom_classes": [],
            "description": "",
            "_model_name": "HTMLModel",
            "placeholder": "​",
            "_view_module": "@jupyter-widgets/controls",
            "_model_module_version": "1.5.0",
            "value": " 40/40 [08:18&lt;00:00, 12.47s/it, correct=49.73%, skipped=0.54%]",
            "_view_count": null,
            "_view_module_version": "1.5.0",
            "description_tooltip": null,
            "_model_module": "@jupyter-widgets/controls",
            "layout": "IPY_MODEL_b0ece38c83f442839f331e5d9fc5b8bb"
          }
        },
        "1a6e7940fd174f639dba315ba68cb773": {
          "model_module": "@jupyter-widgets/controls",
          "model_name": "ProgressStyleModel",
          "state": {
            "_view_name": "StyleView",
            "_model_name": "ProgressStyleModel",
            "description_width": "initial",
            "_view_module": "@jupyter-widgets/base",
            "_model_module_version": "1.5.0",
            "_view_count": null,
            "_view_module_version": "1.2.0",
            "bar_color": null,
            "_model_module": "@jupyter-widgets/controls"
          }
        },
        "4beff16ac47443fea3b27be09ccf9240": {
          "model_module": "@jupyter-widgets/base",
          "model_name": "LayoutModel",
          "state": {
            "_view_name": "LayoutView",
            "grid_template_rows": null,
            "right": null,
            "justify_content": null,
            "_view_module": "@jupyter-widgets/base",
            "overflow": null,
            "_model_module_version": "1.2.0",
            "_view_count": null,
            "flex_flow": null,
            "width": null,
            "min_width": null,
            "border": null,
            "align_items": null,
            "bottom": null,
            "_model_module": "@jupyter-widgets/base",
            "top": null,
            "grid_column": null,
            "overflow_y": null,
            "overflow_x": null,
            "grid_auto_flow": null,
            "grid_area": null,
            "grid_template_columns": null,
            "flex": null,
            "_model_name": "LayoutModel",
            "justify_items": null,
            "grid_row": null,
            "max_height": null,
            "align_content": null,
            "visibility": null,
            "align_self": null,
            "height": null,
            "min_height": null,
            "padding": null,
            "grid_auto_rows": null,
            "grid_gap": null,
            "max_width": null,
            "order": null,
            "_view_module_version": "1.2.0",
            "grid_template_areas": null,
            "object_position": null,
            "object_fit": null,
            "grid_auto_columns": null,
            "margin": null,
            "display": null,
            "left": null
          }
        },
        "022befae88c040679d622950e65b6209": {
          "model_module": "@jupyter-widgets/controls",
          "model_name": "DescriptionStyleModel",
          "state": {
            "_view_name": "StyleView",
            "_model_name": "DescriptionStyleModel",
            "description_width": "",
            "_view_module": "@jupyter-widgets/base",
            "_model_module_version": "1.5.0",
            "_view_count": null,
            "_view_module_version": "1.2.0",
            "_model_module": "@jupyter-widgets/controls"
          }
        },
        "b0ece38c83f442839f331e5d9fc5b8bb": {
          "model_module": "@jupyter-widgets/base",
          "model_name": "LayoutModel",
          "state": {
            "_view_name": "LayoutView",
            "grid_template_rows": null,
            "right": null,
            "justify_content": null,
            "_view_module": "@jupyter-widgets/base",
            "overflow": null,
            "_model_module_version": "1.2.0",
            "_view_count": null,
            "flex_flow": null,
            "width": null,
            "min_width": null,
            "border": null,
            "align_items": null,
            "bottom": null,
            "_model_module": "@jupyter-widgets/base",
            "top": null,
            "grid_column": null,
            "overflow_y": null,
            "overflow_x": null,
            "grid_auto_flow": null,
            "grid_area": null,
            "grid_template_columns": null,
            "flex": null,
            "_model_name": "LayoutModel",
            "justify_items": null,
            "grid_row": null,
            "max_height": null,
            "align_content": null,
            "visibility": null,
            "align_self": null,
            "height": null,
            "min_height": null,
            "padding": null,
            "grid_auto_rows": null,
            "grid_gap": null,
            "max_width": null,
            "order": null,
            "_view_module_version": "1.2.0",
            "grid_template_areas": null,
            "object_position": null,
            "object_fit": null,
            "grid_auto_columns": null,
            "margin": null,
            "display": null,
            "left": null
          }
        },
        "149ddbfb0b0f4640953b1c2636a574d6": {
          "model_module": "@jupyter-widgets/controls",
          "model_name": "HBoxModel",
          "state": {
            "_view_name": "HBoxView",
            "_dom_classes": [],
            "_model_name": "HBoxModel",
            "_view_module": "@jupyter-widgets/controls",
            "_model_module_version": "1.5.0",
            "_view_count": null,
            "_view_module_version": "1.5.0",
            "box_style": "",
            "layout": "IPY_MODEL_f6ed879acc5d46eaa17e56d685cae196",
            "_model_module": "@jupyter-widgets/controls",
            "children": [
              "IPY_MODEL_c912d28c6dea4e3c8bc1459dc2ea76d0",
              "IPY_MODEL_dc162bfa3c844c06b6e7578044dde6bc"
            ]
          }
        },
        "f6ed879acc5d46eaa17e56d685cae196": {
          "model_module": "@jupyter-widgets/base",
          "model_name": "LayoutModel",
          "state": {
            "_view_name": "LayoutView",
            "grid_template_rows": null,
            "right": null,
            "justify_content": null,
            "_view_module": "@jupyter-widgets/base",
            "overflow": null,
            "_model_module_version": "1.2.0",
            "_view_count": null,
            "flex_flow": null,
            "width": null,
            "min_width": null,
            "border": null,
            "align_items": null,
            "bottom": null,
            "_model_module": "@jupyter-widgets/base",
            "top": null,
            "grid_column": null,
            "overflow_y": null,
            "overflow_x": null,
            "grid_auto_flow": null,
            "grid_area": null,
            "grid_template_columns": null,
            "flex": null,
            "_model_name": "LayoutModel",
            "justify_items": null,
            "grid_row": null,
            "max_height": null,
            "align_content": null,
            "visibility": null,
            "align_self": null,
            "height": null,
            "min_height": null,
            "padding": null,
            "grid_auto_rows": null,
            "grid_gap": null,
            "max_width": null,
            "order": null,
            "_view_module_version": "1.2.0",
            "grid_template_areas": null,
            "object_position": null,
            "object_fit": null,
            "grid_auto_columns": null,
            "margin": null,
            "display": null,
            "left": null
          }
        },
        "c912d28c6dea4e3c8bc1459dc2ea76d0": {
          "model_module": "@jupyter-widgets/controls",
          "model_name": "FloatProgressModel",
          "state": {
            "_view_name": "ProgressView",
            "style": "IPY_MODEL_e030fbc8fd1f4a1aba454dee890faf72",
            "_dom_classes": [],
            "description": "100%",
            "_model_name": "FloatProgressModel",
            "bar_style": "success",
            "max": 56097,
            "_view_module": "@jupyter-widgets/controls",
            "_model_module_version": "1.5.0",
            "value": 56097,
            "_view_count": null,
            "_view_module_version": "1.5.0",
            "orientation": "horizontal",
            "min": 0,
            "description_tooltip": null,
            "_model_module": "@jupyter-widgets/controls",
            "layout": "IPY_MODEL_855944b7682545008e862fc414a2dfdb"
          }
        },
        "dc162bfa3c844c06b6e7578044dde6bc": {
          "model_module": "@jupyter-widgets/controls",
          "model_name": "HTMLModel",
          "state": {
            "_view_name": "HTMLView",
            "style": "IPY_MODEL_e79a8eb237c648a896b5c4d0cec9c6f8",
            "_dom_classes": [],
            "description": "",
            "_model_name": "HTMLModel",
            "placeholder": "​",
            "_view_module": "@jupyter-widgets/controls",
            "_model_module_version": "1.5.0",
            "value": " 56097/56097 [00:00&lt;00:00, 64423.92it/s]",
            "_view_count": null,
            "_view_module_version": "1.5.0",
            "description_tooltip": null,
            "_model_module": "@jupyter-widgets/controls",
            "layout": "IPY_MODEL_5579369122d148838a6f70185d737b55"
          }
        },
        "e030fbc8fd1f4a1aba454dee890faf72": {
          "model_module": "@jupyter-widgets/controls",
          "model_name": "ProgressStyleModel",
          "state": {
            "_view_name": "StyleView",
            "_model_name": "ProgressStyleModel",
            "description_width": "initial",
            "_view_module": "@jupyter-widgets/base",
            "_model_module_version": "1.5.0",
            "_view_count": null,
            "_view_module_version": "1.2.0",
            "bar_color": null,
            "_model_module": "@jupyter-widgets/controls"
          }
        },
        "855944b7682545008e862fc414a2dfdb": {
          "model_module": "@jupyter-widgets/base",
          "model_name": "LayoutModel",
          "state": {
            "_view_name": "LayoutView",
            "grid_template_rows": null,
            "right": null,
            "justify_content": null,
            "_view_module": "@jupyter-widgets/base",
            "overflow": null,
            "_model_module_version": "1.2.0",
            "_view_count": null,
            "flex_flow": null,
            "width": null,
            "min_width": null,
            "border": null,
            "align_items": null,
            "bottom": null,
            "_model_module": "@jupyter-widgets/base",
            "top": null,
            "grid_column": null,
            "overflow_y": null,
            "overflow_x": null,
            "grid_auto_flow": null,
            "grid_area": null,
            "grid_template_columns": null,
            "flex": null,
            "_model_name": "LayoutModel",
            "justify_items": null,
            "grid_row": null,
            "max_height": null,
            "align_content": null,
            "visibility": null,
            "align_self": null,
            "height": null,
            "min_height": null,
            "padding": null,
            "grid_auto_rows": null,
            "grid_gap": null,
            "max_width": null,
            "order": null,
            "_view_module_version": "1.2.0",
            "grid_template_areas": null,
            "object_position": null,
            "object_fit": null,
            "grid_auto_columns": null,
            "margin": null,
            "display": null,
            "left": null
          }
        },
        "e79a8eb237c648a896b5c4d0cec9c6f8": {
          "model_module": "@jupyter-widgets/controls",
          "model_name": "DescriptionStyleModel",
          "state": {
            "_view_name": "StyleView",
            "_model_name": "DescriptionStyleModel",
            "description_width": "",
            "_view_module": "@jupyter-widgets/base",
            "_model_module_version": "1.5.0",
            "_view_count": null,
            "_view_module_version": "1.2.0",
            "_model_module": "@jupyter-widgets/controls"
          }
        },
        "5579369122d148838a6f70185d737b55": {
          "model_module": "@jupyter-widgets/base",
          "model_name": "LayoutModel",
          "state": {
            "_view_name": "LayoutView",
            "grid_template_rows": null,
            "right": null,
            "justify_content": null,
            "_view_module": "@jupyter-widgets/base",
            "overflow": null,
            "_model_module_version": "1.2.0",
            "_view_count": null,
            "flex_flow": null,
            "width": null,
            "min_width": null,
            "border": null,
            "align_items": null,
            "bottom": null,
            "_model_module": "@jupyter-widgets/base",
            "top": null,
            "grid_column": null,
            "overflow_y": null,
            "overflow_x": null,
            "grid_auto_flow": null,
            "grid_area": null,
            "grid_template_columns": null,
            "flex": null,
            "_model_name": "LayoutModel",
            "justify_items": null,
            "grid_row": null,
            "max_height": null,
            "align_content": null,
            "visibility": null,
            "align_self": null,
            "height": null,
            "min_height": null,
            "padding": null,
            "grid_auto_rows": null,
            "grid_gap": null,
            "max_width": null,
            "order": null,
            "_view_module_version": "1.2.0",
            "grid_template_areas": null,
            "object_position": null,
            "object_fit": null,
            "grid_auto_columns": null,
            "margin": null,
            "display": null,
            "left": null
          }
        },
        "1288afae70e1450b9f27b0d237ca536b": {
          "model_module": "@jupyter-widgets/controls",
          "model_name": "HBoxModel",
          "state": {
            "_view_name": "HBoxView",
            "_dom_classes": [],
            "_model_name": "HBoxModel",
            "_view_module": "@jupyter-widgets/controls",
            "_model_module_version": "1.5.0",
            "_view_count": null,
            "_view_module_version": "1.5.0",
            "box_style": "",
            "layout": "IPY_MODEL_51e54564e0ca4090a33813d70eb38dfc",
            "_model_module": "@jupyter-widgets/controls",
            "children": [
              "IPY_MODEL_db26e8163eb246f0afce1184ce1a15ee",
              "IPY_MODEL_fe6ed31eea134ac7a73cfcb32f457aba"
            ]
          }
        },
        "51e54564e0ca4090a33813d70eb38dfc": {
          "model_module": "@jupyter-widgets/base",
          "model_name": "LayoutModel",
          "state": {
            "_view_name": "LayoutView",
            "grid_template_rows": null,
            "right": null,
            "justify_content": null,
            "_view_module": "@jupyter-widgets/base",
            "overflow": null,
            "_model_module_version": "1.2.0",
            "_view_count": null,
            "flex_flow": null,
            "width": null,
            "min_width": null,
            "border": null,
            "align_items": null,
            "bottom": null,
            "_model_module": "@jupyter-widgets/base",
            "top": null,
            "grid_column": null,
            "overflow_y": null,
            "overflow_x": null,
            "grid_auto_flow": null,
            "grid_area": null,
            "grid_template_columns": null,
            "flex": null,
            "_model_name": "LayoutModel",
            "justify_items": null,
            "grid_row": null,
            "max_height": null,
            "align_content": null,
            "visibility": null,
            "align_self": null,
            "height": null,
            "min_height": null,
            "padding": null,
            "grid_auto_rows": null,
            "grid_gap": null,
            "max_width": null,
            "order": null,
            "_view_module_version": "1.2.0",
            "grid_template_areas": null,
            "object_position": null,
            "object_fit": null,
            "grid_auto_columns": null,
            "margin": null,
            "display": null,
            "left": null
          }
        },
        "db26e8163eb246f0afce1184ce1a15ee": {
          "model_module": "@jupyter-widgets/controls",
          "model_name": "FloatProgressModel",
          "state": {
            "_view_name": "ProgressView",
            "style": "IPY_MODEL_7485aa3b471d4e50b4567694b7a6bfa2",
            "_dom_classes": [],
            "description": "100%",
            "_model_name": "FloatProgressModel",
            "bar_style": "success",
            "max": 56097,
            "_view_module": "@jupyter-widgets/controls",
            "_model_module_version": "1.5.0",
            "value": 56097,
            "_view_count": null,
            "_view_module_version": "1.5.0",
            "orientation": "horizontal",
            "min": 0,
            "description_tooltip": null,
            "_model_module": "@jupyter-widgets/controls",
            "layout": "IPY_MODEL_a1d6649898974fd2b73010eb763050dd"
          }
        },
        "fe6ed31eea134ac7a73cfcb32f457aba": {
          "model_module": "@jupyter-widgets/controls",
          "model_name": "HTMLModel",
          "state": {
            "_view_name": "HTMLView",
            "style": "IPY_MODEL_4be55e9f27884c5594d4d6a394018eee",
            "_dom_classes": [],
            "description": "",
            "_model_name": "HTMLModel",
            "placeholder": "​",
            "_view_module": "@jupyter-widgets/controls",
            "_model_module_version": "1.5.0",
            "value": " 56097/56097 [00:00&lt;00:00, 108409.56it/s]",
            "_view_count": null,
            "_view_module_version": "1.5.0",
            "description_tooltip": null,
            "_model_module": "@jupyter-widgets/controls",
            "layout": "IPY_MODEL_eb0939adde314791b1e795be11ef9e56"
          }
        },
        "7485aa3b471d4e50b4567694b7a6bfa2": {
          "model_module": "@jupyter-widgets/controls",
          "model_name": "ProgressStyleModel",
          "state": {
            "_view_name": "StyleView",
            "_model_name": "ProgressStyleModel",
            "description_width": "initial",
            "_view_module": "@jupyter-widgets/base",
            "_model_module_version": "1.5.0",
            "_view_count": null,
            "_view_module_version": "1.2.0",
            "bar_color": null,
            "_model_module": "@jupyter-widgets/controls"
          }
        },
        "a1d6649898974fd2b73010eb763050dd": {
          "model_module": "@jupyter-widgets/base",
          "model_name": "LayoutModel",
          "state": {
            "_view_name": "LayoutView",
            "grid_template_rows": null,
            "right": null,
            "justify_content": null,
            "_view_module": "@jupyter-widgets/base",
            "overflow": null,
            "_model_module_version": "1.2.0",
            "_view_count": null,
            "flex_flow": null,
            "width": null,
            "min_width": null,
            "border": null,
            "align_items": null,
            "bottom": null,
            "_model_module": "@jupyter-widgets/base",
            "top": null,
            "grid_column": null,
            "overflow_y": null,
            "overflow_x": null,
            "grid_auto_flow": null,
            "grid_area": null,
            "grid_template_columns": null,
            "flex": null,
            "_model_name": "LayoutModel",
            "justify_items": null,
            "grid_row": null,
            "max_height": null,
            "align_content": null,
            "visibility": null,
            "align_self": null,
            "height": null,
            "min_height": null,
            "padding": null,
            "grid_auto_rows": null,
            "grid_gap": null,
            "max_width": null,
            "order": null,
            "_view_module_version": "1.2.0",
            "grid_template_areas": null,
            "object_position": null,
            "object_fit": null,
            "grid_auto_columns": null,
            "margin": null,
            "display": null,
            "left": null
          }
        },
        "4be55e9f27884c5594d4d6a394018eee": {
          "model_module": "@jupyter-widgets/controls",
          "model_name": "DescriptionStyleModel",
          "state": {
            "_view_name": "StyleView",
            "_model_name": "DescriptionStyleModel",
            "description_width": "",
            "_view_module": "@jupyter-widgets/base",
            "_model_module_version": "1.5.0",
            "_view_count": null,
            "_view_module_version": "1.2.0",
            "_model_module": "@jupyter-widgets/controls"
          }
        },
        "eb0939adde314791b1e795be11ef9e56": {
          "model_module": "@jupyter-widgets/base",
          "model_name": "LayoutModel",
          "state": {
            "_view_name": "LayoutView",
            "grid_template_rows": null,
            "right": null,
            "justify_content": null,
            "_view_module": "@jupyter-widgets/base",
            "overflow": null,
            "_model_module_version": "1.2.0",
            "_view_count": null,
            "flex_flow": null,
            "width": null,
            "min_width": null,
            "border": null,
            "align_items": null,
            "bottom": null,
            "_model_module": "@jupyter-widgets/base",
            "top": null,
            "grid_column": null,
            "overflow_y": null,
            "overflow_x": null,
            "grid_auto_flow": null,
            "grid_area": null,
            "grid_template_columns": null,
            "flex": null,
            "_model_name": "LayoutModel",
            "justify_items": null,
            "grid_row": null,
            "max_height": null,
            "align_content": null,
            "visibility": null,
            "align_self": null,
            "height": null,
            "min_height": null,
            "padding": null,
            "grid_auto_rows": null,
            "grid_gap": null,
            "max_width": null,
            "order": null,
            "_view_module_version": "1.2.0",
            "grid_template_areas": null,
            "object_position": null,
            "object_fit": null,
            "grid_auto_columns": null,
            "margin": null,
            "display": null,
            "left": null
          }
        },
        "6a9f9d0eeeba4f0383b25a6a0966a081": {
          "model_module": "@jupyter-widgets/controls",
          "model_name": "HBoxModel",
          "state": {
            "_view_name": "HBoxView",
            "_dom_classes": [],
            "_model_name": "HBoxModel",
            "_view_module": "@jupyter-widgets/controls",
            "_model_module_version": "1.5.0",
            "_view_count": null,
            "_view_module_version": "1.5.0",
            "box_style": "",
            "layout": "IPY_MODEL_0bc28b21b45d493f8b88c8da01474503",
            "_model_module": "@jupyter-widgets/controls",
            "children": [
              "IPY_MODEL_1744765b8166400a8778bd821e92ffdb",
              "IPY_MODEL_eba13532c03641a9bb71e4655be6fb6f"
            ]
          }
        },
        "0bc28b21b45d493f8b88c8da01474503": {
          "model_module": "@jupyter-widgets/base",
          "model_name": "LayoutModel",
          "state": {
            "_view_name": "LayoutView",
            "grid_template_rows": null,
            "right": null,
            "justify_content": null,
            "_view_module": "@jupyter-widgets/base",
            "overflow": null,
            "_model_module_version": "1.2.0",
            "_view_count": null,
            "flex_flow": null,
            "width": null,
            "min_width": null,
            "border": null,
            "align_items": null,
            "bottom": null,
            "_model_module": "@jupyter-widgets/base",
            "top": null,
            "grid_column": null,
            "overflow_y": null,
            "overflow_x": null,
            "grid_auto_flow": null,
            "grid_area": null,
            "grid_template_columns": null,
            "flex": null,
            "_model_name": "LayoutModel",
            "justify_items": null,
            "grid_row": null,
            "max_height": null,
            "align_content": null,
            "visibility": null,
            "align_self": null,
            "height": null,
            "min_height": null,
            "padding": null,
            "grid_auto_rows": null,
            "grid_gap": null,
            "max_width": null,
            "order": null,
            "_view_module_version": "1.2.0",
            "grid_template_areas": null,
            "object_position": null,
            "object_fit": null,
            "grid_auto_columns": null,
            "margin": null,
            "display": null,
            "left": null
          }
        },
        "1744765b8166400a8778bd821e92ffdb": {
          "model_module": "@jupyter-widgets/controls",
          "model_name": "FloatProgressModel",
          "state": {
            "_view_name": "ProgressView",
            "style": "IPY_MODEL_cd1e4d30983344c1aa47495aa3fd36ef",
            "_dom_classes": [],
            "description": "100%",
            "_model_name": "FloatProgressModel",
            "bar_style": "success",
            "max": 56097,
            "_view_module": "@jupyter-widgets/controls",
            "_model_module_version": "1.5.0",
            "value": 56097,
            "_view_count": null,
            "_view_module_version": "1.5.0",
            "orientation": "horizontal",
            "min": 0,
            "description_tooltip": null,
            "_model_module": "@jupyter-widgets/controls",
            "layout": "IPY_MODEL_7282660258bc4bff8f4bc4a2753ffa96"
          }
        },
        "eba13532c03641a9bb71e4655be6fb6f": {
          "model_module": "@jupyter-widgets/controls",
          "model_name": "HTMLModel",
          "state": {
            "_view_name": "HTMLView",
            "style": "IPY_MODEL_2145c7430f464a4f80fcc6dc0d2d7adb",
            "_dom_classes": [],
            "description": "",
            "_model_name": "HTMLModel",
            "placeholder": "​",
            "_view_module": "@jupyter-widgets/controls",
            "_model_module_version": "1.5.0",
            "value": " 56097/56097 [08:17&lt;00:00, 112.66it/s]",
            "_view_count": null,
            "_view_module_version": "1.5.0",
            "description_tooltip": null,
            "_model_module": "@jupyter-widgets/controls",
            "layout": "IPY_MODEL_5dc797db0c4c44da965049036c387132"
          }
        },
        "cd1e4d30983344c1aa47495aa3fd36ef": {
          "model_module": "@jupyter-widgets/controls",
          "model_name": "ProgressStyleModel",
          "state": {
            "_view_name": "StyleView",
            "_model_name": "ProgressStyleModel",
            "description_width": "initial",
            "_view_module": "@jupyter-widgets/base",
            "_model_module_version": "1.5.0",
            "_view_count": null,
            "_view_module_version": "1.2.0",
            "bar_color": null,
            "_model_module": "@jupyter-widgets/controls"
          }
        },
        "7282660258bc4bff8f4bc4a2753ffa96": {
          "model_module": "@jupyter-widgets/base",
          "model_name": "LayoutModel",
          "state": {
            "_view_name": "LayoutView",
            "grid_template_rows": null,
            "right": null,
            "justify_content": null,
            "_view_module": "@jupyter-widgets/base",
            "overflow": null,
            "_model_module_version": "1.2.0",
            "_view_count": null,
            "flex_flow": null,
            "width": null,
            "min_width": null,
            "border": null,
            "align_items": null,
            "bottom": null,
            "_model_module": "@jupyter-widgets/base",
            "top": null,
            "grid_column": null,
            "overflow_y": null,
            "overflow_x": null,
            "grid_auto_flow": null,
            "grid_area": null,
            "grid_template_columns": null,
            "flex": null,
            "_model_name": "LayoutModel",
            "justify_items": null,
            "grid_row": null,
            "max_height": null,
            "align_content": null,
            "visibility": null,
            "align_self": null,
            "height": null,
            "min_height": null,
            "padding": null,
            "grid_auto_rows": null,
            "grid_gap": null,
            "max_width": null,
            "order": null,
            "_view_module_version": "1.2.0",
            "grid_template_areas": null,
            "object_position": null,
            "object_fit": null,
            "grid_auto_columns": null,
            "margin": null,
            "display": null,
            "left": null
          }
        },
        "2145c7430f464a4f80fcc6dc0d2d7adb": {
          "model_module": "@jupyter-widgets/controls",
          "model_name": "DescriptionStyleModel",
          "state": {
            "_view_name": "StyleView",
            "_model_name": "DescriptionStyleModel",
            "description_width": "",
            "_view_module": "@jupyter-widgets/base",
            "_model_module_version": "1.5.0",
            "_view_count": null,
            "_view_module_version": "1.2.0",
            "_model_module": "@jupyter-widgets/controls"
          }
        },
        "5dc797db0c4c44da965049036c387132": {
          "model_module": "@jupyter-widgets/base",
          "model_name": "LayoutModel",
          "state": {
            "_view_name": "LayoutView",
            "grid_template_rows": null,
            "right": null,
            "justify_content": null,
            "_view_module": "@jupyter-widgets/base",
            "overflow": null,
            "_model_module_version": "1.2.0",
            "_view_count": null,
            "flex_flow": null,
            "width": null,
            "min_width": null,
            "border": null,
            "align_items": null,
            "bottom": null,
            "_model_module": "@jupyter-widgets/base",
            "top": null,
            "grid_column": null,
            "overflow_y": null,
            "overflow_x": null,
            "grid_auto_flow": null,
            "grid_area": null,
            "grid_template_columns": null,
            "flex": null,
            "_model_name": "LayoutModel",
            "justify_items": null,
            "grid_row": null,
            "max_height": null,
            "align_content": null,
            "visibility": null,
            "align_self": null,
            "height": null,
            "min_height": null,
            "padding": null,
            "grid_auto_rows": null,
            "grid_gap": null,
            "max_width": null,
            "order": null,
            "_view_module_version": "1.2.0",
            "grid_template_areas": null,
            "object_position": null,
            "object_fit": null,
            "grid_auto_columns": null,
            "margin": null,
            "display": null,
            "left": null
          }
        },
        "1e26ce9253914f49b302f0026af0732f": {
          "model_module": "@jupyter-widgets/controls",
          "model_name": "HBoxModel",
          "state": {
            "_view_name": "HBoxView",
            "_dom_classes": [],
            "_model_name": "HBoxModel",
            "_view_module": "@jupyter-widgets/controls",
            "_model_module_version": "1.5.0",
            "_view_count": null,
            "_view_module_version": "1.5.0",
            "box_style": "",
            "layout": "IPY_MODEL_62c18582a6ad40ab865fad4d29e235df",
            "_model_module": "@jupyter-widgets/controls",
            "children": [
              "IPY_MODEL_ed7152d722db4acebe7b05859d50126b",
              "IPY_MODEL_e07bf7156fdb42619f9058f58f4b3994"
            ]
          }
        },
        "62c18582a6ad40ab865fad4d29e235df": {
          "model_module": "@jupyter-widgets/base",
          "model_name": "LayoutModel",
          "state": {
            "_view_name": "LayoutView",
            "grid_template_rows": null,
            "right": null,
            "justify_content": null,
            "_view_module": "@jupyter-widgets/base",
            "overflow": null,
            "_model_module_version": "1.2.0",
            "_view_count": null,
            "flex_flow": null,
            "width": null,
            "min_width": null,
            "border": null,
            "align_items": null,
            "bottom": null,
            "_model_module": "@jupyter-widgets/base",
            "top": null,
            "grid_column": null,
            "overflow_y": null,
            "overflow_x": null,
            "grid_auto_flow": null,
            "grid_area": null,
            "grid_template_columns": null,
            "flex": null,
            "_model_name": "LayoutModel",
            "justify_items": null,
            "grid_row": null,
            "max_height": null,
            "align_content": null,
            "visibility": null,
            "align_self": null,
            "height": null,
            "min_height": null,
            "padding": null,
            "grid_auto_rows": null,
            "grid_gap": null,
            "max_width": null,
            "order": null,
            "_view_module_version": "1.2.0",
            "grid_template_areas": null,
            "object_position": null,
            "object_fit": null,
            "grid_auto_columns": null,
            "margin": null,
            "display": null,
            "left": null
          }
        },
        "ed7152d722db4acebe7b05859d50126b": {
          "model_module": "@jupyter-widgets/controls",
          "model_name": "FloatProgressModel",
          "state": {
            "_view_name": "ProgressView",
            "style": "IPY_MODEL_9e44a4f371174930ac7137ed97fcd388",
            "_dom_classes": [],
            "description": "100%",
            "_model_name": "FloatProgressModel",
            "bar_style": "success",
            "max": 56097,
            "_view_module": "@jupyter-widgets/controls",
            "_model_module_version": "1.5.0",
            "value": 56097,
            "_view_count": null,
            "_view_module_version": "1.5.0",
            "orientation": "horizontal",
            "min": 0,
            "description_tooltip": null,
            "_model_module": "@jupyter-widgets/controls",
            "layout": "IPY_MODEL_db7913aafb3042529e3056c6b6d4260d"
          }
        },
        "e07bf7156fdb42619f9058f58f4b3994": {
          "model_module": "@jupyter-widgets/controls",
          "model_name": "HTMLModel",
          "state": {
            "_view_name": "HTMLView",
            "style": "IPY_MODEL_12d12493e90549428ced2eee4317630a",
            "_dom_classes": [],
            "description": "",
            "_model_name": "HTMLModel",
            "placeholder": "​",
            "_view_module": "@jupyter-widgets/controls",
            "_model_module_version": "1.5.0",
            "value": " 56097/56097 [00:01&lt;00:00, 42107.80it/s]",
            "_view_count": null,
            "_view_module_version": "1.5.0",
            "description_tooltip": null,
            "_model_module": "@jupyter-widgets/controls",
            "layout": "IPY_MODEL_1e66538f252c47d0a3c7afe8cf93e21c"
          }
        },
        "9e44a4f371174930ac7137ed97fcd388": {
          "model_module": "@jupyter-widgets/controls",
          "model_name": "ProgressStyleModel",
          "state": {
            "_view_name": "StyleView",
            "_model_name": "ProgressStyleModel",
            "description_width": "initial",
            "_view_module": "@jupyter-widgets/base",
            "_model_module_version": "1.5.0",
            "_view_count": null,
            "_view_module_version": "1.2.0",
            "bar_color": null,
            "_model_module": "@jupyter-widgets/controls"
          }
        },
        "db7913aafb3042529e3056c6b6d4260d": {
          "model_module": "@jupyter-widgets/base",
          "model_name": "LayoutModel",
          "state": {
            "_view_name": "LayoutView",
            "grid_template_rows": null,
            "right": null,
            "justify_content": null,
            "_view_module": "@jupyter-widgets/base",
            "overflow": null,
            "_model_module_version": "1.2.0",
            "_view_count": null,
            "flex_flow": null,
            "width": null,
            "min_width": null,
            "border": null,
            "align_items": null,
            "bottom": null,
            "_model_module": "@jupyter-widgets/base",
            "top": null,
            "grid_column": null,
            "overflow_y": null,
            "overflow_x": null,
            "grid_auto_flow": null,
            "grid_area": null,
            "grid_template_columns": null,
            "flex": null,
            "_model_name": "LayoutModel",
            "justify_items": null,
            "grid_row": null,
            "max_height": null,
            "align_content": null,
            "visibility": null,
            "align_self": null,
            "height": null,
            "min_height": null,
            "padding": null,
            "grid_auto_rows": null,
            "grid_gap": null,
            "max_width": null,
            "order": null,
            "_view_module_version": "1.2.0",
            "grid_template_areas": null,
            "object_position": null,
            "object_fit": null,
            "grid_auto_columns": null,
            "margin": null,
            "display": null,
            "left": null
          }
        },
        "12d12493e90549428ced2eee4317630a": {
          "model_module": "@jupyter-widgets/controls",
          "model_name": "DescriptionStyleModel",
          "state": {
            "_view_name": "StyleView",
            "_model_name": "DescriptionStyleModel",
            "description_width": "",
            "_view_module": "@jupyter-widgets/base",
            "_model_module_version": "1.5.0",
            "_view_count": null,
            "_view_module_version": "1.2.0",
            "_model_module": "@jupyter-widgets/controls"
          }
        },
        "1e66538f252c47d0a3c7afe8cf93e21c": {
          "model_module": "@jupyter-widgets/base",
          "model_name": "LayoutModel",
          "state": {
            "_view_name": "LayoutView",
            "grid_template_rows": null,
            "right": null,
            "justify_content": null,
            "_view_module": "@jupyter-widgets/base",
            "overflow": null,
            "_model_module_version": "1.2.0",
            "_view_count": null,
            "flex_flow": null,
            "width": null,
            "min_width": null,
            "border": null,
            "align_items": null,
            "bottom": null,
            "_model_module": "@jupyter-widgets/base",
            "top": null,
            "grid_column": null,
            "overflow_y": null,
            "overflow_x": null,
            "grid_auto_flow": null,
            "grid_area": null,
            "grid_template_columns": null,
            "flex": null,
            "_model_name": "LayoutModel",
            "justify_items": null,
            "grid_row": null,
            "max_height": null,
            "align_content": null,
            "visibility": null,
            "align_self": null,
            "height": null,
            "min_height": null,
            "padding": null,
            "grid_auto_rows": null,
            "grid_gap": null,
            "max_width": null,
            "order": null,
            "_view_module_version": "1.2.0",
            "grid_template_areas": null,
            "object_position": null,
            "object_fit": null,
            "grid_auto_columns": null,
            "margin": null,
            "display": null,
            "left": null
          }
        },
        "e4d2ba17026e4d6793006db21f2dffbb": {
          "model_module": "@jupyter-widgets/controls",
          "model_name": "HBoxModel",
          "state": {
            "_view_name": "HBoxView",
            "_dom_classes": [],
            "_model_name": "HBoxModel",
            "_view_module": "@jupyter-widgets/controls",
            "_model_module_version": "1.5.0",
            "_view_count": null,
            "_view_module_version": "1.5.0",
            "box_style": "",
            "layout": "IPY_MODEL_548cc079bfb741c992e32bcda7f69647",
            "_model_module": "@jupyter-widgets/controls",
            "children": [
              "IPY_MODEL_4afe8d8ebadc4b90ae8b40efa7341f48",
              "IPY_MODEL_2ed7f962b2f84baaafc5bb4dceedbc7d"
            ]
          }
        },
        "548cc079bfb741c992e32bcda7f69647": {
          "model_module": "@jupyter-widgets/base",
          "model_name": "LayoutModel",
          "state": {
            "_view_name": "LayoutView",
            "grid_template_rows": null,
            "right": null,
            "justify_content": null,
            "_view_module": "@jupyter-widgets/base",
            "overflow": null,
            "_model_module_version": "1.2.0",
            "_view_count": null,
            "flex_flow": null,
            "width": null,
            "min_width": null,
            "border": null,
            "align_items": null,
            "bottom": null,
            "_model_module": "@jupyter-widgets/base",
            "top": null,
            "grid_column": null,
            "overflow_y": null,
            "overflow_x": null,
            "grid_auto_flow": null,
            "grid_area": null,
            "grid_template_columns": null,
            "flex": null,
            "_model_name": "LayoutModel",
            "justify_items": null,
            "grid_row": null,
            "max_height": null,
            "align_content": null,
            "visibility": null,
            "align_self": null,
            "height": null,
            "min_height": null,
            "padding": null,
            "grid_auto_rows": null,
            "grid_gap": null,
            "max_width": null,
            "order": null,
            "_view_module_version": "1.2.0",
            "grid_template_areas": null,
            "object_position": null,
            "object_fit": null,
            "grid_auto_columns": null,
            "margin": null,
            "display": null,
            "left": null
          }
        },
        "4afe8d8ebadc4b90ae8b40efa7341f48": {
          "model_module": "@jupyter-widgets/controls",
          "model_name": "FloatProgressModel",
          "state": {
            "_view_name": "ProgressView",
            "style": "IPY_MODEL_21a57199563e4dd1b5a80945e0bca15b",
            "_dom_classes": [],
            "description": "100%",
            "_model_name": "FloatProgressModel",
            "bar_style": "success",
            "max": 56097,
            "_view_module": "@jupyter-widgets/controls",
            "_model_module_version": "1.5.0",
            "value": 56097,
            "_view_count": null,
            "_view_module_version": "1.5.0",
            "orientation": "horizontal",
            "min": 0,
            "description_tooltip": null,
            "_model_module": "@jupyter-widgets/controls",
            "layout": "IPY_MODEL_e04669a804124953b5ca1c5f4ba0b9b0"
          }
        },
        "2ed7f962b2f84baaafc5bb4dceedbc7d": {
          "model_module": "@jupyter-widgets/controls",
          "model_name": "HTMLModel",
          "state": {
            "_view_name": "HTMLView",
            "style": "IPY_MODEL_5718442dd1f5490c9a5585d07822e036",
            "_dom_classes": [],
            "description": "",
            "_model_name": "HTMLModel",
            "placeholder": "​",
            "_view_module": "@jupyter-widgets/controls",
            "_model_module_version": "1.5.0",
            "value": " 56097/56097 [00:00&lt;00:00, 204834.87it/s]",
            "_view_count": null,
            "_view_module_version": "1.5.0",
            "description_tooltip": null,
            "_model_module": "@jupyter-widgets/controls",
            "layout": "IPY_MODEL_42f63c02f5a64177a5c2c5385e6e9eab"
          }
        },
        "21a57199563e4dd1b5a80945e0bca15b": {
          "model_module": "@jupyter-widgets/controls",
          "model_name": "ProgressStyleModel",
          "state": {
            "_view_name": "StyleView",
            "_model_name": "ProgressStyleModel",
            "description_width": "initial",
            "_view_module": "@jupyter-widgets/base",
            "_model_module_version": "1.5.0",
            "_view_count": null,
            "_view_module_version": "1.2.0",
            "bar_color": null,
            "_model_module": "@jupyter-widgets/controls"
          }
        },
        "e04669a804124953b5ca1c5f4ba0b9b0": {
          "model_module": "@jupyter-widgets/base",
          "model_name": "LayoutModel",
          "state": {
            "_view_name": "LayoutView",
            "grid_template_rows": null,
            "right": null,
            "justify_content": null,
            "_view_module": "@jupyter-widgets/base",
            "overflow": null,
            "_model_module_version": "1.2.0",
            "_view_count": null,
            "flex_flow": null,
            "width": null,
            "min_width": null,
            "border": null,
            "align_items": null,
            "bottom": null,
            "_model_module": "@jupyter-widgets/base",
            "top": null,
            "grid_column": null,
            "overflow_y": null,
            "overflow_x": null,
            "grid_auto_flow": null,
            "grid_area": null,
            "grid_template_columns": null,
            "flex": null,
            "_model_name": "LayoutModel",
            "justify_items": null,
            "grid_row": null,
            "max_height": null,
            "align_content": null,
            "visibility": null,
            "align_self": null,
            "height": null,
            "min_height": null,
            "padding": null,
            "grid_auto_rows": null,
            "grid_gap": null,
            "max_width": null,
            "order": null,
            "_view_module_version": "1.2.0",
            "grid_template_areas": null,
            "object_position": null,
            "object_fit": null,
            "grid_auto_columns": null,
            "margin": null,
            "display": null,
            "left": null
          }
        },
        "5718442dd1f5490c9a5585d07822e036": {
          "model_module": "@jupyter-widgets/controls",
          "model_name": "DescriptionStyleModel",
          "state": {
            "_view_name": "StyleView",
            "_model_name": "DescriptionStyleModel",
            "description_width": "",
            "_view_module": "@jupyter-widgets/base",
            "_model_module_version": "1.5.0",
            "_view_count": null,
            "_view_module_version": "1.2.0",
            "_model_module": "@jupyter-widgets/controls"
          }
        },
        "42f63c02f5a64177a5c2c5385e6e9eab": {
          "model_module": "@jupyter-widgets/base",
          "model_name": "LayoutModel",
          "state": {
            "_view_name": "LayoutView",
            "grid_template_rows": null,
            "right": null,
            "justify_content": null,
            "_view_module": "@jupyter-widgets/base",
            "overflow": null,
            "_model_module_version": "1.2.0",
            "_view_count": null,
            "flex_flow": null,
            "width": null,
            "min_width": null,
            "border": null,
            "align_items": null,
            "bottom": null,
            "_model_module": "@jupyter-widgets/base",
            "top": null,
            "grid_column": null,
            "overflow_y": null,
            "overflow_x": null,
            "grid_auto_flow": null,
            "grid_area": null,
            "grid_template_columns": null,
            "flex": null,
            "_model_name": "LayoutModel",
            "justify_items": null,
            "grid_row": null,
            "max_height": null,
            "align_content": null,
            "visibility": null,
            "align_self": null,
            "height": null,
            "min_height": null,
            "padding": null,
            "grid_auto_rows": null,
            "grid_gap": null,
            "max_width": null,
            "order": null,
            "_view_module_version": "1.2.0",
            "grid_template_areas": null,
            "object_position": null,
            "object_fit": null,
            "grid_auto_columns": null,
            "margin": null,
            "display": null,
            "left": null
          }
        },
        "0e8f0a39be3d44fcb0b0754940a836b5": {
          "model_module": "@jupyter-widgets/controls",
          "model_name": "HBoxModel",
          "state": {
            "_view_name": "HBoxView",
            "_dom_classes": [],
            "_model_name": "HBoxModel",
            "_view_module": "@jupyter-widgets/controls",
            "_model_module_version": "1.5.0",
            "_view_count": null,
            "_view_module_version": "1.5.0",
            "box_style": "",
            "layout": "IPY_MODEL_e2ce76c4c5bc4cc59eb6b55233e55339",
            "_model_module": "@jupyter-widgets/controls",
            "children": [
              "IPY_MODEL_a28b6c8ccb724b1d81453733c1dd5fab",
              "IPY_MODEL_c1c373a854df4cb5be16c5661a4f5528"
            ]
          }
        },
        "e2ce76c4c5bc4cc59eb6b55233e55339": {
          "model_module": "@jupyter-widgets/base",
          "model_name": "LayoutModel",
          "state": {
            "_view_name": "LayoutView",
            "grid_template_rows": null,
            "right": null,
            "justify_content": null,
            "_view_module": "@jupyter-widgets/base",
            "overflow": null,
            "_model_module_version": "1.2.0",
            "_view_count": null,
            "flex_flow": null,
            "width": null,
            "min_width": null,
            "border": null,
            "align_items": null,
            "bottom": null,
            "_model_module": "@jupyter-widgets/base",
            "top": null,
            "grid_column": null,
            "overflow_y": null,
            "overflow_x": null,
            "grid_auto_flow": null,
            "grid_area": null,
            "grid_template_columns": null,
            "flex": null,
            "_model_name": "LayoutModel",
            "justify_items": null,
            "grid_row": null,
            "max_height": null,
            "align_content": null,
            "visibility": null,
            "align_self": null,
            "height": null,
            "min_height": null,
            "padding": null,
            "grid_auto_rows": null,
            "grid_gap": null,
            "max_width": null,
            "order": null,
            "_view_module_version": "1.2.0",
            "grid_template_areas": null,
            "object_position": null,
            "object_fit": null,
            "grid_auto_columns": null,
            "margin": null,
            "display": null,
            "left": null
          }
        },
        "a28b6c8ccb724b1d81453733c1dd5fab": {
          "model_module": "@jupyter-widgets/controls",
          "model_name": "FloatProgressModel",
          "state": {
            "_view_name": "ProgressView",
            "style": "IPY_MODEL_fe0c46f7a9b340448b4adcec3e69feca",
            "_dom_classes": [],
            "description": "100%",
            "_model_name": "FloatProgressModel",
            "bar_style": "success",
            "max": 56097,
            "_view_module": "@jupyter-widgets/controls",
            "_model_module_version": "1.5.0",
            "value": 56097,
            "_view_count": null,
            "_view_module_version": "1.5.0",
            "orientation": "horizontal",
            "min": 0,
            "description_tooltip": null,
            "_model_module": "@jupyter-widgets/controls",
            "layout": "IPY_MODEL_157d125d80744a84bdc16dd647394c80"
          }
        },
        "c1c373a854df4cb5be16c5661a4f5528": {
          "model_module": "@jupyter-widgets/controls",
          "model_name": "HTMLModel",
          "state": {
            "_view_name": "HTMLView",
            "style": "IPY_MODEL_93b42d89887a47dd8d0a49d73467d5ff",
            "_dom_classes": [],
            "description": "",
            "_model_name": "HTMLModel",
            "placeholder": "​",
            "_view_module": "@jupyter-widgets/controls",
            "_model_module_version": "1.5.0",
            "value": " 56097/56097 [08:16&lt;00:00, 113.02it/s]",
            "_view_count": null,
            "_view_module_version": "1.5.0",
            "description_tooltip": null,
            "_model_module": "@jupyter-widgets/controls",
            "layout": "IPY_MODEL_3ee2526606494243b73a2c08fc05ddbc"
          }
        },
        "fe0c46f7a9b340448b4adcec3e69feca": {
          "model_module": "@jupyter-widgets/controls",
          "model_name": "ProgressStyleModel",
          "state": {
            "_view_name": "StyleView",
            "_model_name": "ProgressStyleModel",
            "description_width": "initial",
            "_view_module": "@jupyter-widgets/base",
            "_model_module_version": "1.5.0",
            "_view_count": null,
            "_view_module_version": "1.2.0",
            "bar_color": null,
            "_model_module": "@jupyter-widgets/controls"
          }
        },
        "157d125d80744a84bdc16dd647394c80": {
          "model_module": "@jupyter-widgets/base",
          "model_name": "LayoutModel",
          "state": {
            "_view_name": "LayoutView",
            "grid_template_rows": null,
            "right": null,
            "justify_content": null,
            "_view_module": "@jupyter-widgets/base",
            "overflow": null,
            "_model_module_version": "1.2.0",
            "_view_count": null,
            "flex_flow": null,
            "width": null,
            "min_width": null,
            "border": null,
            "align_items": null,
            "bottom": null,
            "_model_module": "@jupyter-widgets/base",
            "top": null,
            "grid_column": null,
            "overflow_y": null,
            "overflow_x": null,
            "grid_auto_flow": null,
            "grid_area": null,
            "grid_template_columns": null,
            "flex": null,
            "_model_name": "LayoutModel",
            "justify_items": null,
            "grid_row": null,
            "max_height": null,
            "align_content": null,
            "visibility": null,
            "align_self": null,
            "height": null,
            "min_height": null,
            "padding": null,
            "grid_auto_rows": null,
            "grid_gap": null,
            "max_width": null,
            "order": null,
            "_view_module_version": "1.2.0",
            "grid_template_areas": null,
            "object_position": null,
            "object_fit": null,
            "grid_auto_columns": null,
            "margin": null,
            "display": null,
            "left": null
          }
        },
        "93b42d89887a47dd8d0a49d73467d5ff": {
          "model_module": "@jupyter-widgets/controls",
          "model_name": "DescriptionStyleModel",
          "state": {
            "_view_name": "StyleView",
            "_model_name": "DescriptionStyleModel",
            "description_width": "",
            "_view_module": "@jupyter-widgets/base",
            "_model_module_version": "1.5.0",
            "_view_count": null,
            "_view_module_version": "1.2.0",
            "_model_module": "@jupyter-widgets/controls"
          }
        },
        "3ee2526606494243b73a2c08fc05ddbc": {
          "model_module": "@jupyter-widgets/base",
          "model_name": "LayoutModel",
          "state": {
            "_view_name": "LayoutView",
            "grid_template_rows": null,
            "right": null,
            "justify_content": null,
            "_view_module": "@jupyter-widgets/base",
            "overflow": null,
            "_model_module_version": "1.2.0",
            "_view_count": null,
            "flex_flow": null,
            "width": null,
            "min_width": null,
            "border": null,
            "align_items": null,
            "bottom": null,
            "_model_module": "@jupyter-widgets/base",
            "top": null,
            "grid_column": null,
            "overflow_y": null,
            "overflow_x": null,
            "grid_auto_flow": null,
            "grid_area": null,
            "grid_template_columns": null,
            "flex": null,
            "_model_name": "LayoutModel",
            "justify_items": null,
            "grid_row": null,
            "max_height": null,
            "align_content": null,
            "visibility": null,
            "align_self": null,
            "height": null,
            "min_height": null,
            "padding": null,
            "grid_auto_rows": null,
            "grid_gap": null,
            "max_width": null,
            "order": null,
            "_view_module_version": "1.2.0",
            "grid_template_areas": null,
            "object_position": null,
            "object_fit": null,
            "grid_auto_columns": null,
            "margin": null,
            "display": null,
            "left": null
          }
        },
        "0b0025265f71438295a0523d85481a7b": {
          "model_module": "@jupyter-widgets/controls",
          "model_name": "HBoxModel",
          "state": {
            "_view_name": "HBoxView",
            "_dom_classes": [],
            "_model_name": "HBoxModel",
            "_view_module": "@jupyter-widgets/controls",
            "_model_module_version": "1.5.0",
            "_view_count": null,
            "_view_module_version": "1.5.0",
            "box_style": "",
            "layout": "IPY_MODEL_3d3cd83d5ce443c78cccc693f041915e",
            "_model_module": "@jupyter-widgets/controls",
            "children": [
              "IPY_MODEL_3b521f3f8114446f91d201c5a0957bf7",
              "IPY_MODEL_2540cbda709047b493c80ad662b91101"
            ]
          }
        },
        "3d3cd83d5ce443c78cccc693f041915e": {
          "model_module": "@jupyter-widgets/base",
          "model_name": "LayoutModel",
          "state": {
            "_view_name": "LayoutView",
            "grid_template_rows": null,
            "right": null,
            "justify_content": null,
            "_view_module": "@jupyter-widgets/base",
            "overflow": null,
            "_model_module_version": "1.2.0",
            "_view_count": null,
            "flex_flow": null,
            "width": null,
            "min_width": null,
            "border": null,
            "align_items": null,
            "bottom": null,
            "_model_module": "@jupyter-widgets/base",
            "top": null,
            "grid_column": null,
            "overflow_y": null,
            "overflow_x": null,
            "grid_auto_flow": null,
            "grid_area": null,
            "grid_template_columns": null,
            "flex": null,
            "_model_name": "LayoutModel",
            "justify_items": null,
            "grid_row": null,
            "max_height": null,
            "align_content": null,
            "visibility": null,
            "align_self": null,
            "height": null,
            "min_height": null,
            "padding": null,
            "grid_auto_rows": null,
            "grid_gap": null,
            "max_width": null,
            "order": null,
            "_view_module_version": "1.2.0",
            "grid_template_areas": null,
            "object_position": null,
            "object_fit": null,
            "grid_auto_columns": null,
            "margin": null,
            "display": null,
            "left": null
          }
        },
        "3b521f3f8114446f91d201c5a0957bf7": {
          "model_module": "@jupyter-widgets/controls",
          "model_name": "FloatProgressModel",
          "state": {
            "_view_name": "ProgressView",
            "style": "IPY_MODEL_b8e87f4f35264c58820da5ce78e81da1",
            "_dom_classes": [],
            "description": "100%",
            "_model_name": "FloatProgressModel",
            "bar_style": "success",
            "max": 56097,
            "_view_module": "@jupyter-widgets/controls",
            "_model_module_version": "1.5.0",
            "value": 56097,
            "_view_count": null,
            "_view_module_version": "1.5.0",
            "orientation": "horizontal",
            "min": 0,
            "description_tooltip": null,
            "_model_module": "@jupyter-widgets/controls",
            "layout": "IPY_MODEL_11e76e6ebe1b49b98b3a21930316990c"
          }
        },
        "2540cbda709047b493c80ad662b91101": {
          "model_module": "@jupyter-widgets/controls",
          "model_name": "HTMLModel",
          "state": {
            "_view_name": "HTMLView",
            "style": "IPY_MODEL_764457305fa64cfd9d7785f99a0353c2",
            "_dom_classes": [],
            "description": "",
            "_model_name": "HTMLModel",
            "placeholder": "​",
            "_view_module": "@jupyter-widgets/controls",
            "_model_module_version": "1.5.0",
            "value": " 56097/56097 [00:00&lt;00:00, 89369.62it/s]",
            "_view_count": null,
            "_view_module_version": "1.5.0",
            "description_tooltip": null,
            "_model_module": "@jupyter-widgets/controls",
            "layout": "IPY_MODEL_87e99c2e62ab443c86b45091a8480f61"
          }
        },
        "b8e87f4f35264c58820da5ce78e81da1": {
          "model_module": "@jupyter-widgets/controls",
          "model_name": "ProgressStyleModel",
          "state": {
            "_view_name": "StyleView",
            "_model_name": "ProgressStyleModel",
            "description_width": "initial",
            "_view_module": "@jupyter-widgets/base",
            "_model_module_version": "1.5.0",
            "_view_count": null,
            "_view_module_version": "1.2.0",
            "bar_color": null,
            "_model_module": "@jupyter-widgets/controls"
          }
        },
        "11e76e6ebe1b49b98b3a21930316990c": {
          "model_module": "@jupyter-widgets/base",
          "model_name": "LayoutModel",
          "state": {
            "_view_name": "LayoutView",
            "grid_template_rows": null,
            "right": null,
            "justify_content": null,
            "_view_module": "@jupyter-widgets/base",
            "overflow": null,
            "_model_module_version": "1.2.0",
            "_view_count": null,
            "flex_flow": null,
            "width": null,
            "min_width": null,
            "border": null,
            "align_items": null,
            "bottom": null,
            "_model_module": "@jupyter-widgets/base",
            "top": null,
            "grid_column": null,
            "overflow_y": null,
            "overflow_x": null,
            "grid_auto_flow": null,
            "grid_area": null,
            "grid_template_columns": null,
            "flex": null,
            "_model_name": "LayoutModel",
            "justify_items": null,
            "grid_row": null,
            "max_height": null,
            "align_content": null,
            "visibility": null,
            "align_self": null,
            "height": null,
            "min_height": null,
            "padding": null,
            "grid_auto_rows": null,
            "grid_gap": null,
            "max_width": null,
            "order": null,
            "_view_module_version": "1.2.0",
            "grid_template_areas": null,
            "object_position": null,
            "object_fit": null,
            "grid_auto_columns": null,
            "margin": null,
            "display": null,
            "left": null
          }
        },
        "764457305fa64cfd9d7785f99a0353c2": {
          "model_module": "@jupyter-widgets/controls",
          "model_name": "DescriptionStyleModel",
          "state": {
            "_view_name": "StyleView",
            "_model_name": "DescriptionStyleModel",
            "description_width": "",
            "_view_module": "@jupyter-widgets/base",
            "_model_module_version": "1.5.0",
            "_view_count": null,
            "_view_module_version": "1.2.0",
            "_model_module": "@jupyter-widgets/controls"
          }
        },
        "87e99c2e62ab443c86b45091a8480f61": {
          "model_module": "@jupyter-widgets/base",
          "model_name": "LayoutModel",
          "state": {
            "_view_name": "LayoutView",
            "grid_template_rows": null,
            "right": null,
            "justify_content": null,
            "_view_module": "@jupyter-widgets/base",
            "overflow": null,
            "_model_module_version": "1.2.0",
            "_view_count": null,
            "flex_flow": null,
            "width": null,
            "min_width": null,
            "border": null,
            "align_items": null,
            "bottom": null,
            "_model_module": "@jupyter-widgets/base",
            "top": null,
            "grid_column": null,
            "overflow_y": null,
            "overflow_x": null,
            "grid_auto_flow": null,
            "grid_area": null,
            "grid_template_columns": null,
            "flex": null,
            "_model_name": "LayoutModel",
            "justify_items": null,
            "grid_row": null,
            "max_height": null,
            "align_content": null,
            "visibility": null,
            "align_self": null,
            "height": null,
            "min_height": null,
            "padding": null,
            "grid_auto_rows": null,
            "grid_gap": null,
            "max_width": null,
            "order": null,
            "_view_module_version": "1.2.0",
            "grid_template_areas": null,
            "object_position": null,
            "object_fit": null,
            "grid_auto_columns": null,
            "margin": null,
            "display": null,
            "left": null
          }
        },
        "6a9a09c14e2d467cb28df8ad5862389a": {
          "model_module": "@jupyter-widgets/controls",
          "model_name": "HBoxModel",
          "state": {
            "_view_name": "HBoxView",
            "_dom_classes": [],
            "_model_name": "HBoxModel",
            "_view_module": "@jupyter-widgets/controls",
            "_model_module_version": "1.5.0",
            "_view_count": null,
            "_view_module_version": "1.5.0",
            "box_style": "",
            "layout": "IPY_MODEL_42638d397eef4e74a807656439b3095d",
            "_model_module": "@jupyter-widgets/controls",
            "children": [
              "IPY_MODEL_f49a973758d94c7ea72e4d997e1dcfcc",
              "IPY_MODEL_84022162de69419eab20d8beb7b41528"
            ]
          }
        },
        "42638d397eef4e74a807656439b3095d": {
          "model_module": "@jupyter-widgets/base",
          "model_name": "LayoutModel",
          "state": {
            "_view_name": "LayoutView",
            "grid_template_rows": null,
            "right": null,
            "justify_content": null,
            "_view_module": "@jupyter-widgets/base",
            "overflow": null,
            "_model_module_version": "1.2.0",
            "_view_count": null,
            "flex_flow": null,
            "width": null,
            "min_width": null,
            "border": null,
            "align_items": null,
            "bottom": null,
            "_model_module": "@jupyter-widgets/base",
            "top": null,
            "grid_column": null,
            "overflow_y": null,
            "overflow_x": null,
            "grid_auto_flow": null,
            "grid_area": null,
            "grid_template_columns": null,
            "flex": null,
            "_model_name": "LayoutModel",
            "justify_items": null,
            "grid_row": null,
            "max_height": null,
            "align_content": null,
            "visibility": null,
            "align_self": null,
            "height": null,
            "min_height": null,
            "padding": null,
            "grid_auto_rows": null,
            "grid_gap": null,
            "max_width": null,
            "order": null,
            "_view_module_version": "1.2.0",
            "grid_template_areas": null,
            "object_position": null,
            "object_fit": null,
            "grid_auto_columns": null,
            "margin": null,
            "display": null,
            "left": null
          }
        },
        "f49a973758d94c7ea72e4d997e1dcfcc": {
          "model_module": "@jupyter-widgets/controls",
          "model_name": "FloatProgressModel",
          "state": {
            "_view_name": "ProgressView",
            "style": "IPY_MODEL_fb819c1fc14c4a1e898115815f9d1c12",
            "_dom_classes": [],
            "description": "100%",
            "_model_name": "FloatProgressModel",
            "bar_style": "success",
            "max": 56097,
            "_view_module": "@jupyter-widgets/controls",
            "_model_module_version": "1.5.0",
            "value": 56097,
            "_view_count": null,
            "_view_module_version": "1.5.0",
            "orientation": "horizontal",
            "min": 0,
            "description_tooltip": null,
            "_model_module": "@jupyter-widgets/controls",
            "layout": "IPY_MODEL_51a2b6dd56fb4616916d00d27608d4f8"
          }
        },
        "84022162de69419eab20d8beb7b41528": {
          "model_module": "@jupyter-widgets/controls",
          "model_name": "HTMLModel",
          "state": {
            "_view_name": "HTMLView",
            "style": "IPY_MODEL_2d1bb03f079f48a7859d84ff191725ff",
            "_dom_classes": [],
            "description": "",
            "_model_name": "HTMLModel",
            "placeholder": "​",
            "_view_module": "@jupyter-widgets/controls",
            "_model_module_version": "1.5.0",
            "value": " 56097/56097 [00:00&lt;00:00, 181465.41it/s]",
            "_view_count": null,
            "_view_module_version": "1.5.0",
            "description_tooltip": null,
            "_model_module": "@jupyter-widgets/controls",
            "layout": "IPY_MODEL_4a02132807264d5399753b7ebdb1d64e"
          }
        },
        "fb819c1fc14c4a1e898115815f9d1c12": {
          "model_module": "@jupyter-widgets/controls",
          "model_name": "ProgressStyleModel",
          "state": {
            "_view_name": "StyleView",
            "_model_name": "ProgressStyleModel",
            "description_width": "initial",
            "_view_module": "@jupyter-widgets/base",
            "_model_module_version": "1.5.0",
            "_view_count": null,
            "_view_module_version": "1.2.0",
            "bar_color": null,
            "_model_module": "@jupyter-widgets/controls"
          }
        },
        "51a2b6dd56fb4616916d00d27608d4f8": {
          "model_module": "@jupyter-widgets/base",
          "model_name": "LayoutModel",
          "state": {
            "_view_name": "LayoutView",
            "grid_template_rows": null,
            "right": null,
            "justify_content": null,
            "_view_module": "@jupyter-widgets/base",
            "overflow": null,
            "_model_module_version": "1.2.0",
            "_view_count": null,
            "flex_flow": null,
            "width": null,
            "min_width": null,
            "border": null,
            "align_items": null,
            "bottom": null,
            "_model_module": "@jupyter-widgets/base",
            "top": null,
            "grid_column": null,
            "overflow_y": null,
            "overflow_x": null,
            "grid_auto_flow": null,
            "grid_area": null,
            "grid_template_columns": null,
            "flex": null,
            "_model_name": "LayoutModel",
            "justify_items": null,
            "grid_row": null,
            "max_height": null,
            "align_content": null,
            "visibility": null,
            "align_self": null,
            "height": null,
            "min_height": null,
            "padding": null,
            "grid_auto_rows": null,
            "grid_gap": null,
            "max_width": null,
            "order": null,
            "_view_module_version": "1.2.0",
            "grid_template_areas": null,
            "object_position": null,
            "object_fit": null,
            "grid_auto_columns": null,
            "margin": null,
            "display": null,
            "left": null
          }
        },
        "2d1bb03f079f48a7859d84ff191725ff": {
          "model_module": "@jupyter-widgets/controls",
          "model_name": "DescriptionStyleModel",
          "state": {
            "_view_name": "StyleView",
            "_model_name": "DescriptionStyleModel",
            "description_width": "",
            "_view_module": "@jupyter-widgets/base",
            "_model_module_version": "1.5.0",
            "_view_count": null,
            "_view_module_version": "1.2.0",
            "_model_module": "@jupyter-widgets/controls"
          }
        },
        "4a02132807264d5399753b7ebdb1d64e": {
          "model_module": "@jupyter-widgets/base",
          "model_name": "LayoutModel",
          "state": {
            "_view_name": "LayoutView",
            "grid_template_rows": null,
            "right": null,
            "justify_content": null,
            "_view_module": "@jupyter-widgets/base",
            "overflow": null,
            "_model_module_version": "1.2.0",
            "_view_count": null,
            "flex_flow": null,
            "width": null,
            "min_width": null,
            "border": null,
            "align_items": null,
            "bottom": null,
            "_model_module": "@jupyter-widgets/base",
            "top": null,
            "grid_column": null,
            "overflow_y": null,
            "overflow_x": null,
            "grid_auto_flow": null,
            "grid_area": null,
            "grid_template_columns": null,
            "flex": null,
            "_model_name": "LayoutModel",
            "justify_items": null,
            "grid_row": null,
            "max_height": null,
            "align_content": null,
            "visibility": null,
            "align_self": null,
            "height": null,
            "min_height": null,
            "padding": null,
            "grid_auto_rows": null,
            "grid_gap": null,
            "max_width": null,
            "order": null,
            "_view_module_version": "1.2.0",
            "grid_template_areas": null,
            "object_position": null,
            "object_fit": null,
            "grid_auto_columns": null,
            "margin": null,
            "display": null,
            "left": null
          }
        }
      }
    }
  },
  "cells": [
    {
      "cell_type": "markdown",
      "metadata": {
        "id": "view-in-github",
        "colab_type": "text"
      },
      "source": [
        "<a href=\"https://colab.research.google.com/github/meraat-am/Deep-Learning/blob/master/implicit_2.ipynb\" target=\"_parent\"><img src=\"https://colab.research.google.com/assets/colab-badge.svg\" alt=\"Open In Colab\"/></a>"
      ]
    },
    {
      "cell_type": "markdown",
      "metadata": {
        "id": "DQ2Vpfp0-ZaR"
      },
      "source": [
        "# Recommendation System"
      ]
    },
    {
      "cell_type": "markdown",
      "metadata": {
        "id": "E2ZDTu--pbIY"
      },
      "source": [
        "## 0. install and import"
      ]
    },
    {
      "cell_type": "code",
      "metadata": {
        "colab": {
          "base_uri": "https://localhost:8080/"
        },
        "id": "xJEGhNkwkIE0",
        "outputId": "39f73e1d-1a7d-4de0-85e1-1b0c2546e64c"
      },
      "source": [
        "!pip install surprise"
      ],
      "execution_count": 1,
      "outputs": [
        {
          "output_type": "stream",
          "text": [
            "Collecting surprise\n",
            "  Downloading https://files.pythonhosted.org/packages/61/de/e5cba8682201fcf9c3719a6fdda95693468ed061945493dea2dd37c5618b/surprise-0.1-py2.py3-none-any.whl\n",
            "Collecting scikit-surprise\n",
            "\u001b[?25l  Downloading https://files.pythonhosted.org/packages/97/37/5d334adaf5ddd65da99fc65f6507e0e4599d092ba048f4302fe8775619e8/scikit-surprise-1.1.1.tar.gz (11.8MB)\n",
            "\u001b[K     |████████████████████████████████| 11.8MB 26.8MB/s \n",
            "\u001b[?25hRequirement already satisfied: joblib>=0.11 in /usr/local/lib/python3.7/dist-packages (from scikit-surprise->surprise) (1.0.1)\n",
            "Requirement already satisfied: numpy>=1.11.2 in /usr/local/lib/python3.7/dist-packages (from scikit-surprise->surprise) (1.19.5)\n",
            "Requirement already satisfied: scipy>=1.0.0 in /usr/local/lib/python3.7/dist-packages (from scikit-surprise->surprise) (1.4.1)\n",
            "Requirement already satisfied: six>=1.10.0 in /usr/local/lib/python3.7/dist-packages (from scikit-surprise->surprise) (1.15.0)\n",
            "Building wheels for collected packages: scikit-surprise\n",
            "  Building wheel for scikit-surprise (setup.py) ... \u001b[?25l\u001b[?25hdone\n",
            "  Created wheel for scikit-surprise: filename=scikit_surprise-1.1.1-cp37-cp37m-linux_x86_64.whl size=1617575 sha256=37fab40275c0d79dfc7f7bc26be04a961e410e16e8a52e1f2be13d9b65bd3aae\n",
            "  Stored in directory: /root/.cache/pip/wheels/78/9c/3d/41b419c9d2aff5b6e2b4c0fc8d25c538202834058f9ed110d0\n",
            "Successfully built scikit-surprise\n",
            "Installing collected packages: scikit-surprise, surprise\n",
            "Successfully installed scikit-surprise-1.1.1 surprise-0.1\n"
          ],
          "name": "stdout"
        }
      ]
    },
    {
      "cell_type": "code",
      "metadata": {
        "colab": {
          "base_uri": "https://localhost:8080/"
        },
        "id": "Rj4cQNYOMP9b",
        "outputId": "90908175-8f27-4d6a-f007-c52b2cd83894"
      },
      "source": [
        "!pip install implicit"
      ],
      "execution_count": 2,
      "outputs": [
        {
          "output_type": "stream",
          "text": [
            "Collecting implicit\n",
            "\u001b[?25l  Downloading https://files.pythonhosted.org/packages/bc/07/c0121884722d16e2c5beeb815f6b84b41cbf22e738e4075f1475be2791bc/implicit-0.4.4.tar.gz (1.1MB)\n",
            "\r\u001b[K     |▎                               | 10kB 22.7MB/s eta 0:00:01\r\u001b[K     |▋                               | 20kB 30.1MB/s eta 0:00:01\r\u001b[K     |▉                               | 30kB 22.9MB/s eta 0:00:01\r\u001b[K     |█▏                              | 40kB 26.3MB/s eta 0:00:01\r\u001b[K     |█▌                              | 51kB 25.5MB/s eta 0:00:01\r\u001b[K     |█▊                              | 61kB 28.0MB/s eta 0:00:01\r\u001b[K     |██                              | 71kB 19.0MB/s eta 0:00:01\r\u001b[K     |██▍                             | 81kB 19.6MB/s eta 0:00:01\r\u001b[K     |██▋                             | 92kB 18.6MB/s eta 0:00:01\r\u001b[K     |███                             | 102kB 18.8MB/s eta 0:00:01\r\u001b[K     |███▎                            | 112kB 18.8MB/s eta 0:00:01\r\u001b[K     |███▌                            | 122kB 18.8MB/s eta 0:00:01\r\u001b[K     |███▉                            | 133kB 18.8MB/s eta 0:00:01\r\u001b[K     |████▏                           | 143kB 18.8MB/s eta 0:00:01\r\u001b[K     |████▍                           | 153kB 18.8MB/s eta 0:00:01\r\u001b[K     |████▊                           | 163kB 18.8MB/s eta 0:00:01\r\u001b[K     |█████                           | 174kB 18.8MB/s eta 0:00:01\r\u001b[K     |█████▎                          | 184kB 18.8MB/s eta 0:00:01\r\u001b[K     |█████▋                          | 194kB 18.8MB/s eta 0:00:01\r\u001b[K     |██████                          | 204kB 18.8MB/s eta 0:00:01\r\u001b[K     |██████▏                         | 215kB 18.8MB/s eta 0:00:01\r\u001b[K     |██████▌                         | 225kB 18.8MB/s eta 0:00:01\r\u001b[K     |██████▉                         | 235kB 18.8MB/s eta 0:00:01\r\u001b[K     |███████                         | 245kB 18.8MB/s eta 0:00:01\r\u001b[K     |███████▍                        | 256kB 18.8MB/s eta 0:00:01\r\u001b[K     |███████▊                        | 266kB 18.8MB/s eta 0:00:01\r\u001b[K     |████████                        | 276kB 18.8MB/s eta 0:00:01\r\u001b[K     |████████▎                       | 286kB 18.8MB/s eta 0:00:01\r\u001b[K     |████████▋                       | 296kB 18.8MB/s eta 0:00:01\r\u001b[K     |████████▉                       | 307kB 18.8MB/s eta 0:00:01\r\u001b[K     |█████████▏                      | 317kB 18.8MB/s eta 0:00:01\r\u001b[K     |█████████▌                      | 327kB 18.8MB/s eta 0:00:01\r\u001b[K     |█████████▊                      | 337kB 18.8MB/s eta 0:00:01\r\u001b[K     |██████████                      | 348kB 18.8MB/s eta 0:00:01\r\u001b[K     |██████████▍                     | 358kB 18.8MB/s eta 0:00:01\r\u001b[K     |██████████▋                     | 368kB 18.8MB/s eta 0:00:01\r\u001b[K     |███████████                     | 378kB 18.8MB/s eta 0:00:01\r\u001b[K     |███████████▏                    | 389kB 18.8MB/s eta 0:00:01\r\u001b[K     |███████████▌                    | 399kB 18.8MB/s eta 0:00:01\r\u001b[K     |███████████▉                    | 409kB 18.8MB/s eta 0:00:01\r\u001b[K     |████████████                    | 419kB 18.8MB/s eta 0:00:01\r\u001b[K     |████████████▍                   | 430kB 18.8MB/s eta 0:00:01\r\u001b[K     |████████████▊                   | 440kB 18.8MB/s eta 0:00:01\r\u001b[K     |█████████████                   | 450kB 18.8MB/s eta 0:00:01\r\u001b[K     |█████████████▎                  | 460kB 18.8MB/s eta 0:00:01\r\u001b[K     |█████████████▋                  | 471kB 18.8MB/s eta 0:00:01\r\u001b[K     |█████████████▉                  | 481kB 18.8MB/s eta 0:00:01\r\u001b[K     |██████████████▏                 | 491kB 18.8MB/s eta 0:00:01\r\u001b[K     |██████████████▌                 | 501kB 18.8MB/s eta 0:00:01\r\u001b[K     |██████████████▊                 | 512kB 18.8MB/s eta 0:00:01\r\u001b[K     |███████████████                 | 522kB 18.8MB/s eta 0:00:01\r\u001b[K     |███████████████▍                | 532kB 18.8MB/s eta 0:00:01\r\u001b[K     |███████████████▋                | 542kB 18.8MB/s eta 0:00:01\r\u001b[K     |████████████████                | 552kB 18.8MB/s eta 0:00:01\r\u001b[K     |████████████████▎               | 563kB 18.8MB/s eta 0:00:01\r\u001b[K     |████████████████▌               | 573kB 18.8MB/s eta 0:00:01\r\u001b[K     |████████████████▉               | 583kB 18.8MB/s eta 0:00:01\r\u001b[K     |█████████████████▏              | 593kB 18.8MB/s eta 0:00:01\r\u001b[K     |█████████████████▍              | 604kB 18.8MB/s eta 0:00:01\r\u001b[K     |█████████████████▊              | 614kB 18.8MB/s eta 0:00:01\r\u001b[K     |██████████████████              | 624kB 18.8MB/s eta 0:00:01\r\u001b[K     |██████████████████▎             | 634kB 18.8MB/s eta 0:00:01\r\u001b[K     |██████████████████▋             | 645kB 18.8MB/s eta 0:00:01\r\u001b[K     |███████████████████             | 655kB 18.8MB/s eta 0:00:01\r\u001b[K     |███████████████████▏            | 665kB 18.8MB/s eta 0:00:01\r\u001b[K     |███████████████████▌            | 675kB 18.8MB/s eta 0:00:01\r\u001b[K     |███████████████████▉            | 686kB 18.8MB/s eta 0:00:01\r\u001b[K     |████████████████████            | 696kB 18.8MB/s eta 0:00:01\r\u001b[K     |████████████████████▍           | 706kB 18.8MB/s eta 0:00:01\r\u001b[K     |████████████████████▊           | 716kB 18.8MB/s eta 0:00:01\r\u001b[K     |█████████████████████           | 727kB 18.8MB/s eta 0:00:01\r\u001b[K     |█████████████████████▎          | 737kB 18.8MB/s eta 0:00:01\r\u001b[K     |█████████████████████▋          | 747kB 18.8MB/s eta 0:00:01\r\u001b[K     |█████████████████████▉          | 757kB 18.8MB/s eta 0:00:01\r\u001b[K     |██████████████████████▏         | 768kB 18.8MB/s eta 0:00:01\r\u001b[K     |██████████████████████▍         | 778kB 18.8MB/s eta 0:00:01\r\u001b[K     |██████████████████████▊         | 788kB 18.8MB/s eta 0:00:01\r\u001b[K     |███████████████████████         | 798kB 18.8MB/s eta 0:00:01\r\u001b[K     |███████████████████████▎        | 808kB 18.8MB/s eta 0:00:01\r\u001b[K     |███████████████████████▋        | 819kB 18.8MB/s eta 0:00:01\r\u001b[K     |████████████████████████        | 829kB 18.8MB/s eta 0:00:01\r\u001b[K     |████████████████████████▏       | 839kB 18.8MB/s eta 0:00:01\r\u001b[K     |████████████████████████▌       | 849kB 18.8MB/s eta 0:00:01\r\u001b[K     |████████████████████████▉       | 860kB 18.8MB/s eta 0:00:01\r\u001b[K     |█████████████████████████       | 870kB 18.8MB/s eta 0:00:01\r\u001b[K     |█████████████████████████▍      | 880kB 18.8MB/s eta 0:00:01\r\u001b[K     |█████████████████████████▊      | 890kB 18.8MB/s eta 0:00:01\r\u001b[K     |██████████████████████████      | 901kB 18.8MB/s eta 0:00:01\r\u001b[K     |██████████████████████████▎     | 911kB 18.8MB/s eta 0:00:01\r\u001b[K     |██████████████████████████▋     | 921kB 18.8MB/s eta 0:00:01\r\u001b[K     |██████████████████████████▉     | 931kB 18.8MB/s eta 0:00:01\r\u001b[K     |███████████████████████████▏    | 942kB 18.8MB/s eta 0:00:01\r\u001b[K     |███████████████████████████▌    | 952kB 18.8MB/s eta 0:00:01\r\u001b[K     |███████████████████████████▊    | 962kB 18.8MB/s eta 0:00:01\r\u001b[K     |████████████████████████████    | 972kB 18.8MB/s eta 0:00:01\r\u001b[K     |████████████████████████████▍   | 983kB 18.8MB/s eta 0:00:01\r\u001b[K     |████████████████████████████▋   | 993kB 18.8MB/s eta 0:00:01\r\u001b[K     |█████████████████████████████   | 1.0MB 18.8MB/s eta 0:00:01\r\u001b[K     |█████████████████████████████▎  | 1.0MB 18.8MB/s eta 0:00:01\r\u001b[K     |█████████████████████████████▌  | 1.0MB 18.8MB/s eta 0:00:01\r\u001b[K     |█████████████████████████████▉  | 1.0MB 18.8MB/s eta 0:00:01\r\u001b[K     |██████████████████████████████▏ | 1.0MB 18.8MB/s eta 0:00:01\r\u001b[K     |██████████████████████████████▍ | 1.1MB 18.8MB/s eta 0:00:01\r\u001b[K     |██████████████████████████████▊ | 1.1MB 18.8MB/s eta 0:00:01\r\u001b[K     |███████████████████████████████ | 1.1MB 18.8MB/s eta 0:00:01\r\u001b[K     |███████████████████████████████▎| 1.1MB 18.8MB/s eta 0:00:01\r\u001b[K     |███████████████████████████████▋| 1.1MB 18.8MB/s eta 0:00:01\r\u001b[K     |████████████████████████████████| 1.1MB 18.8MB/s eta 0:00:01\r\u001b[K     |████████████████████████████████| 1.1MB 18.8MB/s \n",
            "\u001b[?25hRequirement already satisfied: numpy in /usr/local/lib/python3.7/dist-packages (from implicit) (1.19.5)\n",
            "Requirement already satisfied: scipy>=0.16 in /usr/local/lib/python3.7/dist-packages (from implicit) (1.4.1)\n",
            "Requirement already satisfied: tqdm>=4.27 in /usr/local/lib/python3.7/dist-packages (from implicit) (4.41.1)\n",
            "Building wheels for collected packages: implicit\n",
            "  Building wheel for implicit (setup.py) ... \u001b[?25l\u001b[?25hdone\n",
            "  Created wheel for implicit: filename=implicit-0.4.4-cp37-cp37m-linux_x86_64.whl size=3406368 sha256=f75583d9f97fd66078d881fa2bdde0825f380bd573b9b337fbb194275fda2d95\n",
            "  Stored in directory: /root/.cache/pip/wheels/bf/d4/ec/fd4f622fcbefb7521f149905295b2c26adecb23af38aa28217\n",
            "Successfully built implicit\n",
            "Installing collected packages: implicit\n",
            "Successfully installed implicit-0.4.4\n"
          ],
          "name": "stdout"
        }
      ]
    },
    {
      "cell_type": "code",
      "metadata": {
        "colab": {
          "base_uri": "https://localhost:8080/"
        },
        "id": "_pZavP43BZbU",
        "outputId": "17b4a0d9-128e-4692-8289-91c2ac14bb60"
      },
      "source": [
        "!wget https://www.digikala.com/static/files/b683b250.xlsx"
      ],
      "execution_count": 3,
      "outputs": [
        {
          "output_type": "stream",
          "text": [
            "--2021-03-18 15:06:15--  https://www.digikala.com/static/files/b683b250.xlsx\n",
            "Resolving www.digikala.com (www.digikala.com)... 91.99.72.75, 79.175.144.150, 92.114.19.26, ...\n",
            "Connecting to www.digikala.com (www.digikala.com)|91.99.72.75|:443... failed: Connection timed out.\n",
            "Connecting to www.digikala.com (www.digikala.com)|79.175.144.150|:443... failed: Connection timed out.\n",
            "Connecting to www.digikala.com (www.digikala.com)|92.114.19.26|:443... connected.\n",
            "HTTP request sent, awaiting response... 200 OK\n",
            "Length: unspecified [application/vnd.openxmlformats-officedocument.spreadsheetml.sheet]\n",
            "Saving to: ‘b683b250.xlsx’\n",
            "\n",
            "b683b250.xlsx           [      <=>           ]  11.91M  6.43MB/s    in 1.9s    \n",
            "\n",
            "2021-03-18 15:07:23 (6.43 MB/s) - ‘b683b250.xlsx’ saved [12484441]\n",
            "\n"
          ],
          "name": "stdout"
        }
      ]
    },
    {
      "cell_type": "code",
      "metadata": {
        "id": "_9mtNP_--Zaa"
      },
      "source": [
        "from datetime import datetime\n",
        "import pandas as pd\n",
        "import numpy as np\n",
        "import seaborn as sns\n",
        "import hashlib\n",
        "sns.set_style(\"whitegrid\")\n",
        "import os\n",
        "import random\n",
        "import matplotlib\n",
        "import matplotlib.pyplot as plt\n",
        "from scipy import sparse\n",
        "from sklearn.metrics.pairwise import cosine_similarity\n",
        "from sklearn.metrics import mean_squared_error\n",
        "from sklearn.metrics import roc_auc_score, roc_curve, auc\n",
        "from collections import defaultdict\n",
        "\n",
        "import xgboost as xgb\n",
        "from surprise import Reader, Dataset, SVDpp\n",
        "from surprise.model_selection import KFold\n",
        "from implicit.recommender_base import RecommenderBase\n",
        "from implicit.als import AlternatingLeastSquares as ALS\n",
        "from implicit.bpr import BayesianPersonalizedRanking as BPR\n",
        "from implicit.lmf import LogisticMatrixFactorization as LMF\n",
        "from implicit.evaluation import precision_at_k,AUC_at_k,ndcg_at_k,mean_average_precision_at_k,train_test_split\n",
        "\n",
        "from surprise.model_selection import GridSearchCV"
      ],
      "execution_count": 120,
      "outputs": []
    },
    {
      "cell_type": "markdown",
      "metadata": {
        "id": "fZzm1YW1-Zaa"
      },
      "source": [
        "## 1. Reading and Storing Data"
      ]
    },
    {
      "cell_type": "markdown",
      "metadata": {
        "id": "8Hc6haQO-Zab"
      },
      "source": [
        "### Data Pre-processing"
      ]
    },
    {
      "cell_type": "code",
      "metadata": {
        "colab": {
          "base_uri": "https://localhost:8080/"
        },
        "id": "Qh4hvgLVIAdj",
        "outputId": "b2b5c0a7-17fa-4804-8126-7baa790137bd"
      },
      "source": [
        "# creating data frame from our output csv file.\r\n",
        "if not os.path.isfile(\"/content/DigikalaData.pkl\"):\r\n",
        "    startTime = datetime.now()\r\n",
        "    Final_Data = pd.read_excel(\"/content/b683b250.xlsx\",skiprows=1, names = [\"OrderID\",\"CustID\",\"VarientID\",\"MovieID\",\"Ratings\",\"Price\",\"Date\",\"CityID\",\"CityName\",\"StateID\",\"StateName\"])\r\n",
        "    print(\"Time taken for execution of above code = \"+str(datetime.now() - startTime))"
      ],
      "execution_count": 5,
      "outputs": [
        {
          "output_type": "stream",
          "text": [
            "Time taken for execution of above code = 0:00:16.850241\n"
          ],
          "name": "stdout"
        }
      ]
    },
    {
      "cell_type": "code",
      "metadata": {
        "id": "0nFOLcbzITKC"
      },
      "source": [
        "# storing pandas dataframe as a picklefile for later use\r\n",
        "if not os.path.isfile(\"/content/DigikalaData.pkl\"):\r\n",
        "    Final_Data.to_pickle(\"/content/DigikalaData.pkl\")\r\n",
        "else:\r\n",
        "    Final_Data = pd.read_pickle(\"/content/DigikalaData.pkl\")"
      ],
      "execution_count": 6,
      "outputs": []
    },
    {
      "cell_type": "code",
      "metadata": {
        "colab": {
          "base_uri": "https://localhost:8080/",
          "height": 195
        },
        "id": "bnbbM6Rn-Zad",
        "outputId": "21f3cce7-5413-4552-b5ce-5ff20a718682"
      },
      "source": [
        "Final_Data.head()"
      ],
      "execution_count": 7,
      "outputs": [
        {
          "output_type": "execute_result",
          "data": {
            "text/html": [
              "<div>\n",
              "<style scoped>\n",
              "    .dataframe tbody tr th:only-of-type {\n",
              "        vertical-align: middle;\n",
              "    }\n",
              "\n",
              "    .dataframe tbody tr th {\n",
              "        vertical-align: top;\n",
              "    }\n",
              "\n",
              "    .dataframe thead th {\n",
              "        text-align: right;\n",
              "    }\n",
              "</style>\n",
              "<table border=\"1\" class=\"dataframe\">\n",
              "  <thead>\n",
              "    <tr style=\"text-align: right;\">\n",
              "      <th></th>\n",
              "      <th>OrderID</th>\n",
              "      <th>CustID</th>\n",
              "      <th>VarientID</th>\n",
              "      <th>MovieID</th>\n",
              "      <th>Ratings</th>\n",
              "      <th>Price</th>\n",
              "      <th>Date</th>\n",
              "      <th>CityID</th>\n",
              "      <th>CityName</th>\n",
              "      <th>StateID</th>\n",
              "      <th>StateName</th>\n",
              "    </tr>\n",
              "  </thead>\n",
              "  <tbody>\n",
              "    <tr>\n",
              "      <th>0</th>\n",
              "      <td>262108413</td>\n",
              "      <td>SlcW7YT835JSzh22o7zRCA==</td>\n",
              "      <td>685868</td>\n",
              "      <td>435013</td>\n",
              "      <td>1</td>\n",
              "      <td>890000</td>\n",
              "      <td>2018-08-20 23:59:02</td>\n",
              "      <td>1698</td>\n",
              "      <td>تهران</td>\n",
              "      <td>9</td>\n",
              "      <td>تهران</td>\n",
              "    </tr>\n",
              "    <tr>\n",
              "      <th>1</th>\n",
              "      <td>262108353</td>\n",
              "      <td>NZidrSuPdqoG7RedrFakeA==</td>\n",
              "      <td>275077</td>\n",
              "      <td>163947</td>\n",
              "      <td>1</td>\n",
              "      <td>9890000</td>\n",
              "      <td>2018-08-20 23:58:39</td>\n",
              "      <td>1698</td>\n",
              "      <td>تهران</td>\n",
              "      <td>9</td>\n",
              "      <td>تهران</td>\n",
              "    </tr>\n",
              "    <tr>\n",
              "      <th>2</th>\n",
              "      <td>262108341</td>\n",
              "      <td>dLQImlfXMsgSub4OcfJpGg==</td>\n",
              "      <td>679393</td>\n",
              "      <td>158560</td>\n",
              "      <td>1</td>\n",
              "      <td>349000</td>\n",
              "      <td>2018-08-20 23:58:35</td>\n",
              "      <td>1855</td>\n",
              "      <td>مشهد</td>\n",
              "      <td>12</td>\n",
              "      <td>خراسان رضوی</td>\n",
              "    </tr>\n",
              "    <tr>\n",
              "      <th>3</th>\n",
              "      <td>262108293</td>\n",
              "      <td>O/xo6mGsu7adcgxofe+MdQ==</td>\n",
              "      <td>769096</td>\n",
              "      <td>479854</td>\n",
              "      <td>1</td>\n",
              "      <td>320000</td>\n",
              "      <td>2018-08-20 23:58:28</td>\n",
              "      <td>1698</td>\n",
              "      <td>تهران</td>\n",
              "      <td>9</td>\n",
              "      <td>تهران</td>\n",
              "    </tr>\n",
              "    <tr>\n",
              "      <th>4</th>\n",
              "      <td>262108245</td>\n",
              "      <td>qdl8iWQQhf5xNw4DrqvNtA==</td>\n",
              "      <td>840922</td>\n",
              "      <td>63831</td>\n",
              "      <td>1</td>\n",
              "      <td>479500</td>\n",
              "      <td>2018-08-20 23:58:17</td>\n",
              "      <td>1698</td>\n",
              "      <td>تهران</td>\n",
              "      <td>9</td>\n",
              "      <td>تهران</td>\n",
              "    </tr>\n",
              "  </tbody>\n",
              "</table>\n",
              "</div>"
            ],
            "text/plain": [
              "     OrderID                    CustID  ...  StateID    StateName\n",
              "0  262108413  SlcW7YT835JSzh22o7zRCA==  ...        9        تهران\n",
              "1  262108353  NZidrSuPdqoG7RedrFakeA==  ...        9        تهران\n",
              "2  262108341  dLQImlfXMsgSub4OcfJpGg==  ...       12  خراسان رضوی\n",
              "3  262108293  O/xo6mGsu7adcgxofe+MdQ==  ...        9        تهران\n",
              "4  262108245  qdl8iWQQhf5xNw4DrqvNtA==  ...        9        تهران\n",
              "\n",
              "[5 rows x 11 columns]"
            ]
          },
          "metadata": {
            "tags": []
          },
          "execution_count": 7
        }
      ]
    },
    {
      "cell_type": "code",
      "metadata": {
        "colab": {
          "base_uri": "https://localhost:8080/"
        },
        "id": "XMR5YIlTqS-d",
        "outputId": "3fe3f3fd-c204-4a08-886e-303a9cb484e8"
      },
      "source": [
        "type(Final_Data['MovieID'][100])"
      ],
      "execution_count": 8,
      "outputs": [
        {
          "output_type": "execute_result",
          "data": {
            "text/plain": [
              "numpy.int64"
            ]
          },
          "metadata": {
            "tags": []
          },
          "execution_count": 8
        }
      ]
    },
    {
      "cell_type": "code",
      "metadata": {
        "colab": {
          "base_uri": "https://localhost:8080/"
        },
        "id": "HF649--TKwb-",
        "outputId": "446694c0-f094-4823-9591-c30469e00764"
      },
      "source": [
        "unique_users = len(np.unique(Final_Data[\"CustID\"]))\r\n",
        "unique_users"
      ],
      "execution_count": 9,
      "outputs": [
        {
          "output_type": "execute_result",
          "data": {
            "text/plain": [
              "56104"
            ]
          },
          "metadata": {
            "tags": []
          },
          "execution_count": 9
        }
      ]
    },
    {
      "cell_type": "code",
      "metadata": {
        "colab": {
          "base_uri": "https://localhost:8080/"
        },
        "id": "_9IAi4AlM23O",
        "outputId": "39dc358d-c007-406b-d0b3-4ee3a989e9d1"
      },
      "source": [
        "unique_items = len(np.unique(Final_Data[\"MovieID\"]))\r\n",
        "unique_items"
      ],
      "execution_count": 10,
      "outputs": [
        {
          "output_type": "execute_result",
          "data": {
            "text/plain": [
              "61734"
            ]
          },
          "metadata": {
            "tags": []
          },
          "execution_count": 10
        }
      ]
    },
    {
      "cell_type": "code",
      "metadata": {
        "id": "zQ7rVCnvFb7N"
      },
      "source": [
        "hashAlgo = hashlib.md5()\r\n",
        "def hasher_cust(x):\r\n",
        "  hashAlgo.update(x.encode('utf-8'))\r\n",
        "  return int(hashAlgo.hexdigest(),16) % (unique_users)"
      ],
      "execution_count": 11,
      "outputs": []
    },
    {
      "cell_type": "code",
      "metadata": {
        "id": "xh3K1zYjFfPr"
      },
      "source": [
        "Final_Data['CustID'] = Final_Data['CustID'].apply(hasher_cust)"
      ],
      "execution_count": 12,
      "outputs": []
    },
    {
      "cell_type": "code",
      "metadata": {
        "id": "d9mMgMFd2Qpe"
      },
      "source": [
        "import uuid"
      ],
      "execution_count": 13,
      "outputs": []
    },
    {
      "cell_type": "code",
      "metadata": {
        "id": "9SXw25moNTjQ"
      },
      "source": [
        "def hasher_item(x):\r\n",
        "  return (uuid.uuid1().int>>64)%(unique_items)"
      ],
      "execution_count": 14,
      "outputs": []
    },
    {
      "cell_type": "code",
      "metadata": {
        "id": "kmPi0XJvNHtj"
      },
      "source": [
        "Final_Data['MovieID'] = Final_Data['MovieID'].apply(hasher_item)"
      ],
      "execution_count": 15,
      "outputs": []
    },
    {
      "cell_type": "code",
      "metadata": {
        "colab": {
          "base_uri": "https://localhost:8080/"
        },
        "id": "RPfNCNtWL_5b",
        "outputId": "8918b81a-94aa-4aee-b8c2-cb3c4a9d828c"
      },
      "source": [
        "Final_Data['MovieID'][9]"
      ],
      "execution_count": 16,
      "outputs": [
        {
          "output_type": "execute_result",
          "data": {
            "text/plain": [
              "20937"
            ]
          },
          "metadata": {
            "tags": []
          },
          "execution_count": 16
        }
      ]
    },
    {
      "cell_type": "code",
      "metadata": {
        "id": "LSDHcGyAQVN2"
      },
      "source": [
        "# def corrector(x):\r\n",
        "#   if(x>=0.5):\r\n",
        "#     return 1\r\n",
        "#   else:\r\n",
        "#     return 0"
      ],
      "execution_count": 17,
      "outputs": []
    },
    {
      "cell_type": "code",
      "metadata": {
        "id": "f41D2d4CP5Je"
      },
      "source": [
        "# Final_Data['Ratings'] = Final_Data['Ratings'].apply(corrector)"
      ],
      "execution_count": 18,
      "outputs": []
    },
    {
      "cell_type": "code",
      "metadata": {
        "id": "-GJl7gqoYBGg"
      },
      "source": [
        "Final_Data = Final_Data[['CustID','MovieID','Ratings']]"
      ],
      "execution_count": 19,
      "outputs": []
    },
    {
      "cell_type": "code",
      "metadata": {
        "colab": {
          "base_uri": "https://localhost:8080/",
          "height": 195
        },
        "id": "PzEjlljJdaeo",
        "outputId": "18faf16e-0f3f-4c9c-c088-9e0fe38d03e2"
      },
      "source": [
        "Final_Data.tail()"
      ],
      "execution_count": 20,
      "outputs": [
        {
          "output_type": "execute_result",
          "data": {
            "text/html": [
              "<div>\n",
              "<style scoped>\n",
              "    .dataframe tbody tr th:only-of-type {\n",
              "        vertical-align: middle;\n",
              "    }\n",
              "\n",
              "    .dataframe tbody tr th {\n",
              "        vertical-align: top;\n",
              "    }\n",
              "\n",
              "    .dataframe thead th {\n",
              "        text-align: right;\n",
              "    }\n",
              "</style>\n",
              "<table border=\"1\" class=\"dataframe\">\n",
              "  <thead>\n",
              "    <tr style=\"text-align: right;\">\n",
              "      <th></th>\n",
              "      <th>CustID</th>\n",
              "      <th>MovieID</th>\n",
              "      <th>Ratings</th>\n",
              "    </tr>\n",
              "  </thead>\n",
              "  <tbody>\n",
              "    <tr>\n",
              "      <th>199994</th>\n",
              "      <td>24252</td>\n",
              "      <td>39437</td>\n",
              "      <td>1</td>\n",
              "    </tr>\n",
              "    <tr>\n",
              "      <th>199995</th>\n",
              "      <td>51917</td>\n",
              "      <td>54469</td>\n",
              "      <td>1</td>\n",
              "    </tr>\n",
              "    <tr>\n",
              "      <th>199996</th>\n",
              "      <td>51496</td>\n",
              "      <td>40513</td>\n",
              "      <td>1</td>\n",
              "    </tr>\n",
              "    <tr>\n",
              "      <th>199997</th>\n",
              "      <td>6750</td>\n",
              "      <td>55545</td>\n",
              "      <td>1</td>\n",
              "    </tr>\n",
              "    <tr>\n",
              "      <th>199998</th>\n",
              "      <td>3799</td>\n",
              "      <td>8843</td>\n",
              "      <td>1</td>\n",
              "    </tr>\n",
              "  </tbody>\n",
              "</table>\n",
              "</div>"
            ],
            "text/plain": [
              "        CustID  MovieID  Ratings\n",
              "199994   24252    39437        1\n",
              "199995   51917    54469        1\n",
              "199996   51496    40513        1\n",
              "199997    6750    55545        1\n",
              "199998    3799     8843        1"
            ]
          },
          "metadata": {
            "tags": []
          },
          "execution_count": 20
        }
      ]
    },
    {
      "cell_type": "code",
      "metadata": {
        "id": "1f3jxvb0alrb"
      },
      "source": [
        "# Final_Data1=Final_Data\r\n",
        "# Final_Data=Final_Data.loc[0:20000]"
      ],
      "execution_count": 21,
      "outputs": []
    },
    {
      "cell_type": "code",
      "metadata": {
        "colab": {
          "base_uri": "https://localhost:8080/"
        },
        "id": "I6niURrs-Zae",
        "outputId": "5be4b0a8-d06c-4380-d0f6-99d5b4ab64bb"
      },
      "source": [
        "Final_Data.describe()[\"Ratings\"]"
      ],
      "execution_count": 22,
      "outputs": [
        {
          "output_type": "execute_result",
          "data": {
            "text/plain": [
              "count    199999.000000\n",
              "mean          1.327397\n",
              "std           1.428638\n",
              "min          -2.000000\n",
              "25%           1.000000\n",
              "50%           1.000000\n",
              "75%           1.000000\n",
              "max         100.000000\n",
              "Name: Ratings, dtype: float64"
            ]
          },
          "metadata": {
            "tags": []
          },
          "execution_count": 22
        }
      ]
    },
    {
      "cell_type": "code",
      "metadata": {
        "colab": {
          "base_uri": "https://localhost:8080/"
        },
        "id": "ZVSTsMF4JNoL",
        "outputId": "bc28469c-e103-4e7f-86df-ff1364573f4f"
      },
      "source": [
        "print(max(Final_Data['CustID']),min(Final_Data['CustID']))\r\n",
        "print(max(Final_Data['MovieID']),min(Final_Data['MovieID']))"
      ],
      "execution_count": 23,
      "outputs": [
        {
          "output_type": "stream",
          "text": [
            "56103 0\n",
            "61733 1\n"
          ],
          "name": "stdout"
        }
      ]
    },
    {
      "cell_type": "markdown",
      "metadata": {
        "id": "5SWR01xS-Zae"
      },
      "source": [
        "### Checking for NaN"
      ]
    },
    {
      "cell_type": "code",
      "metadata": {
        "colab": {
          "base_uri": "https://localhost:8080/"
        },
        "id": "fitpMPgI-Zae",
        "outputId": "78c7c97a-03dd-4095-9c54-3ae451e87304"
      },
      "source": [
        "print(\"Number of NaN values = \"+str(Final_Data.isnull().sum()))"
      ],
      "execution_count": 24,
      "outputs": [
        {
          "output_type": "stream",
          "text": [
            "Number of NaN values = CustID     0\n",
            "MovieID    0\n",
            "Ratings    0\n",
            "dtype: int64\n"
          ],
          "name": "stdout"
        }
      ]
    },
    {
      "cell_type": "markdown",
      "metadata": {
        "id": "Uanwvy_W-Zaf"
      },
      "source": [
        "### Removing Duplicates"
      ]
    },
    {
      "cell_type": "code",
      "metadata": {
        "colab": {
          "base_uri": "https://localhost:8080/"
        },
        "id": "zGWbXAvf-Zaf",
        "outputId": "ec5edf7b-ea9e-48ad-9ecd-7a91b5daa243"
      },
      "source": [
        "duplicates = Final_Data.duplicated([\"MovieID\",\"CustID\", \"Ratings\"])\n",
        "print(\"Number of duplicate rows = \"+str(duplicates.sum()))"
      ],
      "execution_count": 25,
      "outputs": [
        {
          "output_type": "stream",
          "text": [
            "Number of duplicate rows = 9\n"
          ],
          "name": "stdout"
        }
      ]
    },
    {
      "cell_type": "markdown",
      "metadata": {
        "id": "z15Os0Nc-Zaf"
      },
      "source": [
        "### Basic Statistics"
      ]
    },
    {
      "cell_type": "code",
      "metadata": {
        "colab": {
          "base_uri": "https://localhost:8080/"
        },
        "id": "UnYV-Lfd-Zag",
        "outputId": "d7915eae-02bf-42f1-d963-bc3bed6022c5"
      },
      "source": [
        "print(\"Total Data:\")\n",
        "print(\"Total number of movie ratings = \"+str(Final_Data.shape[0]))\n",
        "print(\"Number of unique users = \"+str(len(np.unique(Final_Data[\"CustID\"]))))\n",
        "print(\"Number of unique movies = \"+str(len(np.unique(Final_Data[\"MovieID\"]))))"
      ],
      "execution_count": 26,
      "outputs": [
        {
          "output_type": "stream",
          "text": [
            "Total Data:\n",
            "Total number of movie ratings = 199999\n",
            "Number of unique users = 54483\n",
            "Number of unique movies = 30839\n"
          ],
          "name": "stdout"
        }
      ]
    },
    {
      "cell_type": "markdown",
      "metadata": {
        "id": "2B3Ac0af-Zag"
      },
      "source": [
        "### Spliting data into Train and Test(80:20)"
      ]
    },
    {
      "cell_type": "code",
      "metadata": {
        "id": "W_4sg0HpP4dp"
      },
      "source": [
        "if not os.path.isfile(\"/content/TrainData.pkl\"):\r\n",
        "    pkler = Final_Data.iloc[:int(Final_Data.shape[0]*0.80)]\r\n",
        "    # pkler = pkler.append(Final_notbought.iloc[:int(Final_notbought.shape[0]*0.80)])\r\n",
        "    pkler.to_pickle(\"/content/TrainData.pkl\")\r\n",
        "    Train_Data = pd.read_pickle(\"/content/TrainData.pkl\")\r\n",
        "    Train_Data.reset_index(drop = True, inplace = True)\r\n",
        "else:\r\n",
        "    Train_Data = pd.read_pickle(\"/content/TrainData.pkl\")\r\n",
        "    Train_Data.reset_index(drop = True, inplace = True)\r\n",
        "\r\n",
        "if not os.path.isfile(\"/content/TestData.pkl\"):\r\n",
        "    pkler = Final_Data.iloc[int(Final_Data.shape[0]*0.80):]\r\n",
        "    # pkler = pkler.append(Final_notbought.iloc[int(Final_notbought.shape[0]*0.80):])\r\n",
        "    pkler.to_pickle(\"/content/TestData.pkl\")\r\n",
        "    Test_Data = pd.read_pickle(\"/content/TestData.pkl\")\r\n",
        "    Test_Data.reset_index(drop = True, inplace = True)\r\n",
        "else:\r\n",
        "    Test_Data = pd.read_pickle(\"/content/TestData.pkl\")\r\n",
        "    Test_Data.reset_index(drop = True, inplace = True)"
      ],
      "execution_count": 27,
      "outputs": []
    },
    {
      "cell_type": "markdown",
      "metadata": {
        "id": "oxcHtOLJ-Zag"
      },
      "source": [
        "### Basic Statistics in Train data"
      ]
    },
    {
      "cell_type": "code",
      "metadata": {
        "colab": {
          "base_uri": "https://localhost:8080/",
          "height": 195
        },
        "id": "P_rMFqHL-Zag",
        "outputId": "3687d0ea-bbb2-42dd-b588-9e3387767c60"
      },
      "source": [
        "Train_Data.head()"
      ],
      "execution_count": 28,
      "outputs": [
        {
          "output_type": "execute_result",
          "data": {
            "text/html": [
              "<div>\n",
              "<style scoped>\n",
              "    .dataframe tbody tr th:only-of-type {\n",
              "        vertical-align: middle;\n",
              "    }\n",
              "\n",
              "    .dataframe tbody tr th {\n",
              "        vertical-align: top;\n",
              "    }\n",
              "\n",
              "    .dataframe thead th {\n",
              "        text-align: right;\n",
              "    }\n",
              "</style>\n",
              "<table border=\"1\" class=\"dataframe\">\n",
              "  <thead>\n",
              "    <tr style=\"text-align: right;\">\n",
              "      <th></th>\n",
              "      <th>CustID</th>\n",
              "      <th>MovieID</th>\n",
              "      <th>Ratings</th>\n",
              "    </tr>\n",
              "  </thead>\n",
              "  <tbody>\n",
              "    <tr>\n",
              "      <th>0</th>\n",
              "      <td>16897</td>\n",
              "      <td>48833</td>\n",
              "      <td>1</td>\n",
              "    </tr>\n",
              "    <tr>\n",
              "      <th>1</th>\n",
              "      <td>7017</td>\n",
              "      <td>12875</td>\n",
              "      <td>1</td>\n",
              "    </tr>\n",
              "    <tr>\n",
              "      <th>2</th>\n",
              "      <td>49010</td>\n",
              "      <td>35423</td>\n",
              "      <td>1</td>\n",
              "    </tr>\n",
              "    <tr>\n",
              "      <th>3</th>\n",
              "      <td>38181</td>\n",
              "      <td>21467</td>\n",
              "      <td>1</td>\n",
              "    </tr>\n",
              "    <tr>\n",
              "      <th>4</th>\n",
              "      <td>19991</td>\n",
              "      <td>7511</td>\n",
              "      <td>1</td>\n",
              "    </tr>\n",
              "  </tbody>\n",
              "</table>\n",
              "</div>"
            ],
            "text/plain": [
              "   CustID  MovieID  Ratings\n",
              "0   16897    48833        1\n",
              "1    7017    12875        1\n",
              "2   49010    35423        1\n",
              "3   38181    21467        1\n",
              "4   19991     7511        1"
            ]
          },
          "metadata": {
            "tags": []
          },
          "execution_count": 28
        }
      ]
    },
    {
      "cell_type": "code",
      "metadata": {
        "colab": {
          "base_uri": "https://localhost:8080/"
        },
        "id": "mLBoHTv8-Zah",
        "outputId": "35a4a396-3880-432d-dcf1-d911a960bf50"
      },
      "source": [
        "print(\"Total Train Data:\")\n",
        "print(\"Total number of movie ratings in train data = \"+str(Train_Data.shape[0]))\n",
        "print(\"Number of unique users in train data = \"+str(len(np.unique(Train_Data[\"CustID\"]))))\n",
        "print(\"Number of unique movies in train data = \"+str(len(np.unique(Train_Data[\"MovieID\"]))))\n",
        "print(\"Highest value of a User ID = \"+str(max(Train_Data[\"CustID\"].values)))\n",
        "print(\"Highest value of a Movie ID = \"+str(max(Train_Data[\"MovieID\"].values)))"
      ],
      "execution_count": 29,
      "outputs": [
        {
          "output_type": "stream",
          "text": [
            "Total Train Data:\n",
            "Total number of movie ratings in train data = 159999\n",
            "Number of unique users in train data = 52866\n",
            "Number of unique movies in train data = 30744\n",
            "Highest value of a User ID = 56103\n",
            "Highest value of a Movie ID = 61733\n"
          ],
          "name": "stdout"
        }
      ]
    },
    {
      "cell_type": "markdown",
      "metadata": {
        "id": "Qcb2OJ7Z-Zah"
      },
      "source": [
        "### Basic Statistics in Test data"
      ]
    },
    {
      "cell_type": "code",
      "metadata": {
        "colab": {
          "base_uri": "https://localhost:8080/",
          "height": 195
        },
        "id": "Jbz2DqlT-Zah",
        "outputId": "b56ca85e-93b4-499c-df76-15d0a61a912a"
      },
      "source": [
        "Test_Data.head()"
      ],
      "execution_count": 30,
      "outputs": [
        {
          "output_type": "execute_result",
          "data": {
            "text/html": [
              "<div>\n",
              "<style scoped>\n",
              "    .dataframe tbody tr th:only-of-type {\n",
              "        vertical-align: middle;\n",
              "    }\n",
              "\n",
              "    .dataframe tbody tr th {\n",
              "        vertical-align: top;\n",
              "    }\n",
              "\n",
              "    .dataframe thead th {\n",
              "        text-align: right;\n",
              "    }\n",
              "</style>\n",
              "<table border=\"1\" class=\"dataframe\">\n",
              "  <thead>\n",
              "    <tr style=\"text-align: right;\">\n",
              "      <th></th>\n",
              "      <th>CustID</th>\n",
              "      <th>MovieID</th>\n",
              "      <th>Ratings</th>\n",
              "    </tr>\n",
              "  </thead>\n",
              "  <tbody>\n",
              "    <tr>\n",
              "      <th>0</th>\n",
              "      <td>36803</td>\n",
              "      <td>33791</td>\n",
              "      <td>1</td>\n",
              "    </tr>\n",
              "    <tr>\n",
              "      <th>1</th>\n",
              "      <td>23432</td>\n",
              "      <td>23593</td>\n",
              "      <td>1</td>\n",
              "    </tr>\n",
              "    <tr>\n",
              "      <th>2</th>\n",
              "      <td>44881</td>\n",
              "      <td>13395</td>\n",
              "      <td>1</td>\n",
              "    </tr>\n",
              "    <tr>\n",
              "      <th>3</th>\n",
              "      <td>10477</td>\n",
              "      <td>3197</td>\n",
              "      <td>1</td>\n",
              "    </tr>\n",
              "    <tr>\n",
              "      <th>4</th>\n",
              "      <td>38877</td>\n",
              "      <td>54733</td>\n",
              "      <td>1</td>\n",
              "    </tr>\n",
              "  </tbody>\n",
              "</table>\n",
              "</div>"
            ],
            "text/plain": [
              "   CustID  MovieID  Ratings\n",
              "0   36803    33791        1\n",
              "1   23432    23593        1\n",
              "2   44881    13395        1\n",
              "3   10477     3197        1\n",
              "4   38877    54733        1"
            ]
          },
          "metadata": {
            "tags": []
          },
          "execution_count": 30
        }
      ]
    },
    {
      "cell_type": "code",
      "metadata": {
        "colab": {
          "base_uri": "https://localhost:8080/",
          "height": 195
        },
        "id": "bzDZTJPe5oPo",
        "outputId": "6aec5a4c-940f-45da-fdf1-7af9e88d70f6"
      },
      "source": [
        "Test_Data.tail()"
      ],
      "execution_count": 31,
      "outputs": [
        {
          "output_type": "execute_result",
          "data": {
            "text/html": [
              "<div>\n",
              "<style scoped>\n",
              "    .dataframe tbody tr th:only-of-type {\n",
              "        vertical-align: middle;\n",
              "    }\n",
              "\n",
              "    .dataframe tbody tr th {\n",
              "        vertical-align: top;\n",
              "    }\n",
              "\n",
              "    .dataframe thead th {\n",
              "        text-align: right;\n",
              "    }\n",
              "</style>\n",
              "<table border=\"1\" class=\"dataframe\">\n",
              "  <thead>\n",
              "    <tr style=\"text-align: right;\">\n",
              "      <th></th>\n",
              "      <th>CustID</th>\n",
              "      <th>MovieID</th>\n",
              "      <th>Ratings</th>\n",
              "    </tr>\n",
              "  </thead>\n",
              "  <tbody>\n",
              "    <tr>\n",
              "      <th>39995</th>\n",
              "      <td>24252</td>\n",
              "      <td>39437</td>\n",
              "      <td>1</td>\n",
              "    </tr>\n",
              "    <tr>\n",
              "      <th>39996</th>\n",
              "      <td>51917</td>\n",
              "      <td>54469</td>\n",
              "      <td>1</td>\n",
              "    </tr>\n",
              "    <tr>\n",
              "      <th>39997</th>\n",
              "      <td>51496</td>\n",
              "      <td>40513</td>\n",
              "      <td>1</td>\n",
              "    </tr>\n",
              "    <tr>\n",
              "      <th>39998</th>\n",
              "      <td>6750</td>\n",
              "      <td>55545</td>\n",
              "      <td>1</td>\n",
              "    </tr>\n",
              "    <tr>\n",
              "      <th>39999</th>\n",
              "      <td>3799</td>\n",
              "      <td>8843</td>\n",
              "      <td>1</td>\n",
              "    </tr>\n",
              "  </tbody>\n",
              "</table>\n",
              "</div>"
            ],
            "text/plain": [
              "       CustID  MovieID  Ratings\n",
              "39995   24252    39437        1\n",
              "39996   51917    54469        1\n",
              "39997   51496    40513        1\n",
              "39998    6750    55545        1\n",
              "39999    3799     8843        1"
            ]
          },
          "metadata": {
            "tags": []
          },
          "execution_count": 31
        }
      ]
    },
    {
      "cell_type": "code",
      "metadata": {
        "colab": {
          "base_uri": "https://localhost:8080/"
        },
        "id": "EhgtqOAp-Zah",
        "outputId": "eec1de0f-065d-4d77-8f20-12a2a7af39aa"
      },
      "source": [
        "print(\"Total Test Data:\")\n",
        "print(\"Total number of movie ratings in Test data = \"+str(Test_Data.shape[0]))\n",
        "print(\"Number of unique users in Test data = \"+str(len(np.unique(Test_Data[\"CustID\"]))))\n",
        "print(\"Number of unique movies in Test data = \"+str(len(np.unique(Test_Data[\"MovieID\"]))))\n",
        "print(\"Highest value of a User ID = \"+str(max(Test_Data[\"CustID\"].values)))\n",
        "print(\"Highest value of a Movie ID = \"+str(max(Test_Data[\"MovieID\"].values)))"
      ],
      "execution_count": 32,
      "outputs": [
        {
          "output_type": "stream",
          "text": [
            "Total Test Data:\n",
            "Total number of movie ratings in Test data = 40000\n",
            "Number of unique users in Test data = 28649\n",
            "Number of unique movies in Test data = 22902\n",
            "Highest value of a User ID = 56101\n",
            "Highest value of a Movie ID = 61733\n"
          ],
          "name": "stdout"
        }
      ]
    },
    {
      "cell_type": "markdown",
      "metadata": {
        "id": "FrkvA3Z5-Zai"
      },
      "source": [
        "## 2. Exploratory Data Analysis on Train Data"
      ]
    },
    {
      "cell_type": "code",
      "metadata": {
        "id": "Q2u2n-FG-Zai"
      },
      "source": [
        "def changingLabels(number):\n",
        "    return str(number/10**6) + \"M\""
      ],
      "execution_count": 33,
      "outputs": []
    },
    {
      "cell_type": "code",
      "metadata": {
        "colab": {
          "base_uri": "https://localhost:8080/",
          "height": 532
        },
        "id": "I1ej5Akm-Zai",
        "outputId": "3439d5b3-2236-4e7c-c28d-255ba74127b2"
      },
      "source": [
        "plt.figure(figsize = (12, 8))\n",
        "ax = sns.countplot(x=\"Ratings\", data=Train_Data)\n",
        "\n",
        "ax.set_yticklabels([changingLabels(num) for num in ax.get_yticks()])\n",
        "\n",
        "plt.tick_params(labelsize = 15)\n",
        "plt.title(\"Distribution of Ratings in train data\", fontsize = 20)\n",
        "plt.xlabel(\"Ratings\", fontsize = 20)\n",
        "plt.ylabel(\"Number of Ratings(Millions)\", fontsize = 20)\n",
        "plt.show()"
      ],
      "execution_count": 34,
      "outputs": [
        {
          "output_type": "display_data",
          "data": {
            "image/png": "[encoded data removed]",
            "text/plain": [
              "<Figure size 864x576 with 1 Axes>"
            ]
          },
          "metadata": {
            "tags": []
          }
        }
      ]
    },
    {
      "cell_type": "code",
      "metadata": {
        "colab": {
          "base_uri": "https://localhost:8080/",
          "height": 195
        },
        "id": "1YCc6Sih-Zai",
        "outputId": "76d9c081-7224-4b79-c1d6-ad1614f6e511"
      },
      "source": [
        "Train_Data.tail()"
      ],
      "execution_count": 35,
      "outputs": [
        {
          "output_type": "execute_result",
          "data": {
            "text/html": [
              "<div>\n",
              "<style scoped>\n",
              "    .dataframe tbody tr th:only-of-type {\n",
              "        vertical-align: middle;\n",
              "    }\n",
              "\n",
              "    .dataframe tbody tr th {\n",
              "        vertical-align: top;\n",
              "    }\n",
              "\n",
              "    .dataframe thead th {\n",
              "        text-align: right;\n",
              "    }\n",
              "</style>\n",
              "<table border=\"1\" class=\"dataframe\">\n",
              "  <thead>\n",
              "    <tr style=\"text-align: right;\">\n",
              "      <th></th>\n",
              "      <th>CustID</th>\n",
              "      <th>MovieID</th>\n",
              "      <th>Ratings</th>\n",
              "    </tr>\n",
              "  </thead>\n",
              "  <tbody>\n",
              "    <tr>\n",
              "      <th>159994</th>\n",
              "      <td>37497</td>\n",
              "      <td>19289</td>\n",
              "      <td>1</td>\n",
              "    </tr>\n",
              "    <tr>\n",
              "      <th>159995</th>\n",
              "      <td>19401</td>\n",
              "      <td>12849</td>\n",
              "      <td>1</td>\n",
              "    </tr>\n",
              "    <tr>\n",
              "      <th>159996</th>\n",
              "      <td>46184</td>\n",
              "      <td>2651</td>\n",
              "      <td>1</td>\n",
              "    </tr>\n",
              "    <tr>\n",
              "      <th>159997</th>\n",
              "      <td>25380</td>\n",
              "      <td>54187</td>\n",
              "      <td>1</td>\n",
              "    </tr>\n",
              "    <tr>\n",
              "      <th>159998</th>\n",
              "      <td>1153</td>\n",
              "      <td>43989</td>\n",
              "      <td>1</td>\n",
              "    </tr>\n",
              "  </tbody>\n",
              "</table>\n",
              "</div>"
            ],
            "text/plain": [
              "        CustID  MovieID  Ratings\n",
              "159994   37497    19289        1\n",
              "159995   19401    12849        1\n",
              "159996   46184     2651        1\n",
              "159997   25380    54187        1\n",
              "159998    1153    43989        1"
            ]
          },
          "metadata": {
            "tags": []
          },
          "execution_count": 35
        }
      ]
    },
    {
      "cell_type": "markdown",
      "metadata": {
        "id": "ZOzK95D4-Zaj"
      },
      "source": [
        "### Analysis of Ratings given by user"
      ]
    },
    {
      "cell_type": "code",
      "metadata": {
        "id": "ZDO--mMO-Zaj"
      },
      "source": [
        "no_of_rated_movies_per_user = Train_Data.groupby(by = \"CustID\")[\"Ratings\"].count().sort_values(ascending = False)"
      ],
      "execution_count": 36,
      "outputs": []
    },
    {
      "cell_type": "code",
      "metadata": {
        "colab": {
          "base_uri": "https://localhost:8080/"
        },
        "id": "JjViVPxs-Zak",
        "scrolled": false,
        "outputId": "92b0c720-38bf-4405-bc3b-0d2b25004b7f"
      },
      "source": [
        "no_of_rated_movies_per_user.head()"
      ],
      "execution_count": 37,
      "outputs": [
        {
          "output_type": "execute_result",
          "data": {
            "text/plain": [
              "CustID\n",
              "19646    12\n",
              "26058    12\n",
              "55683    11\n",
              "37440    11\n",
              "44930    11\n",
              "Name: Ratings, dtype: int64"
            ]
          },
          "metadata": {
            "tags": []
          },
          "execution_count": 37
        }
      ]
    },
    {
      "cell_type": "code",
      "metadata": {
        "colab": {
          "base_uri": "https://localhost:8080/",
          "height": 513
        },
        "id": "Wk9nExjm-Zak",
        "outputId": "293bec41-5242-47d9-f1bc-71a1fae75651"
      },
      "source": [
        "fig, axes = plt.subplots(nrows = 1, ncols = 2, figsize=(14,7))\n",
        "\n",
        "sns.kdeplot(no_of_rated_movies_per_user.values, shade = True, ax = axes[0])\n",
        "axes[0].set_title(\"PDF\", fontsize = 18)\n",
        "axes[0].set_xlabel(\"Number of Ratings by user\", fontsize = 18)\n",
        "axes[0].tick_params(labelsize = 15)\n",
        "\n",
        "sns.kdeplot(no_of_rated_movies_per_user.values, shade = True, cumulative = True, ax = axes[1])\n",
        "axes[1].set_title(\"CDF\", fontsize = 18)\n",
        "axes[1].set_xlabel(\"Number of Ratings by user\", fontsize = 18)\n",
        "axes[1].tick_params(labelsize = 15)\n",
        "\n",
        "fig.subplots_adjust(wspace=2)\n",
        "plt.tight_layout()\n",
        "plt.show()"
      ],
      "execution_count": 38,
      "outputs": [
        {
          "output_type": "display_data",
          "data": {
            "image/png": "[encoded data removed]",
            "text/plain": [
              "<Figure size 1008x504 with 2 Axes>"
            ]
          },
          "metadata": {
            "tags": []
          }
        }
      ]
    },
    {
      "cell_type": "markdown",
      "metadata": {
        "id": "lUg3Elk9-Zak"
      },
      "source": [
        "* Above PDF graph shows that almost all of the users give very few ratings. There are very few users who's ratings count is high.\n",
        "* Similarly, above CDF graph shows that almost 99% of users give very few ratings."
      ]
    },
    {
      "cell_type": "code",
      "metadata": {
        "colab": {
          "base_uri": "https://localhost:8080/"
        },
        "id": "h-ndOoVP-Zak",
        "outputId": "b5f7c588-5619-4e46-f2a2-a64e327c94e8"
      },
      "source": [
        "print(\"Information about movie ratings grouped by users:\")\n",
        "no_of_rated_movies_per_user.describe()"
      ],
      "execution_count": 39,
      "outputs": [
        {
          "output_type": "stream",
          "text": [
            "Information about movie ratings grouped by users:\n"
          ],
          "name": "stdout"
        },
        {
          "output_type": "execute_result",
          "data": {
            "text/plain": [
              "count    52866.000000\n",
              "mean         3.026501\n",
              "std          1.572955\n",
              "min          1.000000\n",
              "25%          2.000000\n",
              "50%          3.000000\n",
              "75%          4.000000\n",
              "max         12.000000\n",
              "Name: Ratings, dtype: float64"
            ]
          },
          "metadata": {
            "tags": []
          },
          "execution_count": 39
        }
      ]
    },
    {
      "cell_type": "code",
      "metadata": {
        "id": "zR1c5IU7-Zal"
      },
      "source": [
        "# no_of_rated_movies_per_user.describe()[\"75%\"]"
      ],
      "execution_count": 40,
      "outputs": []
    },
    {
      "cell_type": "code",
      "metadata": {
        "id": "Q1r9vmBP-Zal"
      },
      "source": [
        "quantiles = no_of_rated_movies_per_user.quantile(np.arange(0,1.01,0.01))"
      ],
      "execution_count": 41,
      "outputs": []
    },
    {
      "cell_type": "code",
      "metadata": {
        "colab": {
          "base_uri": "https://localhost:8080/",
          "height": 1000
        },
        "id": "ZCQYnYLA-Zal",
        "outputId": "d18b6667-7f85-4669-cbcf-8304bf302524"
      },
      "source": [
        "# fig = plt.figure(figsize = (10, 6))\n",
        "\n",
        "# axes = fig.add_axes([0.1,0.1,1,1])\n",
        "# axes.set_title(\"Quantile values of Ratings Per User\", fontsize = 20)\n",
        "# axes.set_xlabel(\"Quantiles\", fontsize = 20)\n",
        "# axes.set_ylabel(\"Ratings Per User\", fontsize = 20)\n",
        "# axes.plot(quantiles)\n",
        "\n",
        "# plt.scatter(x = quantiles.index[::5], y = quantiles.values[::5], c = \"blue\", s = 70, label=\"quantiles with 0.05 intervals\")\n",
        "# plt.scatter(x = quantiles.index[::25], y = quantiles.values[::25], c = \"red\", s = 70, label=\"quantiles with 0.25 intervals\")\n",
        "# plt.legend(loc='upper left', fontsize = 20)\n",
        "\n",
        "# for x, y in zip(quantiles.index[::25], quantiles.values[::25]):\n",
        "#     plt.annotate(s = '({},{})'.format(x, y), xy = (x, y), fontweight='bold', fontsize = 16, xytext=(x-0.05, y+180))\n",
        "    \n",
        "# axes.tick_params(labelsize = 15)"
      ],
      "execution_count": 42,
      "outputs": [
        {
          "output_type": "display_data",
          "data": {
            "image/png": "[encoded data removed]",
            "text/plain": [
              "<Figure size 720x432 with 1 Axes>"
            ]
          },
          "metadata": {
            "tags": []
          }
        }
      ]
    },
    {
      "cell_type": "code",
      "metadata": {
        "colab": {
          "base_uri": "https://localhost:8080/"
        },
        "id": "APOqxStl-Zal",
        "outputId": "c9af9518-2265-42cd-b6f9-1da3b648d666"
      },
      "source": [
        "quantiles[::5]"
      ],
      "execution_count": 43,
      "outputs": [
        {
          "output_type": "execute_result",
          "data": {
            "text/plain": [
              "0.00     1.0\n",
              "0.05     1.0\n",
              "0.10     1.0\n",
              "0.15     1.0\n",
              "0.20     2.0\n",
              "0.25     2.0\n",
              "0.30     2.0\n",
              "0.35     2.0\n",
              "0.40     2.0\n",
              "0.45     3.0\n",
              "0.50     3.0\n",
              "0.55     3.0\n",
              "0.60     3.0\n",
              "0.65     3.0\n",
              "0.70     4.0\n",
              "0.75     4.0\n",
              "0.80     4.0\n",
              "0.85     5.0\n",
              "0.90     5.0\n",
              "0.95     6.0\n",
              "1.00    12.0\n",
              "Name: Ratings, dtype: float64"
            ]
          },
          "metadata": {
            "tags": []
          },
          "execution_count": 43
        }
      ]
    },
    {
      "cell_type": "code",
      "metadata": {
        "colab": {
          "base_uri": "https://localhost:8080/"
        },
        "id": "1asbkgKt-Zal",
        "outputId": "68ebc505-d75e-4e22-bf50-f6538f0d5de5"
      },
      "source": [
        "print(\"Total number of ratings below 75th percentile = \"+str(sum(no_of_rated_movies_per_user.values<=133)))\n",
        "print(\"Total number of ratings above 75th percentile = \"+str(sum(no_of_rated_movies_per_user.values>133)))"
      ],
      "execution_count": 44,
      "outputs": [
        {
          "output_type": "stream",
          "text": [
            "Total number of ratings below 75th percentile = 52866\n",
            "Total number of ratings above 75th percentile = 0\n"
          ],
          "name": "stdout"
        }
      ]
    },
    {
      "cell_type": "markdown",
      "metadata": {
        "id": "1cGNAPeu-Zam"
      },
      "source": [
        "### Analysis of Ratings Per Movie"
      ]
    },
    {
      "cell_type": "code",
      "metadata": {
        "id": "VNjtWJvK-Zam"
      },
      "source": [
        "no_of_ratings_per_movie = Train_Data.groupby(by = \"MovieID\")[\"Ratings\"].count().sort_values(ascending = False)"
      ],
      "execution_count": 45,
      "outputs": []
    },
    {
      "cell_type": "code",
      "metadata": {
        "colab": {
          "base_uri": "https://localhost:8080/",
          "height": 0
        },
        "id": "DTQwEQV1-Zam",
        "outputId": "cc1a1d90-9040-42c3-d289-6415459bc579"
      },
      "source": [
        "fig = plt.figure(figsize = (12, 6))\n",
        "axes = fig.add_axes([0.1,0.1,1,1])\n",
        "plt.title(\"Number of Ratings Per Movie\", fontsize = 20)\n",
        "plt.xlabel(\"Movie\", fontsize = 20)\n",
        "plt.ylabel(\"Count of Ratings\", fontsize = 20)\n",
        "plt.plot(no_of_ratings_per_movie.values)\n",
        "plt.tick_params(labelsize = 15)\n",
        "axes.set_xticklabels([])\n",
        "plt.show()"
      ],
      "execution_count": 46,
      "outputs": [
        {
          "output_type": "display_data",
          "data": {
            "image/png": "[encoded data removed]",
            "text/plain": [
              "<Figure size 864x432 with 1 Axes>"
            ]
          },
          "metadata": {
            "tags": []
          }
        }
      ]
    },
    {
      "cell_type": "markdown",
      "metadata": {
        "id": "QxY1gJtN-Zam"
      },
      "source": [
        "<b>It is very skewed</b>\n",
        "<p>It clearly shows that there are some movies which are very popular and were rated by many users as comapared to other movies</p>"
      ]
    },
    {
      "cell_type": "markdown",
      "metadata": {
        "id": "2d2v3_Cp-Zan"
      },
      "source": [
        "## 3. Creating USER-ITEM sparse matrix from data frame"
      ]
    },
    {
      "cell_type": "code",
      "metadata": {
        "colab": {
          "base_uri": "https://localhost:8080/"
        },
        "id": "Q7FNFF08-Zan",
        "outputId": "003fce75-602e-43ef-a8b1-695fdaf50c68"
      },
      "source": [
        "startTime = datetime.now()\n",
        "print(\"Creating USER_ITEM sparse matrix for train Data\")\n",
        "if os.path.isfile(\"/content/TrainUISparseData.npz\"):\n",
        "    print(\"Sparse Data is already present in your disk, no need to create further. Loading Sparse Matrix\")\n",
        "    TrainUISparseData = sparse.load_npz(\"/content/TrainUISparseData.npz\")\n",
        "    print(\"Shape of Train Sparse matrix = \"+str(TrainUISparseData.shape))\n",
        "    \n",
        "else:\n",
        "    print(\"We are creating sparse data\")\n",
        "    TrainUISparseData = sparse.csr_matrix((Train_Data.Ratings, (Train_Data.CustID, Train_Data.MovieID)))\n",
        "    print(\"Creation done. Shape of sparse matrix = \"+str(TrainUISparseData.shape))\n",
        "    print(\"Saving it into disk for furthur usage.\")\n",
        "    sparse.save_npz(\"/content/TrainUISparseData.npz\", TrainUISparseData)\n",
        "    print(\"Done\\n\")\n",
        "\n",
        "print(datetime.now() - startTime)"
      ],
      "execution_count": 47,
      "outputs": [
        {
          "output_type": "stream",
          "text": [
            "Creating USER_ITEM sparse matrix for train Data\n",
            "We are creating sparse data\n",
            "Creation done. Shape of sparse matrix = (56104, 61734)\n",
            "Saving it into disk for furthur usage.\n",
            "Done\n",
            "\n",
            "0:00:00.179784\n"
          ],
          "name": "stdout"
        }
      ]
    },
    {
      "cell_type": "code",
      "metadata": {
        "colab": {
          "base_uri": "https://localhost:8080/"
        },
        "id": "IrtALqCx-Zao",
        "outputId": "774b8ab0-a030-4837-b189-999f3c7312cc"
      },
      "source": [
        "startTime = datetime.now()\n",
        "print(\"Creating USER_ITEM sparse matrix for test Data\")\n",
        "if os.path.isfile(\"/content/TestUISparseData.npz\"):\n",
        "    print(\"Sparse Data is already present in your disk, no need to create further. Loading Sparse Matrix\")\n",
        "    TestUISparseData = sparse.load_npz(\"/content/TestUISparseData.npz\")\n",
        "    print(\"Shape of Test Sparse Matrix = \"+str(TestUISparseData.shape))\n",
        "else:\n",
        "    print(\"We are creating sparse data\")\n",
        "    TestUISparseData = sparse.csr_matrix((Test_Data.Ratings, (Test_Data.CustID, Test_Data.MovieID)))\n",
        "    print(\"Creation done. Shape of sparse matrix = \"+str(TestUISparseData.shape))\n",
        "    print(\"Saving it into disk for furthur usage.\")\n",
        "    sparse.save_npz(\"/content/TestUISparseData.npz\", TestUISparseData)\n",
        "    print(\"Done\\n\")\n",
        "\n",
        "print(datetime.now() - startTime)"
      ],
      "execution_count": 48,
      "outputs": [
        {
          "output_type": "stream",
          "text": [
            "Creating USER_ITEM sparse matrix for test Data\n",
            "We are creating sparse data\n",
            "Creation done. Shape of sparse matrix = (56102, 61734)\n",
            "Saving it into disk for furthur usage.\n",
            "Done\n",
            "\n",
            "0:00:00.054742\n"
          ],
          "name": "stdout"
        }
      ]
    },
    {
      "cell_type": "code",
      "metadata": {
        "id": "RuGWL_tc-Zao"
      },
      "source": [
        "#If you can see above that the shape of both train and test sparse matrices are same, furthermore, how come this shape of sparse\n",
        "#matrix has arrived:\n",
        "#Shape of sparse matrix depends on highest value of User ID and highest value of Movie ID. \n",
        "#Now the user whose user ID is highest is present in both train data and test data. Similarly, the movie whose movie ID is\n",
        "#highest is present in both train data and test data. Hence, shape of both train and test sparse matrices are same."
      ],
      "execution_count": 49,
      "outputs": []
    },
    {
      "cell_type": "code",
      "metadata": {
        "colab": {
          "base_uri": "https://localhost:8080/"
        },
        "id": "l8t2dQRl-Zao",
        "outputId": "48b474ef-2979-4373-d8bf-22fc199c2f19"
      },
      "source": [
        "rows,cols = TrainUISparseData.shape\n",
        "presentElements = TrainUISparseData.count_nonzero()\n",
        "\n",
        "print(\"Sparsity Of Train matrix : {}% \".format((1-(presentElements/(rows*cols)))*100))"
      ],
      "execution_count": 50,
      "outputs": [
        {
          "output_type": "stream",
          "text": [
            "Sparsity Of Train matrix : 99.99538074560826% \n"
          ],
          "name": "stdout"
        }
      ]
    },
    {
      "cell_type": "code",
      "metadata": {
        "colab": {
          "base_uri": "https://localhost:8080/"
        },
        "id": "5Xft41Ub-Zao",
        "outputId": "5114e7ee-1625-47f2-e9b2-aaf53b6cc61a"
      },
      "source": [
        "rows,cols = TestUISparseData.shape\n",
        "presentElements = TestUISparseData.count_nonzero()\n",
        "\n",
        "print(\"Sparsity Of Test matrix : {}% \".format((1-(presentElements/(rows*cols)))*100))"
      ],
      "execution_count": 51,
      "outputs": [
        {
          "output_type": "stream",
          "text": [
            "Sparsity Of Test matrix : 99.99884509470533% \n"
          ],
          "name": "stdout"
        }
      ]
    },
    {
      "cell_type": "markdown",
      "metadata": {
        "id": "FBtBM5bH-Zao"
      },
      "source": [
        "### Finding Global average of all movie ratings, Average rating per user, and Average rating per movie"
      ]
    },
    {
      "cell_type": "code",
      "metadata": {
        "id": "Rn6u4QDy-Zap"
      },
      "source": [
        "def getAverageRatings(sparseMatrix, if_user):\n",
        "    ax = 1 if if_user else 0\n",
        "    #axis = 1 means rows and axis = 0 means columns \n",
        "    sumOfRatings = sparseMatrix.sum(axis = ax).A1  #this will give an array of sum of all the ratings of user if axis = 1 else \n",
        "    #sum of all the ratings of movies if axis = 0\n",
        "    noOfRatings = (sparseMatrix!=0).sum(axis = ax).A1  #this will give a boolean True or False array, and True means 1 and False \n",
        "    #means 0, and further we are summing it to get the count of all the non-zero cells means length of non-zero cells\n",
        "    rows, cols = sparseMatrix.shape\n",
        "    averageRatings = {i: sumOfRatings[i]/noOfRatings[i] for i in range(rows if if_user else cols) if noOfRatings[i]!=0}\n",
        "    return averageRatings"
      ],
      "execution_count": 52,
      "outputs": []
    },
    {
      "cell_type": "markdown",
      "metadata": {
        "id": "-5oO9Q4f-Zap"
      },
      "source": [
        "### Global Average Rating"
      ]
    },
    {
      "cell_type": "code",
      "metadata": {
        "colab": {
          "base_uri": "https://localhost:8080/"
        },
        "id": "hHzLGey2-Zap",
        "outputId": "ae5a19ac-ab89-4f62-8491-8d3762264449"
      },
      "source": [
        "Global_Average_Rating = TrainUISparseData.sum()/TrainUISparseData.count_nonzero()\n",
        "print(\"Global Average Rating {}\".format(Global_Average_Rating))"
      ],
      "execution_count": 53,
      "outputs": [
        {
          "output_type": "stream",
          "text": [
            "Global Average Rating 1.333391670677359\n"
          ],
          "name": "stdout"
        }
      ]
    },
    {
      "cell_type": "markdown",
      "metadata": {
        "id": "3SAUmZb9-Zap"
      },
      "source": [
        "### Average Rating Per User"
      ]
    },
    {
      "cell_type": "code",
      "metadata": {
        "id": "H2E9EHrG-Zap"
      },
      "source": [
        "AvgRatingUser = getAverageRatings(TrainUISparseData, True)"
      ],
      "execution_count": 54,
      "outputs": []
    },
    {
      "cell_type": "code",
      "metadata": {
        "id": "jJp4NtSU-Zap"
      },
      "source": [
        "# print(\"Average rating of user 25 = {}\".format(AvgRatingUser[25]))"
      ],
      "execution_count": 55,
      "outputs": []
    },
    {
      "cell_type": "markdown",
      "metadata": {
        "id": "UAths1ON-Zaq"
      },
      "source": [
        "### Average Rating Per Movie"
      ]
    },
    {
      "cell_type": "code",
      "metadata": {
        "id": "4PGL-UMp-Zaq"
      },
      "source": [
        "AvgRatingMovie = getAverageRatings(TrainUISparseData, False)"
      ],
      "execution_count": 56,
      "outputs": []
    },
    {
      "cell_type": "code",
      "metadata": {
        "id": "NpTmiQnV-Zaq"
      },
      "source": [
        "# print(\"Average rating of movie 4500 = {}\".format(AvgRatingMovie[4500]))"
      ],
      "execution_count": 57,
      "outputs": []
    },
    {
      "cell_type": "markdown",
      "metadata": {
        "id": "SZ4twKtc-Zaq"
      },
      "source": [
        "### Cold Start Problem"
      ]
    },
    {
      "cell_type": "markdown",
      "metadata": {
        "id": "5IKnhn3K-Zar"
      },
      "source": [
        "#### Cold Start Problem with Users"
      ]
    },
    {
      "cell_type": "code",
      "metadata": {
        "colab": {
          "base_uri": "https://localhost:8080/"
        },
        "id": "m_xrHZtK-Zar",
        "outputId": "727acd6c-e760-42ac-9812-f5c0651a8f40"
      },
      "source": [
        "total_users = len(np.unique(Final_Data[\"CustID\"]))\n",
        "train_users = len(AvgRatingUser)\n",
        "uncommonUsers = total_users - train_users\n",
        "                  \n",
        "print(\"Total number of Users = {}\".format(total_users))\n",
        "print(\"Number of Users in train data= {}\".format(train_users))\n",
        "print(\"Number of Users not present in train data = {}({}%)\".format(uncommonUsers, np.round((uncommonUsers/total_users)*100), 2))"
      ],
      "execution_count": 58,
      "outputs": [
        {
          "output_type": "stream",
          "text": [
            "Total number of Users = 54483\n",
            "Number of Users in train data= 52866\n",
            "Number of Users not present in train data = 1617(3.0%)\n"
          ],
          "name": "stdout"
        }
      ]
    },
    {
      "cell_type": "markdown",
      "metadata": {
        "id": "71CcEhXg-Zar"
      },
      "source": [
        "#### Cold Start Problem with Movies"
      ]
    },
    {
      "cell_type": "code",
      "metadata": {
        "colab": {
          "base_uri": "https://localhost:8080/"
        },
        "id": "wjfUexnB-Zar",
        "outputId": "cd01069c-f4c8-4775-e9d1-5e906a7ba149"
      },
      "source": [
        "total_movies = len(np.unique(Final_Data[\"MovieID\"]))\n",
        "train_movies = len(AvgRatingMovie)\n",
        "uncommonMovies = total_movies - train_movies\n",
        "                  \n",
        "print(\"Total number of Movies = {}\".format(total_movies))\n",
        "print(\"Number of Movies in train data= {}\".format(train_movies))\n",
        "print(\"Number of Movies not present in train data = {}({}%)\".format(uncommonMovies, np.round((uncommonMovies/total_movies)*100), 2))"
      ],
      "execution_count": 59,
      "outputs": [
        {
          "output_type": "stream",
          "text": [
            "Total number of Movies = 30839\n",
            "Number of Movies in train data= 30744\n",
            "Number of Movies not present in train data = 95(0.0%)\n"
          ],
          "name": "stdout"
        }
      ]
    },
    {
      "cell_type": "markdown",
      "metadata": {
        "id": "8QbXQC-X-Zav"
      },
      "source": [
        "## 4. Machine Learning Models"
      ]
    },
    {
      "cell_type": "code",
      "metadata": {
        "id": "cvyQuqx8-Zav"
      },
      "source": [
        "def get_sample_sparse_matrix(sparseMatrix, n_users, n_movies):\n",
        "    startTime = datetime.now()\n",
        "    users, movies, ratings = sparse.find(sparseMatrix)\n",
        "    uniq_users = np.unique(users)\n",
        "    uniq_movies = np.unique(movies)\n",
        "    np.random.seed(15)   #this will give same random number everytime, without replacement\n",
        "    userS = np.random.choice(uniq_users, n_users, replace = False)\n",
        "    movieS = np.random.choice(uniq_movies, n_movies, replace = False)\n",
        "    mask = np.logical_and(np.isin(users, userS), np.isin(movies, movieS))\n",
        "    sparse_sample = sparse.csr_matrix((ratings[mask], (users[mask], movies[mask])), \n",
        "                                                     shape = (max(userS)+1, max(movieS)+1))\n",
        "    print(\"Sparse Matrix creation done. Saving it for later use.\")\n",
        "    sparse.save_npz(path, sparse_sample)\n",
        "    print(\"Done\")\n",
        "    print(\"Shape of Sparse Sampled Matrix = \"+str(sparse_sample.shape))\n",
        "    \n",
        "    print(datetime.now() - startTime)\n",
        "    return sparse_sample"
      ],
      "execution_count": 60,
      "outputs": []
    },
    {
      "cell_type": "markdown",
      "metadata": {
        "id": "oGCt6zOf-Zaw"
      },
      "source": [
        "### Creating Sample Sparse Matrix for Train Data"
      ]
    },
    {
      "cell_type": "code",
      "metadata": {
        "colab": {
          "base_uri": "https://localhost:8080/"
        },
        "id": "mYb9vNft-Zaw",
        "outputId": "5a2bb78f-7918-4c3c-f5ef-ae6f4a6771fa"
      },
      "source": [
        "path = \"/content/TrainUISparseData_Sample.npz\"\n",
        "if not os.path.isfile(path):\n",
        "    print(\"Sample sparse matrix is not present in the disk. We are creating it...\")\n",
        "    train_sample_sparse = get_sample_sparse_matrix(TrainUISparseData, 4000, 400)\n",
        "else:\n",
        "    print(\"File is already present in the disk. Loading the file...\")\n",
        "    train_sample_sparse = sparse.load_npz(path)\n",
        "    print(\"File loading done.\")\n",
        "    print(\"Shape of Train Sample Sparse Matrix = \"+str(train_sample_sparse.shape))"
      ],
      "execution_count": 61,
      "outputs": [
        {
          "output_type": "stream",
          "text": [
            "Sample sparse matrix is not present in the disk. We are creating it...\n",
            "Sparse Matrix creation done. Saving it for later use.\n",
            "Done\n",
            "Shape of Sparse Sampled Matrix = (56064, 61676)\n",
            "0:00:00.072261\n"
          ],
          "name": "stdout"
        }
      ]
    },
    {
      "cell_type": "markdown",
      "metadata": {
        "id": "E6uSb3js-Zaw"
      },
      "source": [
        "### Creating Sample Sparse Matrix for Test Data"
      ]
    },
    {
      "cell_type": "code",
      "metadata": {
        "colab": {
          "base_uri": "https://localhost:8080/"
        },
        "id": "QG5EAz-m-Zaw",
        "outputId": "3aa5ae65-916a-4e04-d458-2b1ad81fc29d"
      },
      "source": [
        "path = \"/contentTestUISparseData_Sample.npz\"\n",
        "if not os.path.isfile(path):\n",
        "    print(\"Sample sparse matrix is not present in the disk. We are creating it...\")\n",
        "    test_sample_sparse = get_sample_sparse_matrix(TestUISparseData, 2000, 200)\n",
        "else:\n",
        "    print(\"File is already present in the disk. Loading the file...\")\n",
        "    test_sample_sparse = sparse.load_npz(path)\n",
        "    print(\"File loading done.\")\n",
        "    print(\"Shape of Test Sample Sparse Matrix = \"+str(test_sample_sparse.shape))"
      ],
      "execution_count": 62,
      "outputs": [
        {
          "output_type": "stream",
          "text": [
            "Sample sparse matrix is not present in the disk. We are creating it...\n",
            "Sparse Matrix creation done. Saving it for later use.\n",
            "Done\n",
            "Shape of Sparse Sampled Matrix = (56097, 61556)\n",
            "0:00:00.021393\n"
          ],
          "name": "stdout"
        }
      ]
    },
    {
      "cell_type": "markdown",
      "metadata": {
        "id": "mgKjVu1AGwVj"
      },
      "source": [
        "### prepare error table"
      ]
    },
    {
      "cell_type": "code",
      "metadata": {
        "id": "7dl4kXK1GJTo"
      },
      "source": [
        "error_table = pd.DataFrame(columns = [\"Model\", \"Train RMSE\", \"Train MAPE\", \"Test RMSE\", \"Test MAPE\"])\r\n",
        "model_train_evaluation = dict()\r\n",
        "model_test_evaluation = dict()"
      ],
      "execution_count": 63,
      "outputs": []
    },
    {
      "cell_type": "code",
      "metadata": {
        "id": "NZ8FQvUAF53r"
      },
      "source": [
        "def make_table(model_name, rmse_train, mape_train, rmse_test, mape_test):\r\n",
        "    global error_table\r\n",
        "    #All variable assignments in a function store the value in the local symbol table; whereas variable references first look \r\n",
        "    #in the local symbol table, then in the global symbol table, and then in the table of built-in names. Thus, global variables \r\n",
        "    #cannot be directly assigned a value within a function (unless named in a global statement), \r\n",
        "    #although they may be referenced.\r\n",
        "    error_table = error_table.append(pd.DataFrame([[model_name, rmse_train, mape_train, rmse_test, mape_test]], columns = [\"Model\", \"Train RMSE\", \"Train MAPE\", \"Test RMSE\", \"Test MAPE\"]))\r\n",
        "    error_table.reset_index(drop = True, inplace = True)"
      ],
      "execution_count": 64,
      "outputs": []
    },
    {
      "cell_type": "markdown",
      "metadata": {
        "id": "I5GjPji9oX-W"
      },
      "source": [
        "## 1. Alternating Least Squares"
      ]
    },
    {
      "cell_type": "code",
      "metadata": {
        "id": "1vruooZSaZKO"
      },
      "source": [
        "def evaluate_algo(model):\r\n",
        "  precals = precision_at_k(model, TrainUISparseData, TestUISparseData, K=10, num_threads=4)\r\n",
        "  mapals = mean_average_precision_at_k(model, TrainUISparseData, TestUISparseData, K=10, num_threads=4)\r\n",
        "  aucals = AUC_at_k(model, TrainUISparseData, TestUISparseData, K=10, num_threads=4)\r\n",
        "  ndcgals = ndcg_at_k(model, TrainUISparseData, TestUISparseData, K=10, num_threads=4)\r\n",
        "  print(f\"precision at k = {precals}\")\r\n",
        "  print(f\"mean absolute precision at k = {mapals}\")\r\n",
        "  print(f\"ndcg at k = {ndcgals}\")\r\n",
        "  print(f\"auc at k = {aucals}\")"
      ],
      "execution_count": 138,
      "outputs": []
    },
    {
      "cell_type": "code",
      "metadata": {
        "colab": {
          "base_uri": "https://localhost:8080/"
        },
        "id": "ANPTZ6OrF_WM",
        "outputId": "9e01222d-3219-45d6-fc27-408b6ccb0106"
      },
      "source": [
        "train_sample_sparse.shape"
      ],
      "execution_count": 110,
      "outputs": [
        {
          "output_type": "execute_result",
          "data": {
            "text/plain": [
              "(56064, 61676)"
            ]
          },
          "metadata": {
            "tags": []
          },
          "execution_count": 110
        }
      ]
    },
    {
      "cell_type": "code",
      "metadata": {
        "colab": {
          "base_uri": "https://localhost:8080/"
        },
        "id": "NVmnYRdEcVOm",
        "outputId": "9738a071-217d-476e-dbd4-4f025b529444"
      },
      "source": [
        "test_sample_sparse.shape"
      ],
      "execution_count": 111,
      "outputs": [
        {
          "output_type": "execute_result",
          "data": {
            "text/plain": [
              "(56097, 61556)"
            ]
          },
          "metadata": {
            "tags": []
          },
          "execution_count": 111
        }
      ]
    },
    {
      "cell_type": "code",
      "metadata": {
        "colab": {
          "base_uri": "https://localhost:8080/"
        },
        "id": "QQzJqzzz7CuH",
        "outputId": "aff8e848-54f3-4d3c-ed92-c6f805e08b92"
      },
      "source": [
        "test_sample_sparse"
      ],
      "execution_count": 112,
      "outputs": [
        {
          "output_type": "execute_result",
          "data": {
            "text/plain": [
              "<56097x61556 sparse matrix of type '<class 'numpy.longlong'>'\n",
              "\twith 25 stored elements in Compressed Sparse Row format>"
            ]
          },
          "metadata": {
            "tags": []
          },
          "execution_count": 112
        }
      ]
    },
    {
      "cell_type": "code",
      "metadata": {
        "id": "AelC_ecA9nIl"
      },
      "source": [
        "data_coo = sparse.csr_matrix(Final_Data.values.T)\r\n",
        "train_sample_sparse, test_sample_sparse = train_test_split(data_coo)"
      ],
      "execution_count": 129,
      "outputs": []
    },
    {
      "cell_type": "code",
      "metadata": {
        "colab": {
          "base_uri": "https://localhost:8080/"
        },
        "id": "gJPb8m9KAD-S",
        "outputId": "6469fa58-d958-470a-baa1-7b841228e03e"
      },
      "source": [
        "TestUISparseData"
      ],
      "execution_count": 133,
      "outputs": [
        {
          "output_type": "execute_result",
          "data": {
            "text/plain": [
              "<56102x61734 sparse matrix of type '<class 'numpy.longlong'>'\n",
              "\twith 39999 stored elements in Compressed Sparse Row format>"
            ]
          },
          "metadata": {
            "tags": []
          },
          "execution_count": 133
        }
      ]
    },
    {
      "cell_type": "code",
      "metadata": {
        "colab": {
          "base_uri": "https://localhost:8080/",
          "height": 82,
          "referenced_widgets": [
            "7f248dba4c6549b88efcafbac2909b6e",
            "30288e8608c1415b83ae8c09bc16c318",
            "d27be93d00c14aed9fab5b9a0b2942f9",
            "16a59ed14e6c43b3924a74d6e9652eac",
            "184d22a00c684637b43c77a0835bb238",
            "ffbf5bbf8f354b3396c377f682cac506",
            "1d82919fcfc74dc69cd8b274567eca06",
            "61aef579608a4dcfbc82e5906d3a956a"
          ]
        },
        "id": "Rru-bcstPn5j",
        "outputId": "8f24f254-93d4-4362-d80e-44fbb7bbd0b7"
      },
      "source": [
        "alsModel = ALS(factors=128,iterations=40, regularization=1.5, dtype=np.float64)\r\n",
        "alsModel.fit(TrainUISparseData)"
      ],
      "execution_count": 134,
      "outputs": [
        {
          "output_type": "stream",
          "text": [
            "WARNING:implicit:Factors of dtype float64 aren't supported with gpu fitting. Converting factors to float32\n"
          ],
          "name": "stderr"
        },
        {
          "output_type": "display_data",
          "data": {
            "application/vnd.jupyter.widget-view+json": {
              "model_id": "7f248dba4c6549b88efcafbac2909b6e",
              "version_minor": 0,
              "version_major": 2
            },
            "text/plain": [
              "HBox(children=(FloatProgress(value=0.0, max=40.0), HTML(value='')))"
            ]
          },
          "metadata": {
            "tags": []
          }
        },
        {
          "output_type": "stream",
          "text": [
            "\n"
          ],
          "name": "stdout"
        }
      ]
    },
    {
      "cell_type": "code",
      "metadata": {
        "colab": {
          "base_uri": "https://localhost:8080/"
        },
        "id": "o1CyOqufAmYZ",
        "outputId": "ee7541d1-3c48-4197-d46d-6345f6867fbb"
      },
      "source": [
        "alsModel.recommend(1290, TrainUISparseData)"
      ],
      "execution_count": 141,
      "outputs": [
        {
          "output_type": "execute_result",
          "data": {
            "text/plain": [
              "[(18685, 0.0),\n",
              " (18697, 0.0),\n",
              " (18709, 0.0),\n",
              " (18699, 0.0),\n",
              " (18700, 0.0),\n",
              " (18701, 0.0),\n",
              " (18702, 0.0),\n",
              " (18703, 0.0),\n",
              " (18704, 0.0),\n",
              " (18705, 0.0)]"
            ]
          },
          "metadata": {
            "tags": []
          },
          "execution_count": 141
        }
      ]
    },
    {
      "cell_type": "code",
      "metadata": {
        "colab": {
          "base_uri": "https://localhost:8080/",
          "height": 279,
          "referenced_widgets": [
            "e7be9c6d2d89449fa898ca4356bc70b4",
            "b2a118542a2d485589715236796ce15b",
            "ed11219d81c44b5695082404476d089b",
            "7e478c9d65da43289cdae67a2cd8865d",
            "27b6d3937e9b4a3ca75fbf41465ac552",
            "fb5de74a2e4f48a39f0c527fd71951f6",
            "bd229986e7e04d2abe9948532f94e422",
            "c42bfb6bc8234951bd9f3af839f5cba2",
            "2be1fa187ace4cb387f2a563d2c86e20",
            "2952fc2ae34d4b59ba0c9ab1ac6905bb",
            "db1c1d18a26c445d8aec670b83f30997",
            "7aef9625124541df9a000f71dd29aeaf",
            "5dc9381c11954299a8b330f5bc58898d",
            "27850f354c57499a9fc600465038581d",
            "2316102445594ba1a373ff9010c10355",
            "467cece55b1f4b83b04ea5b28289e3b1",
            "f8a6711dc54e4cbfab0076cd7bd88cb7",
            "dc17831ee5a24d2e8dc67bcadcc1283f",
            "376579e8af3b4043b6a138a01cf0d1a7",
            "1693fa5e6d6b442f9724f79dab513f79",
            "9f314237c82a4e728e4ab242af508218",
            "55375b8a6d494daa8136856cbeb4f5f7",
            "92f9db4707da4e64ab9635cf837a6ab0",
            "23eff3ece6ec4bedb396f3f1b68d9387",
            "feebcf4187624acaa404eba6250c458c",
            "bce6437112bb48ce9a02ad7882c08cce",
            "91027d312af14a26ac2e3c54b41d157d",
            "c1b5eeef55294eeaa3f0e111515b1d35",
            "9594f3dfea2f4ee4abd2d5b560872b73",
            "e966a17143184319ad7f434d57d87252",
            "feccde07d0614e518b119da9947d3aee",
            "c1a72fc71a584e5792f51cc5da2176bb"
          ]
        },
        "id": "gRAOkuxj9EeP",
        "outputId": "d381f71d-4955-4993-82a3-4193691399a7"
      },
      "source": [
        "evaluate_algo(alsModel)"
      ],
      "execution_count": 140,
      "outputs": [
        {
          "output_type": "display_data",
          "data": {
            "application/vnd.jupyter.widget-view+json": {
              "model_id": "e7be9c6d2d89449fa898ca4356bc70b4",
              "version_minor": 0,
              "version_major": 2
            },
            "text/plain": [
              "HBox(children=(FloatProgress(value=0.0, max=56102.0), HTML(value='')))"
            ]
          },
          "metadata": {
            "tags": []
          }
        },
        {
          "output_type": "stream",
          "text": [
            "\n"
          ],
          "name": "stdout"
        },
        {
          "output_type": "display_data",
          "data": {
            "application/vnd.jupyter.widget-view+json": {
              "model_id": "2be1fa187ace4cb387f2a563d2c86e20",
              "version_minor": 0,
              "version_major": 2
            },
            "text/plain": [
              "HBox(children=(FloatProgress(value=0.0, max=56102.0), HTML(value='')))"
            ]
          },
          "metadata": {
            "tags": []
          }
        },
        {
          "output_type": "stream",
          "text": [
            "\n"
          ],
          "name": "stdout"
        },
        {
          "output_type": "display_data",
          "data": {
            "application/vnd.jupyter.widget-view+json": {
              "model_id": "f8a6711dc54e4cbfab0076cd7bd88cb7",
              "version_minor": 0,
              "version_major": 2
            },
            "text/plain": [
              "HBox(children=(FloatProgress(value=0.0, max=56102.0), HTML(value='')))"
            ]
          },
          "metadata": {
            "tags": []
          }
        },
        {
          "output_type": "stream",
          "text": [
            "\n"
          ],
          "name": "stdout"
        },
        {
          "output_type": "display_data",
          "data": {
            "application/vnd.jupyter.widget-view+json": {
              "model_id": "feebcf4187624acaa404eba6250c458c",
              "version_minor": 0,
              "version_major": 2
            },
            "text/plain": [
              "HBox(children=(FloatProgress(value=0.0, max=56102.0), HTML(value='')))"
            ]
          },
          "metadata": {
            "tags": []
          }
        },
        {
          "output_type": "stream",
          "text": [
            "\n",
            "precision at k = 0.0002500062501562539\n",
            "mean absolute precision at k = 7.33702442313563e-05\n",
            "ndcg at k = 0.00012569419229528788\n",
            "auc at k = 0.5000499042427853\n"
          ],
          "name": "stdout"
        }
      ]
    },
    {
      "cell_type": "markdown",
      "metadata": {
        "id": "kOS_gc8rcsSg"
      },
      "source": [
        "## 2. Bayesian Personalized Ranking"
      ]
    },
    {
      "cell_type": "code",
      "metadata": {
        "colab": {
          "base_uri": "https://localhost:8080/",
          "height": 0,
          "referenced_widgets": [
            "40ffc1587af0474d93084bf33d25991d",
            "342df770d43b4a23b8ad36b0d0165101",
            "2688d4b11e604d909e1dd11a540c669e",
            "3ab7be4f71114be98b75a7db2b811843",
            "1a6e7940fd174f639dba315ba68cb773",
            "4beff16ac47443fea3b27be09ccf9240",
            "022befae88c040679d622950e65b6209",
            "b0ece38c83f442839f331e5d9fc5b8bb"
          ]
        },
        "id": "_of72FH9d0bh",
        "outputId": "b7113d0e-47e1-44ac-c95b-c14becddaf97"
      },
      "source": [
        "bprModel = BPR(factors=128,iterations=40, regularization=1.5, dtype=np.float64)\r\n",
        "bprModel.fit(train_sample_sparse)"
      ],
      "execution_count": 116,
      "outputs": [
        {
          "output_type": "stream",
          "text": [
            "WARNING:implicit:GPU training requires factor size to be a multiple of 32 - 1. Increasing factors from 128 to 159.\n",
            "WARNING:implicit:Factors of dtype float64 aren't supported with gpu fitting. Converting factors to float32\n"
          ],
          "name": "stderr"
        },
        {
          "output_type": "display_data",
          "data": {
            "application/vnd.jupyter.widget-view+json": {
              "model_id": "40ffc1587af0474d93084bf33d25991d",
              "version_minor": 0,
              "version_major": 2
            },
            "text/plain": [
              "HBox(children=(FloatProgress(value=0.0, max=40.0), HTML(value='')))"
            ]
          },
          "metadata": {
            "tags": []
          }
        },
        {
          "output_type": "stream",
          "text": [
            "\n"
          ],
          "name": "stdout"
        }
      ]
    },
    {
      "cell_type": "code",
      "metadata": {
        "colab": {
          "base_uri": "https://localhost:8080/",
          "height": 0,
          "referenced_widgets": [
            "149ddbfb0b0f4640953b1c2636a574d6",
            "f6ed879acc5d46eaa17e56d685cae196",
            "c912d28c6dea4e3c8bc1459dc2ea76d0",
            "dc162bfa3c844c06b6e7578044dde6bc",
            "e030fbc8fd1f4a1aba454dee890faf72",
            "855944b7682545008e862fc414a2dfdb",
            "e79a8eb237c648a896b5c4d0cec9c6f8",
            "5579369122d148838a6f70185d737b55",
            "1288afae70e1450b9f27b0d237ca536b",
            "51e54564e0ca4090a33813d70eb38dfc",
            "db26e8163eb246f0afce1184ce1a15ee",
            "fe6ed31eea134ac7a73cfcb32f457aba",
            "7485aa3b471d4e50b4567694b7a6bfa2",
            "a1d6649898974fd2b73010eb763050dd",
            "4be55e9f27884c5594d4d6a394018eee",
            "eb0939adde314791b1e795be11ef9e56",
            "6a9f9d0eeeba4f0383b25a6a0966a081",
            "0bc28b21b45d493f8b88c8da01474503",
            "1744765b8166400a8778bd821e92ffdb",
            "eba13532c03641a9bb71e4655be6fb6f",
            "cd1e4d30983344c1aa47495aa3fd36ef",
            "7282660258bc4bff8f4bc4a2753ffa96",
            "2145c7430f464a4f80fcc6dc0d2d7adb",
            "5dc797db0c4c44da965049036c387132",
            "1e26ce9253914f49b302f0026af0732f",
            "62c18582a6ad40ab865fad4d29e235df",
            "ed7152d722db4acebe7b05859d50126b",
            "e07bf7156fdb42619f9058f58f4b3994",
            "9e44a4f371174930ac7137ed97fcd388",
            "db7913aafb3042529e3056c6b6d4260d",
            "12d12493e90549428ced2eee4317630a",
            "1e66538f252c47d0a3c7afe8cf93e21c"
          ]
        },
        "id": "DxXA95gL9NKk",
        "outputId": "dc612d8c-deb2-4e58-9ef1-8e065527a561"
      },
      "source": [
        "evaluate_algo(bprModel)"
      ],
      "execution_count": 117,
      "outputs": [
        {
          "output_type": "display_data",
          "data": {
            "application/vnd.jupyter.widget-view+json": {
              "model_id": "149ddbfb0b0f4640953b1c2636a574d6",
              "version_minor": 0,
              "version_major": 2
            },
            "text/plain": [
              "HBox(children=(FloatProgress(value=0.0, max=56097.0), HTML(value='')))"
            ]
          },
          "metadata": {
            "tags": []
          }
        },
        {
          "output_type": "stream",
          "text": [
            "\n"
          ],
          "name": "stdout"
        },
        {
          "output_type": "display_data",
          "data": {
            "application/vnd.jupyter.widget-view+json": {
              "model_id": "1288afae70e1450b9f27b0d237ca536b",
              "version_minor": 0,
              "version_major": 2
            },
            "text/plain": [
              "HBox(children=(FloatProgress(value=0.0, max=56097.0), HTML(value='')))"
            ]
          },
          "metadata": {
            "tags": []
          }
        },
        {
          "output_type": "stream",
          "text": [
            "\n"
          ],
          "name": "stdout"
        },
        {
          "output_type": "display_data",
          "data": {
            "application/vnd.jupyter.widget-view+json": {
              "model_id": "6a9f9d0eeeba4f0383b25a6a0966a081",
              "version_minor": 0,
              "version_major": 2
            },
            "text/plain": [
              "HBox(children=(FloatProgress(value=0.0, max=56097.0), HTML(value='')))"
            ]
          },
          "metadata": {
            "tags": []
          }
        },
        {
          "output_type": "stream",
          "text": [
            "\n"
          ],
          "name": "stdout"
        },
        {
          "output_type": "display_data",
          "data": {
            "application/vnd.jupyter.widget-view+json": {
              "model_id": "1e26ce9253914f49b302f0026af0732f",
              "version_minor": 0,
              "version_major": 2
            },
            "text/plain": [
              "HBox(children=(FloatProgress(value=0.0, max=56097.0), HTML(value='')))"
            ]
          },
          "metadata": {
            "tags": []
          }
        },
        {
          "output_type": "stream",
          "text": [
            "\n",
            "precision at k = 0.0\n",
            "mean absolute precision at k = 0.0\n",
            "ndcg at k = 0.0\n",
            "auc at k = 0.4999187718300706\n"
          ],
          "name": "stdout"
        }
      ]
    },
    {
      "cell_type": "markdown",
      "metadata": {
        "id": "PST9OWyld6Y-"
      },
      "source": [
        "## 3. Logistic Matrix Factorization"
      ]
    },
    {
      "cell_type": "code",
      "metadata": {
        "colab": {
          "base_uri": "https://localhost:8080/"
        },
        "id": "uatQJogReFpP",
        "outputId": "1f1e1988-8614-4ca4-b1d7-494f73b31da5"
      },
      "source": [
        "lmfModel = LMF(factors=128,iterations=40, regularization=1.5, dtype=np.float64)\r\n",
        "lmfModel.fit(test_sample_sparse)"
      ],
      "execution_count": 118,
      "outputs": [
        {
          "output_type": "stream",
          "text": [
            "100%|██████████| 40/40 [00:00<00:00, 802.34it/s]\n"
          ],
          "name": "stderr"
        }
      ]
    },
    {
      "cell_type": "code",
      "metadata": {
        "colab": {
          "base_uri": "https://localhost:8080/",
          "height": 0,
          "referenced_widgets": [
            "e4d2ba17026e4d6793006db21f2dffbb",
            "548cc079bfb741c992e32bcda7f69647",
            "4afe8d8ebadc4b90ae8b40efa7341f48",
            "2ed7f962b2f84baaafc5bb4dceedbc7d",
            "21a57199563e4dd1b5a80945e0bca15b",
            "e04669a804124953b5ca1c5f4ba0b9b0",
            "5718442dd1f5490c9a5585d07822e036",
            "42f63c02f5a64177a5c2c5385e6e9eab",
            "0e8f0a39be3d44fcb0b0754940a836b5",
            "e2ce76c4c5bc4cc59eb6b55233e55339",
            "a28b6c8ccb724b1d81453733c1dd5fab",
            "c1c373a854df4cb5be16c5661a4f5528",
            "fe0c46f7a9b340448b4adcec3e69feca",
            "157d125d80744a84bdc16dd647394c80",
            "93b42d89887a47dd8d0a49d73467d5ff",
            "3ee2526606494243b73a2c08fc05ddbc",
            "0b0025265f71438295a0523d85481a7b",
            "3d3cd83d5ce443c78cccc693f041915e",
            "3b521f3f8114446f91d201c5a0957bf7",
            "2540cbda709047b493c80ad662b91101",
            "b8e87f4f35264c58820da5ce78e81da1",
            "11e76e6ebe1b49b98b3a21930316990c",
            "764457305fa64cfd9d7785f99a0353c2",
            "87e99c2e62ab443c86b45091a8480f61",
            "6a9a09c14e2d467cb28df8ad5862389a",
            "42638d397eef4e74a807656439b3095d",
            "f49a973758d94c7ea72e4d997e1dcfcc",
            "84022162de69419eab20d8beb7b41528",
            "fb819c1fc14c4a1e898115815f9d1c12",
            "51a2b6dd56fb4616916d00d27608d4f8",
            "2d1bb03f079f48a7859d84ff191725ff",
            "4a02132807264d5399753b7ebdb1d64e"
          ]
        },
        "id": "ENomnzF09SdE",
        "outputId": "91dc6d0f-77f2-437b-8012-5e50375f9578"
      },
      "source": [
        "evaluate_algo(lmfModel)"
      ],
      "execution_count": 119,
      "outputs": [
        {
          "output_type": "display_data",
          "data": {
            "application/vnd.jupyter.widget-view+json": {
              "model_id": "e4d2ba17026e4d6793006db21f2dffbb",
              "version_minor": 0,
              "version_major": 2
            },
            "text/plain": [
              "HBox(children=(FloatProgress(value=0.0, max=56097.0), HTML(value='')))"
            ]
          },
          "metadata": {
            "tags": []
          }
        },
        {
          "output_type": "stream",
          "text": [
            "\n"
          ],
          "name": "stdout"
        },
        {
          "output_type": "display_data",
          "data": {
            "application/vnd.jupyter.widget-view+json": {
              "model_id": "0e8f0a39be3d44fcb0b0754940a836b5",
              "version_minor": 0,
              "version_major": 2
            },
            "text/plain": [
              "HBox(children=(FloatProgress(value=0.0, max=56097.0), HTML(value='')))"
            ]
          },
          "metadata": {
            "tags": []
          }
        },
        {
          "output_type": "stream",
          "text": [
            "\n"
          ],
          "name": "stdout"
        },
        {
          "output_type": "display_data",
          "data": {
            "application/vnd.jupyter.widget-view+json": {
              "model_id": "0b0025265f71438295a0523d85481a7b",
              "version_minor": 0,
              "version_major": 2
            },
            "text/plain": [
              "HBox(children=(FloatProgress(value=0.0, max=56097.0), HTML(value='')))"
            ]
          },
          "metadata": {
            "tags": []
          }
        },
        {
          "output_type": "stream",
          "text": [
            "\n"
          ],
          "name": "stdout"
        },
        {
          "output_type": "display_data",
          "data": {
            "application/vnd.jupyter.widget-view+json": {
              "model_id": "6a9a09c14e2d467cb28df8ad5862389a",
              "version_minor": 0,
              "version_major": 2
            },
            "text/plain": [
              "HBox(children=(FloatProgress(value=0.0, max=56097.0), HTML(value='')))"
            ]
          },
          "metadata": {
            "tags": []
          }
        },
        {
          "output_type": "stream",
          "text": [
            "\n",
            "precision at k = 0.0\n",
            "mean absolute precision at k = 0.0\n",
            "ndcg at k = 0.0\n",
            "auc at k = 0.4999187718300707\n"
          ],
          "name": "stdout"
        }
      ]
    },
    {
      "cell_type": "markdown",
      "metadata": {
        "id": "zTFnvW_gY5SR"
      },
      "source": [
        "## 4. SVD++"
      ]
    },
    {
      "cell_type": "markdown",
      "metadata": {
        "id": "-YUEUwkN-Za7"
      },
      "source": [
        "### Utility Functions for Surprise Models"
      ]
    },
    {
      "cell_type": "code",
      "metadata": {
        "id": "-vjgG26CIcX_"
      },
      "source": [
        "def precision_recall_at_k(predictions, k=10, threshold=3.5):\r\n",
        "    '''Return precision and recall at k metrics for each user.'''\r\n",
        "\r\n",
        "    # First map the predictions to each user.\r\n",
        "    user_est_true = defaultdict(list)\r\n",
        "    for uid, _, true_r, est, _ in predictions:\r\n",
        "        user_est_true[uid].append((est, true_r))\r\n",
        "\r\n",
        "    precisions = dict()\r\n",
        "    recalls = dict()\r\n",
        "    for uid, user_ratings in user_est_true.items():\r\n",
        "\r\n",
        "        # Sort user ratings by estimated value\r\n",
        "        user_ratings.sort(key=lambda x: x[0], reverse=True)\r\n",
        "\r\n",
        "        # Number of relevant items\r\n",
        "        n_rel = sum((true_r >= threshold) for (_, true_r) in user_ratings)\r\n",
        "\r\n",
        "        # Number of recommended items in top k\r\n",
        "        n_rec_k = sum((est >= threshold) for (est, _) in user_ratings[:k])\r\n",
        "\r\n",
        "        # Number of relevant and recommended items in top k\r\n",
        "        n_rel_and_rec_k = sum(((true_r >= threshold) and (est >= threshold))\r\n",
        "                              for (est, true_r) in user_ratings[:k])\r\n",
        "\r\n",
        "        # Precision@K: Proportion of recommended items that are relevant\r\n",
        "        precisions[uid] = n_rel_and_rec_k / n_rec_k if n_rec_k != 0 else 1\r\n",
        "\r\n",
        "        # Recall@K: Proportion of relevant items that are recommended\r\n",
        "        recalls[uid] = n_rel_and_rec_k / n_rel if n_rel != 0 else 1\r\n",
        "\r\n",
        "    return precisions, recalls"
      ],
      "execution_count": 75,
      "outputs": []
    },
    {
      "cell_type": "code",
      "metadata": {
        "id": "z0SsoFJ5-Za7"
      },
      "source": [
        "def get_ratings(predictions):\n",
        "    actual = np.array([pred.r_ui for pred in predictions])\n",
        "    predicted = np.array([pred.est for pred in predictions])\n",
        "    return actual, predicted\n",
        "#in surprise prediction of every data point is returned as dictionary like this:\n",
        "#\"user: 196        item: 302        r_ui = 4.00   est = 4.06   {'actual_k': 40, 'was_impossible': False}\"\n",
        "#In this dictionary, \"r_ui\" is a key for actual rating and \"est\" is a key for predicted rating "
      ],
      "execution_count": 76,
      "outputs": []
    },
    {
      "cell_type": "code",
      "metadata": {
        "id": "9-egU3d1-Za7"
      },
      "source": [
        "def get_error(predictions):\n",
        "    actual, predicted = get_ratings(predictions)\n",
        "    rmse = np.sqrt(mean_squared_error(actual, predicted)) \n",
        "    mape = np.mean(abs((actual - predicted)/actual))*100\n",
        "    return rmse, mape"
      ],
      "execution_count": 77,
      "outputs": []
    },
    {
      "cell_type": "code",
      "metadata": {
        "id": "aL7C0kag-Za7"
      },
      "source": [
        "my_seed = 15\n",
        "random.seed(my_seed)\n",
        "np.random.seed(my_seed)\n",
        "\n",
        "def run_surprise(algo, trainset, testset, model_name):\n",
        "    startTime = datetime.now()\n",
        "    \n",
        "    train = dict()\n",
        "    test = dict()\n",
        "    \n",
        "    algo.fit(trainset)\n",
        "    #You can check out above function at \"https://surprise.readthedocs.io/en/stable/getting_started.html\" in \n",
        "    #\"Train-test split and the fit() method\" section\n",
        "    \n",
        "#-----------------Evaluating Train Data------------------#\n",
        "    print(\"-\"*50)\n",
        "    print(\"TRAIN DATA\")\n",
        "    train_pred = algo.test(trainset.build_testset())\n",
        "    #You can check out \"algo.test()\" function at \"https://surprise.readthedocs.io/en/stable/getting_started.html\" in \n",
        "    #\"Train-test split and the fit() method\" section\n",
        "    #You can check out \"trainset.build_testset()\" function at \"https://surprise.readthedocs.io/en/stable/FAQ.html#can-i-use-my-own-dataset-with-surprise-and-can-it-be-a-pandas-dataframe\" in \n",
        "    #\"How to get accuracy measures on the training set\" section\n",
        "    train_actual, train_predicted = get_ratings(train_pred)\n",
        "    train_rmse, train_mape = get_error(train_pred)\n",
        "    print(\"RMSE = {}\".format(train_rmse))\n",
        "    print(\"MAPE = {}\".format(train_mape))\n",
        "    print(\"-\"*50)\n",
        "    train = {\"RMSE\": train_rmse, \"MAPE\": train_mape, \"Prediction\": train_predicted}\n",
        "    \n",
        "#-----------------Evaluating Test Data------------------#\n",
        "    print(\"TEST DATA\")\n",
        "    test_pred = algo.test(testset)\n",
        "    #You can check out \"algo.test()\" function at \"https://surprise.readthedocs.io/en/stable/getting_started.html\" in \n",
        "    #\"Train-test split and the fit() method\" section\n",
        "    test_actual, test_predicted = get_ratings(test_pred)\n",
        "    test_rmse, test_mape = get_error(test_pred)\n",
        "    print(\"RMSE = {}\".format(test_rmse))\n",
        "    print(\"MAPE = {}\".format(test_mape))\n",
        "    print(\"-\"*50)\n",
        "    test = {\"RMSE\": test_rmse, \"MAPE\": test_mape, \"Prediction\": test_predicted}\n",
        "    \n",
        "    print(\"Time Taken = \"+str(datetime.now() - startTime))\n",
        "    \n",
        "    make_table(model_name, train_rmse, train_mape, test_rmse, test_mape)\n",
        "    \n",
        "    return train, test"
      ],
      "execution_count": 78,
      "outputs": []
    },
    {
      "cell_type": "markdown",
      "metadata": {
        "id": "saPUPvCq-ZbE"
      },
      "source": [
        "#### Cross- Validation"
      ]
    },
    {
      "cell_type": "code",
      "metadata": {
        "id": "SVJCGz209xSQ"
      },
      "source": [
        "reader = Reader(rating_scale=(0,1))\r\n",
        "data = Dataset.load_from_df(Train_Data, reader)"
      ],
      "execution_count": 79,
      "outputs": []
    },
    {
      "cell_type": "code",
      "metadata": {
        "id": "N1MqPeOd-ZbE"
      },
      "source": [
        "# #skip this for now :)\n",
        "# param_grid = {'n_factors': [10, 30, 50, 80, 100], 'lr_all': [0.002, 0.006, 0.018, 0.054, 0.10]}\n",
        "\n",
        "# gs = GridSearchCV(SVDpp, param_grid, measures=['rmse', 'mae'], cv=3)\n",
        "\n",
        "# gs.fit(data)\n",
        "\n",
        "# # best RMSE score\n",
        "# print(gs.best_score['rmse'])\n",
        "\n",
        "# # combination of parameters that gave the best RMSE score\n",
        "# print(gs.best_params['rmse'])"
      ],
      "execution_count": 80,
      "outputs": []
    },
    {
      "cell_type": "markdown",
      "metadata": {
        "id": "_iE5B2x9-ZbF"
      },
      "source": [
        "#### Applying SVDpp with best parameters"
      ]
    },
    {
      "cell_type": "code",
      "metadata": {
        "id": "vp7ZFsUcEZTc"
      },
      "source": [
        "trainset = list(zip(Train_Data[\"CustID\"].values, Train_Data[\"MovieID\"].values, Train_Data[\"Ratings\"].values))\r\n",
        "trainset = data.build_full_trainset()"
      ],
      "execution_count": 81,
      "outputs": []
    },
    {
      "cell_type": "code",
      "metadata": {
        "id": "mCecqtdGD17H"
      },
      "source": [
        "testset = list(zip(Test_Data[\"CustID\"].values, Test_Data[\"MovieID\"].values, Test_Data[\"Ratings\"].values))"
      ],
      "execution_count": 82,
      "outputs": []
    },
    {
      "cell_type": "code",
      "metadata": {
        "colab": {
          "base_uri": "https://localhost:8080/"
        },
        "id": "_kWXLw_gFJAA",
        "outputId": "5ed14242-cd7b-470b-cc96-538903b13500"
      },
      "source": [
        "testset[9:15]"
      ],
      "execution_count": 83,
      "outputs": [
        {
          "output_type": "execute_result",
          "data": {
            "text/plain": [
              "[(9484, 36489, 1),\n",
              " (47217, 26291, 3),\n",
              " (44041, 16093, 1),\n",
              " (8242, 5895, 1),\n",
              " (54650, 57431, 1),\n",
              " (6098, 47233, 1)]"
            ]
          },
          "metadata": {
            "tags": []
          },
          "execution_count": 83
        }
      ]
    },
    {
      "cell_type": "code",
      "metadata": {
        "colab": {
          "base_uri": "https://localhost:8080/"
        },
        "id": "dDvm7lX8-ZbF",
        "outputId": "8f5a4dea-49d0-4f5f-8b60-347b0f4110f7"
      },
      "source": [
        "# algo = SVDpp(n_factors = gs.best_params['rmse']['n_factors'], lr_all = gs.best_params['rmse'][\"lr_all\"], verbose=True)\n",
        "algo = SVDpp(n_factors = 20, lr_all = 0.05, verbose=True)\n",
        "\n",
        "train_result, test_result = run_surprise(algo, trainset, testset, \"SVDpp\")\n",
        "\n",
        "model_train_evaluation[\"SVDpp\"] = train_result\n",
        "model_test_evaluation[\"SVDpp\"] = test_result"
      ],
      "execution_count": 84,
      "outputs": [
        {
          "output_type": "stream",
          "text": [
            " processing epoch 0\n",
            " processing epoch 1\n",
            " processing epoch 2\n",
            " processing epoch 3\n",
            " processing epoch 4\n",
            " processing epoch 5\n",
            " processing epoch 6\n",
            " processing epoch 7\n",
            " processing epoch 8\n",
            " processing epoch 9\n",
            " processing epoch 10\n",
            " processing epoch 11\n",
            " processing epoch 12\n",
            " processing epoch 13\n",
            " processing epoch 14\n",
            " processing epoch 15\n",
            " processing epoch 16\n",
            " processing epoch 17\n",
            " processing epoch 18\n",
            " processing epoch 19\n",
            "--------------------------------------------------\n",
            "TRAIN DATA\n",
            "RMSE = 1.486104825768427\n",
            "MAPE = 9.389296754405448\n",
            "--------------------------------------------------\n",
            "TEST DATA\n",
            "RMSE = 1.3809055000252553\n",
            "MAPE = 9.51133809168629\n",
            "--------------------------------------------------\n",
            "Time Taken = 0:00:25.596235\n"
          ],
          "name": "stdout"
        }
      ]
    },
    {
      "cell_type": "markdown",
      "metadata": {
        "id": "LsXzMx6_KRVC"
      },
      "source": [
        "#### evaluate SVD++ with AUC"
      ]
    },
    {
      "cell_type": "code",
      "metadata": {
        "colab": {
          "base_uri": "https://localhost:8080/"
        },
        "id": "E0SrqEu2IpRr",
        "outputId": "bf2f3d9a-6d7c-4be0-f2d9-40ce047a4b53"
      },
      "source": [
        "prec_to_ave = []\r\n",
        "rec_to_ave = []\r\n",
        "kf = KFold(n_splits=5)\r\n",
        "predictions = algo.test(testset)\r\n",
        "\r\n",
        "for trainset, testset in kf.split(data):\r\n",
        "    algo.fit(trainset)\r\n",
        "    predictions = algo.test(testset)\r\n",
        "    precisions, recalls = precision_recall_at_k(predictions, k=5, threshold=4)\r\n",
        "\r\n",
        "    # Precision and recall can then be averaged over all users\r\n",
        "    \r\n",
        "    prec_to_ave.append(sum(prec for prec in precisions.values()) / len(precisions))\r\n",
        "    rec_to_ave.append(sum(rec for rec in recalls.values()) / len(recalls))"
      ],
      "execution_count": 85,
      "outputs": [
        {
          "output_type": "stream",
          "text": [
            " processing epoch 0\n",
            " processing epoch 1\n",
            " processing epoch 2\n",
            " processing epoch 3\n",
            " processing epoch 4\n",
            " processing epoch 5\n",
            " processing epoch 6\n",
            " processing epoch 7\n",
            " processing epoch 8\n",
            " processing epoch 9\n",
            " processing epoch 10\n",
            " processing epoch 11\n",
            " processing epoch 12\n",
            " processing epoch 13\n",
            " processing epoch 14\n",
            " processing epoch 15\n",
            " processing epoch 16\n",
            " processing epoch 17\n",
            " processing epoch 18\n",
            " processing epoch 19\n",
            " processing epoch 0\n",
            " processing epoch 1\n",
            " processing epoch 2\n",
            " processing epoch 3\n",
            " processing epoch 4\n",
            " processing epoch 5\n",
            " processing epoch 6\n",
            " processing epoch 7\n",
            " processing epoch 8\n",
            " processing epoch 9\n",
            " processing epoch 10\n",
            " processing epoch 11\n",
            " processing epoch 12\n",
            " processing epoch 13\n",
            " processing epoch 14\n",
            " processing epoch 15\n",
            " processing epoch 16\n",
            " processing epoch 17\n",
            " processing epoch 18\n",
            " processing epoch 19\n",
            " processing epoch 0\n",
            " processing epoch 1\n",
            " processing epoch 2\n",
            " processing epoch 3\n",
            " processing epoch 4\n",
            " processing epoch 5\n",
            " processing epoch 6\n",
            " processing epoch 7\n",
            " processing epoch 8\n",
            " processing epoch 9\n",
            " processing epoch 10\n",
            " processing epoch 11\n",
            " processing epoch 12\n",
            " processing epoch 13\n",
            " processing epoch 14\n",
            " processing epoch 15\n",
            " processing epoch 16\n",
            " processing epoch 17\n",
            " processing epoch 18\n",
            " processing epoch 19\n",
            " processing epoch 0\n",
            " processing epoch 1\n",
            " processing epoch 2\n",
            " processing epoch 3\n",
            " processing epoch 4\n",
            " processing epoch 5\n",
            " processing epoch 6\n",
            " processing epoch 7\n",
            " processing epoch 8\n",
            " processing epoch 9\n",
            " processing epoch 10\n",
            " processing epoch 11\n",
            " processing epoch 12\n",
            " processing epoch 13\n",
            " processing epoch 14\n",
            " processing epoch 15\n",
            " processing epoch 16\n",
            " processing epoch 17\n",
            " processing epoch 18\n",
            " processing epoch 19\n",
            " processing epoch 0\n",
            " processing epoch 1\n",
            " processing epoch 2\n",
            " processing epoch 3\n",
            " processing epoch 4\n",
            " processing epoch 5\n",
            " processing epoch 6\n",
            " processing epoch 7\n",
            " processing epoch 8\n",
            " processing epoch 9\n",
            " processing epoch 10\n",
            " processing epoch 11\n",
            " processing epoch 12\n",
            " processing epoch 13\n",
            " processing epoch 14\n",
            " processing epoch 15\n",
            " processing epoch 16\n",
            " processing epoch 17\n",
            " processing epoch 18\n",
            " processing epoch 19\n"
          ],
          "name": "stdout"
        }
      ]
    },
    {
      "cell_type": "code",
      "metadata": {
        "id": "SOOYElwTI8Uh"
      },
      "source": [
        "def make_binary_tpr_fpr(predictions, threshold=3.5):\r\n",
        "    pred_df = pd.DataFrame(predictions)\r\n",
        "    pred_df['r_ui'].where(pred_df['r_ui']>threshold, 1, inplace=True)\r\n",
        "    pred_df['r_ui'].where(pred_df['r_ui']<=threshold, 0, inplace=True)\r\n",
        "    \r\n",
        "    pred_df['est'].where(pred_df['est']>threshold, 1, inplace=True)\r\n",
        "    pred_df['est'].where(pred_df['est']<=threshold, 0, inplace=True)\r\n",
        "\r\n",
        "    return pred_df['r_ui'], pred_df['est'], \r\n",
        "\r\n",
        "true_r, est = make_binary_tpr_fpr(predictions)"
      ],
      "execution_count": 86,
      "outputs": []
    },
    {
      "cell_type": "code",
      "metadata": {
        "id": "9sxjYoG0JBqa"
      },
      "source": [
        "fpr, tpr, thresholds = roc_curve(true_r, est)\r\n",
        "svdauc = auc(fpr, tpr)"
      ],
      "execution_count": 87,
      "outputs": []
    },
    {
      "cell_type": "code",
      "metadata": {
        "id": "rMZ2t1CTI3wI"
      },
      "source": [
        "def graph_roc (true_r, est):\r\n",
        "    plt.plot(fpr,tpr, '-')\r\n",
        "    plt.ylabel(\"FPR/Precision Scores\")\r\n",
        "    plt.xlabel(\"TPR/Recall Scores\")\r\n",
        "    plt.title(\"ROC Scores and Auc of \" + str(svdauc))\r\n",
        "    plt.show()"
      ],
      "execution_count": 88,
      "outputs": []
    },
    {
      "cell_type": "code",
      "metadata": {
        "colab": {
          "base_uri": "https://localhost:8080/",
          "height": 295
        },
        "id": "osYE447cJZYO",
        "outputId": "4c587c57-4ae3-4d9d-eafc-54b0c31497c2"
      },
      "source": [
        "graph_roc(true_r, est)"
      ],
      "execution_count": 89,
      "outputs": [
        {
          "output_type": "display_data",
          "data": {
            "image/png": "[encoded data removed]",
            "text/plain": [
              "<Figure size 432x288 with 1 Axes>"
            ]
          },
          "metadata": {
            "tags": []
          }
        }
      ]
    },
    {
      "cell_type": "code",
      "metadata": {
        "colab": {
          "base_uri": "https://localhost:8080/"
        },
        "id": "Gpkx7Jg-NPYn",
        "outputId": "a463e18c-6043-4b42-de33-f41f842b9c0f"
      },
      "source": [
        "svdauc"
      ],
      "execution_count": 90,
      "outputs": [
        {
          "output_type": "execute_result",
          "data": {
            "text/plain": [
              "0.5"
            ]
          },
          "metadata": {
            "tags": []
          },
          "execution_count": 90
        }
      ]
    },
    {
      "cell_type": "markdown",
      "metadata": {
        "id": "ffzFYXX0-ZbH"
      },
      "source": [
        "## Summary"
      ]
    },
    {
      "cell_type": "code",
      "metadata": {
        "id": "Ac0S0sn_-ZbH"
      },
      "source": [
        "error_table2 = error_table.drop([\"Train MAPE\", \"Test MAPE\"], axis = 1)"
      ],
      "execution_count": 91,
      "outputs": []
    },
    {
      "cell_type": "code",
      "metadata": {
        "colab": {
          "base_uri": "https://localhost:8080/",
          "height": 558
        },
        "id": "IQ82ZoT9-ZbI",
        "outputId": "1fbd6fc9-3bc3-4ad1-f6e5-0dc034021caa"
      },
      "source": [
        "error_table2.plot(x = \"Model\", kind = \"bar\", figsize = (14, 8), grid = True, fontsize = 15)\n",
        "plt.title(\"Train and Test RMSE and MAPE of all Models\", fontsize = 20)\n",
        "plt.ylabel(\"Error Values\", fontsize = 20)\n",
        "plt.legend(bbox_to_anchor=(1, 1), fontsize = 20)\n",
        "plt.show()"
      ],
      "execution_count": 92,
      "outputs": [
        {
          "output_type": "display_data",
          "data": {
            "image/png": "[encoded data removed]",
            "text/plain": [
              "<Figure size 1008x576 with 1 Axes>"
            ]
          },
          "metadata": {
            "tags": []
          }
        }
      ]
    },
    {
      "cell_type": "code",
      "metadata": {
        "colab": {
          "base_uri": "https://localhost:8080/",
          "height": 58
        },
        "id": "tDsCEXUt-ZbI",
        "outputId": "3a61790a-7580-4e50-97b5-1c2f19540632"
      },
      "source": [
        "error_table.drop([\"Train MAPE\", \"Test MAPE\"], axis = 1).style.highlight_min(axis=0)"
      ],
      "execution_count": 93,
      "outputs": [
        {
          "output_type": "execute_result",
          "data": {
            "text/html": [
              "<style  type=\"text/css\" >\n",
              "#T_fceba646_87fb_11eb_8f28_0242ac1c0002row0_col1,#T_fceba646_87fb_11eb_8f28_0242ac1c0002row0_col2{\n",
              "            background-color:  yellow;\n",
              "        }</style><table id=\"T_fceba646_87fb_11eb_8f28_0242ac1c0002\" ><thead>    <tr>        <th class=\"blank level0\" ></th>        <th class=\"col_heading level0 col0\" >Model</th>        <th class=\"col_heading level0 col1\" >Train RMSE</th>        <th class=\"col_heading level0 col2\" >Test RMSE</th>    </tr></thead><tbody>\n",
              "                <tr>\n",
              "                        <th id=\"T_fceba646_87fb_11eb_8f28_0242ac1c0002level0_row0\" class=\"row_heading level0 row0\" >0</th>\n",
              "                        <td id=\"T_fceba646_87fb_11eb_8f28_0242ac1c0002row0_col0\" class=\"data row0 col0\" >SVDpp</td>\n",
              "                        <td id=\"T_fceba646_87fb_11eb_8f28_0242ac1c0002row0_col1\" class=\"data row0 col1\" >1.486105</td>\n",
              "                        <td id=\"T_fceba646_87fb_11eb_8f28_0242ac1c0002row0_col2\" class=\"data row0 col2\" >1.380906</td>\n",
              "            </tr>\n",
              "    </tbody></table>"
            ],
            "text/plain": [
              "<pandas.io.formats.style.Styler at 0x7f14cef6b5d0>"
            ]
          },
          "metadata": {
            "tags": []
          },
          "execution_count": 93
        }
      ]
    },
    {
      "cell_type": "markdown",
      "metadata": {
        "id": "41WIhDCA-ZbI"
      },
      "source": [
        "# So, far our best model is SVDpp with Test RMSE of 1.067583"
      ]
    }
  ]
}